{
 "cells": [
  {
   "cell_type": "code",
   "execution_count": 79,
   "metadata": {},
   "outputs": [],
   "source": [
    "%matplotlib inline\n",
    "import pandas as pd\n",
    "from sklearn.linear_model import LinearRegression\n",
    "from sklearn.model_selection import train_test_split\n",
    "from sklearn.metrics import balanced_accuracy_score,confusion_matrix\n",
    "from sklearn.datasets import make_regression\n",
    "import matplotlib.pyplot as plt\n",
    "import numpy as np\n",
    "# from imblearn.metrics import classification_report_imbalanced"
   ]
  },
  {
   "cell_type": "code",
   "execution_count": 80,
   "metadata": {},
   "outputs": [],
   "source": [
    "# reading the csv file\n",
    "df = pd.read_csv('CSV_files/business_2.csv')"
   ]
  },
  {
   "cell_type": "code",
   "execution_count": 81,
   "metadata": {},
   "outputs": [
    {
     "data": {
      "text/html": [
       "<div>\n",
       "<style scoped>\n",
       "    .dataframe tbody tr th:only-of-type {\n",
       "        vertical-align: middle;\n",
       "    }\n",
       "\n",
       "    .dataframe tbody tr th {\n",
       "        vertical-align: top;\n",
       "    }\n",
       "\n",
       "    .dataframe thead th {\n",
       "        text-align: right;\n",
       "    }\n",
       "</style>\n",
       "<table border=\"1\" class=\"dataframe\">\n",
       "  <thead>\n",
       "    <tr style=\"text-align: right;\">\n",
       "      <th></th>\n",
       "      <th>Business_ID</th>\n",
       "      <th>Business_Name</th>\n",
       "      <th>City</th>\n",
       "      <th>State</th>\n",
       "      <th>Postal_Code</th>\n",
       "      <th>Latitude</th>\n",
       "      <th>Longitude</th>\n",
       "      <th>Star_Rating</th>\n",
       "      <th>Review_Count</th>\n",
       "      <th>Delivery</th>\n",
       "      <th>Takeout</th>\n",
       "      <th>Outdoor_Dining</th>\n",
       "      <th>Vegetarian_Options</th>\n",
       "      <th>Free_Wi-Fi</th>\n",
       "    </tr>\n",
       "  </thead>\n",
       "  <tbody>\n",
       "    <tr>\n",
       "      <th>0</th>\n",
       "      <td>ZNO65CCW4TD</td>\n",
       "      <td>Lacinia Corporation</td>\n",
       "      <td>Tampa</td>\n",
       "      <td>AL</td>\n",
       "      <td>76213</td>\n",
       "      <td>-37.836508</td>\n",
       "      <td>41.971212</td>\n",
       "      <td>3</td>\n",
       "      <td>4093</td>\n",
       "      <td>0</td>\n",
       "      <td>1</td>\n",
       "      <td>1</td>\n",
       "      <td>1</td>\n",
       "      <td>0</td>\n",
       "    </tr>\n",
       "    <tr>\n",
       "      <th>1</th>\n",
       "      <td>GAI81BTJ6QV</td>\n",
       "      <td>Blandit Enim Consequat Limited</td>\n",
       "      <td>Cheyenne</td>\n",
       "      <td>HI</td>\n",
       "      <td>53735</td>\n",
       "      <td>18.400926</td>\n",
       "      <td>66.813898</td>\n",
       "      <td>5</td>\n",
       "      <td>5772</td>\n",
       "      <td>0</td>\n",
       "      <td>0</td>\n",
       "      <td>1</td>\n",
       "      <td>1</td>\n",
       "      <td>0</td>\n",
       "    </tr>\n",
       "    <tr>\n",
       "      <th>2</th>\n",
       "      <td>MTV71RYU9RT</td>\n",
       "      <td>Purus Mauris LLC</td>\n",
       "      <td>Houston</td>\n",
       "      <td>OK</td>\n",
       "      <td>48415</td>\n",
       "      <td>89.580241</td>\n",
       "      <td>90.895710</td>\n",
       "      <td>2</td>\n",
       "      <td>2765</td>\n",
       "      <td>1</td>\n",
       "      <td>1</td>\n",
       "      <td>1</td>\n",
       "      <td>0</td>\n",
       "      <td>0</td>\n",
       "    </tr>\n",
       "    <tr>\n",
       "      <th>3</th>\n",
       "      <td>NSI31NDI7MR</td>\n",
       "      <td>Est Congue Incorporated</td>\n",
       "      <td>Gary</td>\n",
       "      <td>VA</td>\n",
       "      <td>77501</td>\n",
       "      <td>-68.639357</td>\n",
       "      <td>159.124139</td>\n",
       "      <td>3</td>\n",
       "      <td>15</td>\n",
       "      <td>1</td>\n",
       "      <td>0</td>\n",
       "      <td>0</td>\n",
       "      <td>1</td>\n",
       "      <td>1</td>\n",
       "    </tr>\n",
       "    <tr>\n",
       "      <th>4</th>\n",
       "      <td>QTQ77ENH7PJ</td>\n",
       "      <td>Adipiscing LLC</td>\n",
       "      <td>Frankfort</td>\n",
       "      <td>PA</td>\n",
       "      <td>63623</td>\n",
       "      <td>-43.536529</td>\n",
       "      <td>-24.906741</td>\n",
       "      <td>4</td>\n",
       "      <td>7514</td>\n",
       "      <td>0</td>\n",
       "      <td>1</td>\n",
       "      <td>0</td>\n",
       "      <td>0</td>\n",
       "      <td>1</td>\n",
       "    </tr>\n",
       "  </tbody>\n",
       "</table>\n",
       "</div>"
      ],
      "text/plain": [
       "   Business_ID                   Business_Name       City State  Postal_Code  \\\n",
       "0  ZNO65CCW4TD             Lacinia Corporation      Tampa    AL        76213   \n",
       "1  GAI81BTJ6QV  Blandit Enim Consequat Limited   Cheyenne    HI        53735   \n",
       "2  MTV71RYU9RT                Purus Mauris LLC    Houston    OK        48415   \n",
       "3  NSI31NDI7MR         Est Congue Incorporated       Gary    VA        77501   \n",
       "4  QTQ77ENH7PJ                  Adipiscing LLC  Frankfort    PA        63623   \n",
       "\n",
       "    Latitude   Longitude  Star_Rating  Review_Count  Delivery  Takeout  \\\n",
       "0 -37.836508   41.971212            3          4093         0        1   \n",
       "1  18.400926   66.813898            5          5772         0        0   \n",
       "2  89.580241   90.895710            2          2765         1        1   \n",
       "3 -68.639357  159.124139            3            15         1        0   \n",
       "4 -43.536529  -24.906741            4          7514         0        1   \n",
       "\n",
       "   Outdoor_Dining  Vegetarian_Options  Free_Wi-Fi  \n",
       "0               1                   1           0  \n",
       "1               1                   1           0  \n",
       "2               1                   0           0  \n",
       "3               0                   1           1  \n",
       "4               0                   0           1  "
      ]
     },
     "execution_count": 81,
     "metadata": {},
     "output_type": "execute_result"
    }
   ],
   "source": [
    "df.head()"
   ]
  },
  {
   "cell_type": "markdown",
   "metadata": {},
   "source": [
    "Multiple Linear Regression"
   ]
  },
  {
   "cell_type": "code",
   "execution_count": 82,
   "metadata": {},
   "outputs": [],
   "source": [
    "# setting up independent and dependent variables for linear regression model\n",
    "X = df[['Delivery', 'Takeout', 'Outdoor_Dining', 'Vegetarian_Options', 'Free_Wi-Fi']]\n",
    "y = df['Star_Rating']"
   ]
  },
  {
   "cell_type": "code",
   "execution_count": 83,
   "metadata": {},
   "outputs": [
    {
     "name": "stdout",
     "output_type": "stream",
     "text": [
      "2250 2250 750 750 3000 3000\n"
     ]
    }
   ],
   "source": [
    "# splitting the data into training and testing data and checking the accuracy of the model\n",
    "X_train, X_test, y_train, y_test = train_test_split(X, y, random_state=1)\n",
    "print (len(X_train), len(y_train), len(X_test), len(y_test), len(X), len(y))"
   ]
  },
  {
   "cell_type": "code",
   "execution_count": 84,
   "metadata": {},
   "outputs": [
    {
     "data": {
      "text/plain": [
       "LinearRegression()"
      ]
     },
     "execution_count": 84,
     "metadata": {},
     "output_type": "execute_result"
    }
   ],
   "source": [
    "# fitting the model with the training data\n",
    "regr = linear_model.LinearRegression()\n",
    "regr.fit(X_train, y_train)"
   ]
  },
  {
   "cell_type": "code",
   "execution_count": 85,
   "metadata": {},
   "outputs": [
    {
     "name": "stdout",
     "output_type": "stream",
     "text": [
      "There were 750 predicted star ratings.\n",
      "The predicted star ratings are:\n"
     ]
    },
    {
     "data": {
      "text/plain": [
       "array([3.03516299, 2.86985509, 2.93170622, 3.12201603, 3.07829076,\n",
       "       2.90505255, 2.96690369, 2.91524812, 3.07829076, 2.95670812,\n",
       "       2.91358036, 3.07036046, 2.96690369, 3.11182046, 2.95897339,\n",
       "       2.88005065, 3.02663519, 2.98124215, 3.07036046, 2.96523593,\n",
       "       3.12201603, 3.02663519, 2.90505255, 3.04309329, 2.96523593,\n",
       "       2.99143772, 3.01643962, 2.96690369, 2.90505255, 3.08681856,\n",
       "       2.98124215, 3.01062896, 3.06809519, 2.91524812, 2.96523593,\n",
       "       3.04309329, 2.96523593, 2.95670812, 3.07829076, 2.93170622,\n",
       "       3.06809519, 3.076623  , 3.11182046, 3.06809519, 3.03516299,\n",
       "       3.0601649 , 3.08681856, 2.88005065, 2.90505255, 2.91524812,\n",
       "       3.12201603, 3.02663519, 2.91524812, 2.92377593, 3.06809519,\n",
       "       2.86985509, 2.88005065, 2.94877783, 3.11182046, 2.92151065,\n",
       "       2.86985509, 2.98124215, 3.12201603, 3.07036046, 3.08681856,\n",
       "       3.02496743, 3.0004334 , 3.07036046, 3.02663519, 3.01062896,\n",
       "       3.11182046, 2.99143772, 3.11182046, 2.97543149, 3.04309329,\n",
       "       2.98124215, 2.96523593, 3.0601649 , 3.03516299, 3.01643962,\n",
       "       3.03516299, 2.90505255, 3.08681856, 2.97543149, 2.95897339,\n",
       "       3.02663519, 2.95670812, 3.12201603, 3.076623  , 2.95670812,\n",
       "       3.02663519, 2.91358036, 2.86985509, 2.96523593, 2.90505255,\n",
       "       3.03516299, 2.88005065, 2.88005065, 3.03516299, 3.01062896,\n",
       "       2.86985509, 2.92377593, 2.92377593, 3.03516299, 3.02663519,\n",
       "       3.07036046, 2.97543149, 3.02496743, 3.0004334 , 3.02496743,\n",
       "       2.96523593, 2.99143772, 3.11182046, 2.91358036, 3.03289772,\n",
       "       3.02663519, 2.90505255, 2.90505255, 2.99143772, 3.076623  ,\n",
       "       3.08681856, 2.91524812, 2.91358036, 2.90505255, 2.91524812,\n",
       "       3.07829076, 2.93170622, 2.98124215, 2.91524812, 2.90505255,\n",
       "       3.07036046, 3.0601649 , 3.076623  , 3.01062896, 3.01643962,\n",
       "       2.91524812, 2.90505255, 2.95670812, 2.91358036, 2.97543149,\n",
       "       2.96690369, 3.03289772, 3.0004334 , 2.86985509, 3.07829076,\n",
       "       2.96523593, 2.91358036, 3.01062896, 3.12201603, 3.02663519,\n",
       "       3.01062896, 3.0601649 , 3.0601649 , 3.08681856, 3.02663519,\n",
       "       3.03289772, 3.02663519, 2.92151065, 2.95897339, 3.04309329,\n",
       "       3.11182046, 3.02663519, 3.0601649 , 3.07036046, 2.99143772,\n",
       "       3.12201603, 2.92377593, 3.01062896, 2.86985509, 2.95670812,\n",
       "       2.95670812, 3.01062896, 3.06809519, 3.07829076, 2.86985509,\n",
       "       3.08681856, 2.94877783, 3.08681856, 2.96523593, 2.98124215,\n",
       "       2.90505255, 2.97543149, 3.03289772, 3.01643962, 3.12201603,\n",
       "       3.07829076, 3.04309329, 3.07036046, 3.04309329, 2.91524812,\n",
       "       3.11182046, 3.03516299, 3.0004334 , 2.90505255, 3.03516299,\n",
       "       2.91358036, 3.11182046, 2.88005065, 3.0601649 , 2.95670812,\n",
       "       3.07036046, 3.0004334 , 2.97543149, 2.91358036, 3.11182046,\n",
       "       3.07829076, 2.91358036, 2.92151065, 2.90505255, 3.02663519,\n",
       "       2.97543149, 2.90505255, 3.0004334 , 3.07036046, 3.076623  ,\n",
       "       3.03289772, 3.02663519, 3.12201603, 2.90505255, 2.96523593,\n",
       "       3.08681856, 2.86985509, 3.06809519, 3.12201603, 3.0004334 ,\n",
       "       3.12201603, 3.01062896, 2.88005065, 2.91524812, 3.01643962,\n",
       "       3.02663519, 3.06809519, 3.02496743, 3.0601649 , 2.86985509,\n",
       "       2.93170622, 2.94877783, 2.95670812, 3.02496743, 2.91358036,\n",
       "       2.95670812, 2.99143772, 3.03516299, 2.90505255, 3.03289772,\n",
       "       3.12201603, 2.95897339, 2.88005065, 3.0601649 , 3.04309329,\n",
       "       2.91358036, 3.03289772, 3.11182046, 2.95670812, 3.07036046,\n",
       "       2.88005065, 2.86985509, 2.97543149, 3.07036046, 3.03516299,\n",
       "       3.0601649 , 3.02496743, 2.93170622, 3.01643962, 2.98124215,\n",
       "       3.01643962, 2.88005065, 2.93170622, 3.02663519, 3.076623  ,\n",
       "       3.03289772, 2.86985509, 3.0601649 , 2.94877783, 3.03289772,\n",
       "       3.01062896, 2.92151065, 3.02663519, 2.96690369, 2.93170622,\n",
       "       3.03289772, 2.92377593, 2.96523593, 3.02496743, 2.98124215,\n",
       "       2.91524812, 2.93170622, 3.07829076, 2.95670812, 2.93170622,\n",
       "       2.95670812, 3.08681856, 3.0004334 , 3.0004334 , 3.02663519,\n",
       "       3.04309329, 3.076623  , 2.94877783, 2.86985509, 3.02496743,\n",
       "       3.12201603, 3.02663519, 2.94877783, 3.07829076, 2.93170622,\n",
       "       2.95897339, 3.01062896, 2.91524812, 2.88005065, 3.0601649 ,\n",
       "       2.98124215, 3.076623  , 2.92377593, 2.88005065, 2.96690369,\n",
       "       2.95897339, 3.11182046, 3.02663519, 3.0601649 , 2.91524812,\n",
       "       2.86985509, 3.04309329, 2.94877783, 3.07829076, 3.06809519,\n",
       "       3.01643962, 3.02663519, 2.92377593, 3.0004334 , 2.92377593,\n",
       "       2.92151065, 3.11182046, 3.12201603, 2.92377593, 3.0601649 ,\n",
       "       3.07829076, 3.08681856, 2.97543149, 2.98124215, 3.076623  ,\n",
       "       3.11182046, 2.90505255, 3.02663519, 2.93170622, 2.86985509,\n",
       "       2.92377593, 2.92151065, 2.90505255, 3.01643962, 2.93170622,\n",
       "       3.07829076, 2.92377593, 2.96690369, 3.01643962, 2.96690369,\n",
       "       3.07829076, 3.07036046, 2.98124215, 2.92151065, 3.07036046,\n",
       "       2.86985509, 2.93170622, 2.88005065, 2.96690369, 2.92377593,\n",
       "       3.12201603, 2.95897339, 2.98124215, 2.88005065, 2.96523593,\n",
       "       3.01062896, 2.99143772, 3.0004334 , 2.96690369, 2.92377593,\n",
       "       2.96523593, 2.88005065, 3.02496743, 3.02496743, 3.0004334 ,\n",
       "       3.08681856, 3.03289772, 3.02663519, 2.90505255, 3.01062896,\n",
       "       2.91358036, 2.99143772, 3.01062896, 3.0004334 , 2.95670812,\n",
       "       2.96523593, 3.08681856, 3.0601649 , 3.08681856, 2.92151065,\n",
       "       2.99143772, 3.11182046, 3.07036046, 3.03516299, 3.07829076,\n",
       "       2.90505255, 3.02496743, 3.06809519, 3.02663519, 3.0601649 ,\n",
       "       2.92151065, 3.02496743, 2.91524812, 3.04309329, 2.90505255,\n",
       "       3.01643962, 2.95897339, 2.92151065, 3.06809519, 2.99143772,\n",
       "       3.03516299, 2.94877783, 3.03289772, 3.04309329, 3.08681856,\n",
       "       3.07829076, 3.06809519, 3.08681856, 3.12201603, 2.88005065,\n",
       "       2.96690369, 2.97543149, 3.0004334 , 2.99143772, 3.11182046,\n",
       "       2.92377593, 3.02663519, 3.02496743, 2.98124215, 2.93170622,\n",
       "       2.91524812, 2.99143772, 3.03516299, 3.02496743, 3.01643962,\n",
       "       3.07036046, 3.01062896, 2.91524812, 2.98124215, 3.03516299,\n",
       "       2.93170622, 3.02663519, 2.92377593, 3.01643962, 2.92151065,\n",
       "       3.01062896, 2.95670812, 3.01062896, 2.88005065, 3.076623  ,\n",
       "       2.90505255, 2.88005065, 3.06809519, 3.08681856, 2.86985509,\n",
       "       2.99143772, 2.95897339, 3.12201603, 2.92377593, 2.91358036,\n",
       "       3.02496743, 3.11182046, 2.96690369, 2.99143772, 3.076623  ,\n",
       "       3.03289772, 3.01643962, 2.96690369, 3.07036046, 2.90505255,\n",
       "       3.0601649 , 3.07829076, 3.0601649 , 3.02496743, 3.02663519,\n",
       "       2.91358036, 2.91358036, 3.01062896, 2.88005065, 3.08681856,\n",
       "       2.93170622, 3.01643962, 3.03289772, 3.0004334 , 3.12201603,\n",
       "       3.03516299, 2.91358036, 3.02663519, 2.91524812, 3.07829076,\n",
       "       2.97543149, 2.92377593, 3.0004334 , 2.99143772, 3.076623  ,\n",
       "       3.03289772, 3.07036046, 3.01643962, 3.11182046, 2.97543149,\n",
       "       3.12201603, 3.01643962, 2.93170622, 3.01643962, 3.01062896,\n",
       "       2.96523593, 3.01643962, 2.96523593, 3.06809519, 3.07036046,\n",
       "       3.076623  , 2.97543149, 3.02496743, 2.86985509, 3.07036046,\n",
       "       3.06809519, 2.93170622, 2.97543149, 2.99143772, 3.076623  ,\n",
       "       2.98124215, 2.95897339, 3.01062896, 3.06809519, 3.076623  ,\n",
       "       3.03289772, 3.06809519, 2.88005065, 3.04309329, 2.98124215,\n",
       "       2.95897339, 3.02496743, 2.90505255, 3.0601649 , 3.03516299,\n",
       "       3.076623  , 3.11182046, 3.0601649 , 3.11182046, 3.076623  ,\n",
       "       2.99143772, 2.90505255, 3.076623  , 3.12201603, 3.02663519,\n",
       "       3.0601649 , 2.86985509, 3.08681856, 3.01643962, 2.88005065,\n",
       "       3.01062896, 3.01062896, 3.11182046, 2.95897339, 2.96690369,\n",
       "       3.0004334 , 3.04309329, 2.98124215, 2.94877783, 2.95670812,\n",
       "       3.02496743, 3.03289772, 2.97543149, 3.01062896, 3.01062896,\n",
       "       2.91524812, 3.07036046, 2.98124215, 3.03289772, 2.92151065,\n",
       "       3.02496743, 3.07036046, 2.96523593, 3.0601649 , 2.91358036,\n",
       "       2.91358036, 2.96690369, 3.076623  , 2.92151065, 3.11182046,\n",
       "       2.88005065, 3.01643962, 3.01643962, 3.07036046, 3.08681856,\n",
       "       2.88005065, 3.02496743, 2.93170622, 3.11182046, 2.92151065,\n",
       "       3.08681856, 2.96690369, 3.08681856, 3.01062896, 3.03289772,\n",
       "       3.04309329, 2.92151065, 2.95670812, 2.96690369, 2.97543149,\n",
       "       3.06809519, 2.94877783, 2.99143772, 2.88005065, 2.91524812,\n",
       "       3.01643962, 3.08681856, 2.91524812, 3.12201603, 2.96690369,\n",
       "       3.07829076, 2.95670812, 2.93170622, 2.94877783, 3.01643962,\n",
       "       2.95670812, 3.03516299, 2.95897339, 2.95670812, 2.90505255,\n",
       "       2.91524812, 2.92151065, 3.11182046, 3.08681856, 2.98124215,\n",
       "       3.07829076, 3.076623  , 2.95897339, 3.076623  , 3.06809519,\n",
       "       3.0601649 , 2.90505255, 3.08681856, 3.03289772, 2.95670812,\n",
       "       2.99143772, 3.07829076, 2.94877783, 2.93170622, 2.98124215,\n",
       "       2.98124215, 2.99143772, 2.88005065, 3.07829076, 3.11182046,\n",
       "       2.92377593, 3.07829076, 3.0004334 , 2.90505255, 2.86985509,\n",
       "       3.06809519, 2.92377593, 2.86985509, 3.06809519, 3.11182046,\n",
       "       3.04309329, 2.95897339, 2.91524812, 2.95670812, 2.92151065,\n",
       "       2.91524812, 2.95897339, 2.91524812, 3.0004334 , 3.076623  ,\n",
       "       2.96690369, 2.92151065, 2.94877783, 3.08681856, 3.03289772,\n",
       "       3.0601649 , 2.86985509, 2.98124215, 2.96523593, 3.12201603,\n",
       "       3.06809519, 3.07829076, 2.91358036, 2.88005065, 2.98124215,\n",
       "       2.90505255, 3.12201603, 2.94877783, 3.01062896, 2.96523593,\n",
       "       2.90505255, 2.90505255, 2.91524812, 2.93170622, 3.076623  ,\n",
       "       3.07829076, 2.92377593, 2.90505255, 3.01643962, 3.0601649 ,\n",
       "       3.07036046, 2.95897339, 2.95670812, 3.12201603, 3.0004334 ,\n",
       "       3.04309329, 2.86985509, 3.01062896, 3.03516299, 3.07036046,\n",
       "       3.0004334 , 2.92377593, 3.11182046, 3.0601649 , 3.03289772,\n",
       "       2.95897339, 2.96523593, 2.93170622, 2.90505255, 2.97543149,\n",
       "       2.98124215, 2.86985509, 3.02663519, 3.03516299, 3.076623  ,\n",
       "       3.06809519, 2.93170622, 3.12201603, 3.01643962, 2.92377593,\n",
       "       3.02496743, 3.06809519, 3.11182046, 2.99143772, 2.91524812,\n",
       "       3.03289772, 3.02663519, 2.92377593, 3.03516299, 2.92151065,\n",
       "       2.98124215, 2.90505255, 2.92151065, 2.92151065, 3.06809519,\n",
       "       3.02663519, 2.96523593, 2.99143772, 3.08681856, 3.076623  ])"
      ]
     },
     "execution_count": 85,
     "metadata": {},
     "output_type": "execute_result"
    }
   ],
   "source": [
    "# predicting the test data\n",
    "y_pred = regr.predict(X_test)\n",
    "print (f\"There were {len(y_pred)} predicted star ratings.\")\n",
    "print (f\"The predicted star ratings are:\")\n",
    "y_pred"
   ]
  },
  {
   "cell_type": "markdown",
   "metadata": {},
   "source": [
    "Determining R squared or coefficient"
   ]
  },
  {
   "cell_type": "code",
   "execution_count": 86,
   "metadata": {},
   "outputs": [
    {
     "name": "stdout",
     "output_type": "stream",
     "text": [
      "R2 Score: 0.0017481284646813089\n"
     ]
    }
   ],
   "source": [
    "# Fitting our model with all our features in X\n",
    "model = LinearRegression()\n",
    "model.fit(X, y)\n",
    "score = model.score(X, y)\n",
    "print(f\"R2 Score: {score}\")"
   ]
  },
  {
   "cell_type": "markdown",
   "metadata": {},
   "source": [
    "Plotting residuals"
   ]
  },
  {
   "cell_type": "code",
   "execution_count": 87,
   "metadata": {},
   "outputs": [
    {
     "data": {
      "image/png": "[encoded data removed]",
      "text/plain": [
       "<Figure size 432x288 with 1 Axes>"
      ]
     },
     "metadata": {
      "needs_background": "light"
     },
     "output_type": "display_data"
    }
   ],
   "source": [
    "predictions = model.predict(X)\n",
    "# Plot Residuals\n",
    "plt.scatter(predictions, predictions - y)\n",
    "plt.hlines(y=0, xmin=predictions.min(), xmax=predictions.max())\n",
    "plt.show()"
   ]
  },
  {
   "cell_type": "markdown",
   "metadata": {},
   "source": [
    "Manually coding a singular prediction for each combination of variables"
   ]
  },
  {
   "cell_type": "code",
   "execution_count": 88,
   "metadata": {},
   "outputs": [],
   "source": [
    "# # generating a prediction of dependent variable (stars 0-5)\n",
    "# # for each combination of independent variables\n",
    "# prediction01 = regr.predict([[0, 0, 0, 0, 1]])\n",
    "# prediction02 = regr.predict([[0, 0, 0, 1, 0]])\n",
    "# prediction03 = regr.predict([[0, 0, 0, 1, 1]])\n",
    "# prediction04 = regr.predict([[0, 0, 1, 0, 0]])\n",
    "# prediction05 = regr.predict([[0, 0, 1, 0, 1]])\n",
    "# prediction06 = regr.predict([[0, 0, 1, 1, 0]])\n",
    "# prediction07 = regr.predict([[0, 0, 1, 1, 1]])\n",
    "# prediction08 = regr.predict([[0, 1, 0, 0, 0]])\n",
    "# prediction09 = regr.predict([[0, 1, 0, 0, 1]])\n",
    "# prediction10 = regr.predict([[0, 1, 0, 1, 0]])\n",
    "# prediction11 = regr.predict([[0, 1, 0, 1, 1]])\n",
    "# prediction12 = regr.predict([[0, 1, 1, 0, 0]])\n",
    "# prediction13 = regr.predict([[0, 1, 1, 0, 1]])\n",
    "# prediction14 = regr.predict([[0, 1, 1, 1, 0]])\n",
    "# prediction15 = regr.predict([[0, 1, 1, 1, 1]])\n",
    "# prediction16 = regr.predict([[1, 0, 0, 0, 0]])\n",
    "# prediction17 = regr.predict([[1, 0, 0, 0, 1]])\n",
    "# prediction18 = regr.predict([[1, 0, 0, 1, 0]])\n",
    "# prediction19 = regr.predict([[1, 0, 0, 1, 1]])\n",
    "# prediction20 = regr.predict([[1, 0, 1, 0, 0]])\n",
    "# prediction21 = regr.predict([[1, 0, 1, 0, 1]])\n",
    "# prediction22 = regr.predict([[1, 0, 1, 1, 0]])\n",
    "# prediction23 = regr.predict([[1, 0, 1, 1, 1]])\n",
    "# prediction24 = regr.predict([[1, 1, 0, 0, 0]])\n",
    "# prediction25 = regr.predict([[1, 1, 0, 0, 1]])\n",
    "# prediction26 = regr.predict([[1, 1, 0, 1, 0]])\n",
    "# prediction27 = regr.predict([[1, 1, 0, 1, 1]])\n",
    "# prediction28 = regr.predict([[1, 1, 1, 0, 0]])\n",
    "# prediction29 = regr.predict([[1, 1, 1, 0, 1]])\n",
    "# prediction30 = regr.predict([[1, 1, 1, 1, 0]])\n",
    "# prediction31 = regr.predict([[1, 1, 1, 1, 1]])\n",
    "# prediction32 = regr.predict([[0, 0, 0, 0, 0]])"
   ]
  },
  {
   "cell_type": "code",
   "execution_count": 89,
   "metadata": {},
   "outputs": [
    {
     "name": "stdout",
     "output_type": "stream",
     "text": [
      "[3.02663519]\n"
     ]
    },
    {
     "name": "stderr",
     "output_type": "stream",
     "text": [
      "/Users/anabisker/opt/anaconda3/envs/PythonData/lib/python3.7/site-packages/sklearn/base.py:451: UserWarning: X does not have valid feature names, but LinearRegression was fitted with feature names\n",
      "  \"X does not have valid feature names, but\"\n"
     ]
    }
   ],
   "source": [
    "prediction01 = regr.predict([[0, 0, 0, 0, 1]])\n",
    "print(prediction01)"
   ]
  },
  {
   "cell_type": "code",
   "execution_count": 90,
   "metadata": {},
   "outputs": [
    {
     "name": "stdout",
     "output_type": "stream",
     "text": [
      "[3.0601649]\n"
     ]
    },
    {
     "name": "stderr",
     "output_type": "stream",
     "text": [
      "/Users/anabisker/opt/anaconda3/envs/PythonData/lib/python3.7/site-packages/sklearn/base.py:451: UserWarning: X does not have valid feature names, but LinearRegression was fitted with feature names\n",
      "  \"X does not have valid feature names, but\"\n"
     ]
    }
   ],
   "source": [
    "prediction02 = regr.predict([[0, 0, 0, 1, 0]])\n",
    "print(prediction02)"
   ]
  },
  {
   "cell_type": "code",
   "execution_count": 91,
   "metadata": {},
   "outputs": [
    {
     "name": "stdout",
     "output_type": "stream",
     "text": [
      "[3.01643962]\n"
     ]
    },
    {
     "name": "stderr",
     "output_type": "stream",
     "text": [
      "/Users/anabisker/opt/anaconda3/envs/PythonData/lib/python3.7/site-packages/sklearn/base.py:451: UserWarning: X does not have valid feature names, but LinearRegression was fitted with feature names\n",
      "  \"X does not have valid feature names, but\"\n"
     ]
    }
   ],
   "source": [
    "prediction03 = regr.predict([[0, 0, 0, 1, 1]])\n",
    "print(prediction03)"
   ]
  },
  {
   "cell_type": "code",
   "execution_count": 92,
   "metadata": {},
   "outputs": [
    {
     "name": "stdout",
     "output_type": "stream",
     "text": [
      "[3.12201603]\n"
     ]
    },
    {
     "name": "stderr",
     "output_type": "stream",
     "text": [
      "/Users/anabisker/opt/anaconda3/envs/PythonData/lib/python3.7/site-packages/sklearn/base.py:451: UserWarning: X does not have valid feature names, but LinearRegression was fitted with feature names\n",
      "  \"X does not have valid feature names, but\"\n"
     ]
    }
   ],
   "source": [
    "prediction04 = regr.predict([[0, 0, 1, 0, 0]])\n",
    "print(prediction04)"
   ]
  },
  {
   "cell_type": "code",
   "execution_count": 93,
   "metadata": {},
   "outputs": [
    {
     "name": "stdout",
     "output_type": "stream",
     "text": [
      "[3.07829076]\n"
     ]
    },
    {
     "name": "stderr",
     "output_type": "stream",
     "text": [
      "/Users/anabisker/opt/anaconda3/envs/PythonData/lib/python3.7/site-packages/sklearn/base.py:451: UserWarning: X does not have valid feature names, but LinearRegression was fitted with feature names\n",
      "  \"X does not have valid feature names, but\"\n"
     ]
    }
   ],
   "source": [
    "prediction05 = regr.predict([[0, 0, 1, 0, 1]])\n",
    "print(prediction05)"
   ]
  },
  {
   "cell_type": "code",
   "execution_count": 94,
   "metadata": {},
   "outputs": [
    {
     "name": "stdout",
     "output_type": "stream",
     "text": [
      "[3.11182046]\n"
     ]
    },
    {
     "name": "stderr",
     "output_type": "stream",
     "text": [
      "/Users/anabisker/opt/anaconda3/envs/PythonData/lib/python3.7/site-packages/sklearn/base.py:451: UserWarning: X does not have valid feature names, but LinearRegression was fitted with feature names\n",
      "  \"X does not have valid feature names, but\"\n"
     ]
    }
   ],
   "source": [
    "prediction06 = regr.predict([[0, 0, 1, 1, 0]])\n",
    "print(prediction06)"
   ]
  },
  {
   "cell_type": "code",
   "execution_count": 95,
   "metadata": {},
   "outputs": [
    {
     "name": "stdout",
     "output_type": "stream",
     "text": [
      "[3.06809519]\n"
     ]
    },
    {
     "name": "stderr",
     "output_type": "stream",
     "text": [
      "/Users/anabisker/opt/anaconda3/envs/PythonData/lib/python3.7/site-packages/sklearn/base.py:451: UserWarning: X does not have valid feature names, but LinearRegression was fitted with feature names\n",
      "  \"X does not have valid feature names, but\"\n"
     ]
    }
   ],
   "source": [
    "prediction07 = regr.predict([[0, 0, 1, 1, 1]])\n",
    "print(prediction07)"
   ]
  },
  {
   "cell_type": "code",
   "execution_count": 96,
   "metadata": {},
   "outputs": [
    {
     "name": "stdout",
     "output_type": "stream",
     "text": [
      "[2.95897339]\n"
     ]
    },
    {
     "name": "stderr",
     "output_type": "stream",
     "text": [
      "/Users/anabisker/opt/anaconda3/envs/PythonData/lib/python3.7/site-packages/sklearn/base.py:451: UserWarning: X does not have valid feature names, but LinearRegression was fitted with feature names\n",
      "  \"X does not have valid feature names, but\"\n"
     ]
    }
   ],
   "source": [
    "prediction08 = regr.predict([[0, 1, 0, 0, 0]])\n",
    "print(prediction08)"
   ]
  },
  {
   "cell_type": "code",
   "execution_count": 97,
   "metadata": {},
   "outputs": [
    {
     "name": "stdout",
     "output_type": "stream",
     "text": [
      "[2.91524812]\n"
     ]
    },
    {
     "name": "stderr",
     "output_type": "stream",
     "text": [
      "/Users/anabisker/opt/anaconda3/envs/PythonData/lib/python3.7/site-packages/sklearn/base.py:451: UserWarning: X does not have valid feature names, but LinearRegression was fitted with feature names\n",
      "  \"X does not have valid feature names, but\"\n"
     ]
    }
   ],
   "source": [
    "prediction09 = regr.predict([[0, 1, 0, 0, 1]])\n",
    "print(prediction09)"
   ]
  },
  {
   "cell_type": "code",
   "execution_count": 98,
   "metadata": {},
   "outputs": [
    {
     "name": "stdout",
     "output_type": "stream",
     "text": [
      "[2.94877783]\n"
     ]
    },
    {
     "name": "stderr",
     "output_type": "stream",
     "text": [
      "/Users/anabisker/opt/anaconda3/envs/PythonData/lib/python3.7/site-packages/sklearn/base.py:451: UserWarning: X does not have valid feature names, but LinearRegression was fitted with feature names\n",
      "  \"X does not have valid feature names, but\"\n"
     ]
    }
   ],
   "source": [
    "prediction10 = regr.predict([[0, 1, 0, 1, 0]])\n",
    "print(prediction10)"
   ]
  },
  {
   "cell_type": "code",
   "execution_count": 99,
   "metadata": {},
   "outputs": [
    {
     "name": "stdout",
     "output_type": "stream",
     "text": [
      "[2.90505255]\n"
     ]
    },
    {
     "name": "stderr",
     "output_type": "stream",
     "text": [
      "/Users/anabisker/opt/anaconda3/envs/PythonData/lib/python3.7/site-packages/sklearn/base.py:451: UserWarning: X does not have valid feature names, but LinearRegression was fitted with feature names\n",
      "  \"X does not have valid feature names, but\"\n"
     ]
    }
   ],
   "source": [
    "prediction11 = regr.predict([[0, 1, 0, 1, 1]])\n",
    "print(prediction11)"
   ]
  },
  {
   "cell_type": "code",
   "execution_count": 100,
   "metadata": {},
   "outputs": [
    {
     "name": "stdout",
     "output_type": "stream",
     "text": [
      "[3.01062896]\n"
     ]
    },
    {
     "name": "stderr",
     "output_type": "stream",
     "text": [
      "/Users/anabisker/opt/anaconda3/envs/PythonData/lib/python3.7/site-packages/sklearn/base.py:451: UserWarning: X does not have valid feature names, but LinearRegression was fitted with feature names\n",
      "  \"X does not have valid feature names, but\"\n"
     ]
    }
   ],
   "source": [
    "prediction12 = regr.predict([[0, 1, 1, 0, 0]])\n",
    "print(prediction12)"
   ]
  },
  {
   "cell_type": "code",
   "execution_count": 101,
   "metadata": {},
   "outputs": [
    {
     "name": "stdout",
     "output_type": "stream",
     "text": [
      "[2.96690369]\n"
     ]
    },
    {
     "name": "stderr",
     "output_type": "stream",
     "text": [
      "/Users/anabisker/opt/anaconda3/envs/PythonData/lib/python3.7/site-packages/sklearn/base.py:451: UserWarning: X does not have valid feature names, but LinearRegression was fitted with feature names\n",
      "  \"X does not have valid feature names, but\"\n"
     ]
    }
   ],
   "source": [
    "prediction13 = regr.predict([[0, 1, 1, 0, 1]])\n",
    "print(prediction13)"
   ]
  },
  {
   "cell_type": "code",
   "execution_count": 102,
   "metadata": {},
   "outputs": [
    {
     "name": "stdout",
     "output_type": "stream",
     "text": [
      "[3.0004334]\n"
     ]
    },
    {
     "name": "stderr",
     "output_type": "stream",
     "text": [
      "/Users/anabisker/opt/anaconda3/envs/PythonData/lib/python3.7/site-packages/sklearn/base.py:451: UserWarning: X does not have valid feature names, but LinearRegression was fitted with feature names\n",
      "  \"X does not have valid feature names, but\"\n"
     ]
    }
   ],
   "source": [
    "prediction14 = regr.predict([[0, 1, 1, 1, 0]])\n",
    "print(prediction14)"
   ]
  },
  {
   "cell_type": "code",
   "execution_count": 103,
   "metadata": {},
   "outputs": [
    {
     "name": "stdout",
     "output_type": "stream",
     "text": [
      "[2.95670812]\n"
     ]
    },
    {
     "name": "stderr",
     "output_type": "stream",
     "text": [
      "/Users/anabisker/opt/anaconda3/envs/PythonData/lib/python3.7/site-packages/sklearn/base.py:451: UserWarning: X does not have valid feature names, but LinearRegression was fitted with feature names\n",
      "  \"X does not have valid feature names, but\"\n"
     ]
    }
   ],
   "source": [
    "prediction15 = regr.predict([[0, 1, 1, 1, 1]])\n",
    "print(prediction15)"
   ]
  },
  {
   "cell_type": "code",
   "execution_count": 104,
   "metadata": {},
   "outputs": [
    {
     "name": "stdout",
     "output_type": "stream",
     "text": [
      "[3.03516299]\n"
     ]
    },
    {
     "name": "stderr",
     "output_type": "stream",
     "text": [
      "/Users/anabisker/opt/anaconda3/envs/PythonData/lib/python3.7/site-packages/sklearn/base.py:451: UserWarning: X does not have valid feature names, but LinearRegression was fitted with feature names\n",
      "  \"X does not have valid feature names, but\"\n"
     ]
    }
   ],
   "source": [
    "prediction16 = regr.predict([[1, 0, 0, 0, 0]])\n",
    "print(prediction16)"
   ]
  },
  {
   "cell_type": "code",
   "execution_count": 105,
   "metadata": {},
   "outputs": [
    {
     "name": "stdout",
     "output_type": "stream",
     "text": [
      "[2.99143772]\n"
     ]
    },
    {
     "name": "stderr",
     "output_type": "stream",
     "text": [
      "/Users/anabisker/opt/anaconda3/envs/PythonData/lib/python3.7/site-packages/sklearn/base.py:451: UserWarning: X does not have valid feature names, but LinearRegression was fitted with feature names\n",
      "  \"X does not have valid feature names, but\"\n"
     ]
    }
   ],
   "source": [
    "prediction17 = regr.predict([[1, 0, 0, 0, 1]])\n",
    "print(prediction17)"
   ]
  },
  {
   "cell_type": "code",
   "execution_count": 106,
   "metadata": {},
   "outputs": [
    {
     "name": "stdout",
     "output_type": "stream",
     "text": [
      "[3.02496743]\n"
     ]
    },
    {
     "name": "stderr",
     "output_type": "stream",
     "text": [
      "/Users/anabisker/opt/anaconda3/envs/PythonData/lib/python3.7/site-packages/sklearn/base.py:451: UserWarning: X does not have valid feature names, but LinearRegression was fitted with feature names\n",
      "  \"X does not have valid feature names, but\"\n"
     ]
    }
   ],
   "source": [
    "prediction18 = regr.predict([[1, 0, 0, 1, 0]])\n",
    "print(prediction18)"
   ]
  },
  {
   "cell_type": "code",
   "execution_count": 107,
   "metadata": {},
   "outputs": [
    {
     "name": "stdout",
     "output_type": "stream",
     "text": [
      "[2.98124215]\n"
     ]
    },
    {
     "name": "stderr",
     "output_type": "stream",
     "text": [
      "/Users/anabisker/opt/anaconda3/envs/PythonData/lib/python3.7/site-packages/sklearn/base.py:451: UserWarning: X does not have valid feature names, but LinearRegression was fitted with feature names\n",
      "  \"X does not have valid feature names, but\"\n"
     ]
    }
   ],
   "source": [
    "prediction19 = regr.predict([[1, 0, 0, 1, 1]])\n",
    "print(prediction19)"
   ]
  },
  {
   "cell_type": "code",
   "execution_count": 108,
   "metadata": {},
   "outputs": [
    {
     "name": "stdout",
     "output_type": "stream",
     "text": [
      "[3.08681856]\n"
     ]
    },
    {
     "name": "stderr",
     "output_type": "stream",
     "text": [
      "/Users/anabisker/opt/anaconda3/envs/PythonData/lib/python3.7/site-packages/sklearn/base.py:451: UserWarning: X does not have valid feature names, but LinearRegression was fitted with feature names\n",
      "  \"X does not have valid feature names, but\"\n"
     ]
    }
   ],
   "source": [
    "prediction20 = regr.predict([[1, 0, 1, 0, 0]])\n",
    "print(prediction20)"
   ]
  },
  {
   "cell_type": "code",
   "execution_count": 109,
   "metadata": {},
   "outputs": [
    {
     "name": "stdout",
     "output_type": "stream",
     "text": [
      "[3.04309329]\n"
     ]
    },
    {
     "name": "stderr",
     "output_type": "stream",
     "text": [
      "/Users/anabisker/opt/anaconda3/envs/PythonData/lib/python3.7/site-packages/sklearn/base.py:451: UserWarning: X does not have valid feature names, but LinearRegression was fitted with feature names\n",
      "  \"X does not have valid feature names, but\"\n"
     ]
    }
   ],
   "source": [
    "prediction21 = regr.predict([[1, 0, 1, 0, 1]])\n",
    "print(prediction21)"
   ]
  },
  {
   "cell_type": "code",
   "execution_count": 110,
   "metadata": {},
   "outputs": [
    {
     "name": "stdout",
     "output_type": "stream",
     "text": [
      "[3.076623]\n"
     ]
    },
    {
     "name": "stderr",
     "output_type": "stream",
     "text": [
      "/Users/anabisker/opt/anaconda3/envs/PythonData/lib/python3.7/site-packages/sklearn/base.py:451: UserWarning: X does not have valid feature names, but LinearRegression was fitted with feature names\n",
      "  \"X does not have valid feature names, but\"\n"
     ]
    }
   ],
   "source": [
    "prediction22 = regr.predict([[1, 0, 1, 1, 0]])\n",
    "print(prediction22)"
   ]
  },
  {
   "cell_type": "code",
   "execution_count": 111,
   "metadata": {},
   "outputs": [
    {
     "name": "stdout",
     "output_type": "stream",
     "text": [
      "[3.03289772]\n"
     ]
    },
    {
     "name": "stderr",
     "output_type": "stream",
     "text": [
      "/Users/anabisker/opt/anaconda3/envs/PythonData/lib/python3.7/site-packages/sklearn/base.py:451: UserWarning: X does not have valid feature names, but LinearRegression was fitted with feature names\n",
      "  \"X does not have valid feature names, but\"\n"
     ]
    }
   ],
   "source": [
    "prediction23 = regr.predict([[1, 0, 1, 1, 1]])\n",
    "print(prediction23)"
   ]
  },
  {
   "cell_type": "code",
   "execution_count": 112,
   "metadata": {},
   "outputs": [
    {
     "name": "stdout",
     "output_type": "stream",
     "text": [
      "[2.92377593]\n"
     ]
    },
    {
     "name": "stderr",
     "output_type": "stream",
     "text": [
      "/Users/anabisker/opt/anaconda3/envs/PythonData/lib/python3.7/site-packages/sklearn/base.py:451: UserWarning: X does not have valid feature names, but LinearRegression was fitted with feature names\n",
      "  \"X does not have valid feature names, but\"\n"
     ]
    }
   ],
   "source": [
    "prediction24 = regr.predict([[1, 1, 0, 0, 0]])\n",
    "print(prediction24)"
   ]
  },
  {
   "cell_type": "code",
   "execution_count": 113,
   "metadata": {},
   "outputs": [
    {
     "name": "stdout",
     "output_type": "stream",
     "text": [
      "[2.88005065]\n"
     ]
    },
    {
     "name": "stderr",
     "output_type": "stream",
     "text": [
      "/Users/anabisker/opt/anaconda3/envs/PythonData/lib/python3.7/site-packages/sklearn/base.py:451: UserWarning: X does not have valid feature names, but LinearRegression was fitted with feature names\n",
      "  \"X does not have valid feature names, but\"\n"
     ]
    }
   ],
   "source": [
    "prediction25 = regr.predict([[1, 1, 0, 0, 1]])\n",
    "print(prediction25)"
   ]
  },
  {
   "cell_type": "code",
   "execution_count": 114,
   "metadata": {},
   "outputs": [
    {
     "name": "stdout",
     "output_type": "stream",
     "text": [
      "[2.91358036]\n"
     ]
    },
    {
     "name": "stderr",
     "output_type": "stream",
     "text": [
      "/Users/anabisker/opt/anaconda3/envs/PythonData/lib/python3.7/site-packages/sklearn/base.py:451: UserWarning: X does not have valid feature names, but LinearRegression was fitted with feature names\n",
      "  \"X does not have valid feature names, but\"\n"
     ]
    }
   ],
   "source": [
    "prediction26 = regr.predict([[1, 1, 0, 1, 0]])\n",
    "print(prediction26)"
   ]
  },
  {
   "cell_type": "code",
   "execution_count": 115,
   "metadata": {},
   "outputs": [
    {
     "name": "stdout",
     "output_type": "stream",
     "text": [
      "[2.86985509]\n"
     ]
    },
    {
     "name": "stderr",
     "output_type": "stream",
     "text": [
      "/Users/anabisker/opt/anaconda3/envs/PythonData/lib/python3.7/site-packages/sklearn/base.py:451: UserWarning: X does not have valid feature names, but LinearRegression was fitted with feature names\n",
      "  \"X does not have valid feature names, but\"\n"
     ]
    }
   ],
   "source": [
    "prediction27 = regr.predict([[1, 1, 0, 1, 1]])\n",
    "print(prediction27)"
   ]
  },
  {
   "cell_type": "code",
   "execution_count": 116,
   "metadata": {},
   "outputs": [
    {
     "name": "stdout",
     "output_type": "stream",
     "text": [
      "[2.97543149]\n"
     ]
    },
    {
     "name": "stderr",
     "output_type": "stream",
     "text": [
      "/Users/anabisker/opt/anaconda3/envs/PythonData/lib/python3.7/site-packages/sklearn/base.py:451: UserWarning: X does not have valid feature names, but LinearRegression was fitted with feature names\n",
      "  \"X does not have valid feature names, but\"\n"
     ]
    }
   ],
   "source": [
    "prediction28 = regr.predict([[1, 1, 1, 0, 0]])\n",
    "print(prediction28)"
   ]
  },
  {
   "cell_type": "code",
   "execution_count": 117,
   "metadata": {},
   "outputs": [
    {
     "name": "stdout",
     "output_type": "stream",
     "text": [
      "[2.93170622]\n"
     ]
    },
    {
     "name": "stderr",
     "output_type": "stream",
     "text": [
      "/Users/anabisker/opt/anaconda3/envs/PythonData/lib/python3.7/site-packages/sklearn/base.py:451: UserWarning: X does not have valid feature names, but LinearRegression was fitted with feature names\n",
      "  \"X does not have valid feature names, but\"\n"
     ]
    }
   ],
   "source": [
    "prediction29 = regr.predict([[1, 1, 1, 0, 1]])\n",
    "print(prediction29)"
   ]
  },
  {
   "cell_type": "code",
   "execution_count": 118,
   "metadata": {},
   "outputs": [
    {
     "name": "stdout",
     "output_type": "stream",
     "text": [
      "[2.96523593]\n"
     ]
    },
    {
     "name": "stderr",
     "output_type": "stream",
     "text": [
      "/Users/anabisker/opt/anaconda3/envs/PythonData/lib/python3.7/site-packages/sklearn/base.py:451: UserWarning: X does not have valid feature names, but LinearRegression was fitted with feature names\n",
      "  \"X does not have valid feature names, but\"\n"
     ]
    }
   ],
   "source": [
    "prediction30 = regr.predict([[1, 1, 1, 1, 0]])\n",
    "print(prediction30)"
   ]
  },
  {
   "cell_type": "code",
   "execution_count": 119,
   "metadata": {},
   "outputs": [
    {
     "name": "stdout",
     "output_type": "stream",
     "text": [
      "[2.92151065]\n"
     ]
    },
    {
     "name": "stderr",
     "output_type": "stream",
     "text": [
      "/Users/anabisker/opt/anaconda3/envs/PythonData/lib/python3.7/site-packages/sklearn/base.py:451: UserWarning: X does not have valid feature names, but LinearRegression was fitted with feature names\n",
      "  \"X does not have valid feature names, but\"\n"
     ]
    }
   ],
   "source": [
    "prediction31 = regr.predict([[1, 1, 1, 1, 1]])\n",
    "print(prediction31)"
   ]
  },
  {
   "cell_type": "code",
   "execution_count": 120,
   "metadata": {},
   "outputs": [
    {
     "name": "stderr",
     "output_type": "stream",
     "text": [
      "/Users/anabisker/opt/anaconda3/envs/PythonData/lib/python3.7/site-packages/sklearn/base.py:451: UserWarning: X does not have valid feature names, but LinearRegression was fitted with feature names\n",
      "  \"X does not have valid feature names, but\"\n"
     ]
    },
    {
     "name": "stdout",
     "output_type": "stream",
     "text": [
      "[3.07036046]\n"
     ]
    }
   ],
   "source": [
    "prediction32 = regr.predict([[0, 0, 0, 0, 0]])\n",
    "print(prediction32)"
   ]
  }
 ],
 "metadata": {
  "interpreter": {
   "hash": "09dc10bdb53340e1237714e6d2c5b34bf8eb1e15e5fdddf76ba5f2ad4906981e"
  },
  "kernelspec": {
   "display_name": "Python 3.7.11 ('PythonData')",
   "language": "python",
   "name": "python3"
  },
  "language_info": {
   "codemirror_mode": {
    "name": "ipython",
    "version": 3
   },
   "file_extension": ".py",
   "mimetype": "text/x-python",
   "name": "python",
   "nbconvert_exporter": "python",
   "pygments_lexer": "ipython3",
   "version": "3.7.7"
  },
  "orig_nbformat": 4
 },
 "nbformat": 4,
 "nbformat_minor": 2
}
