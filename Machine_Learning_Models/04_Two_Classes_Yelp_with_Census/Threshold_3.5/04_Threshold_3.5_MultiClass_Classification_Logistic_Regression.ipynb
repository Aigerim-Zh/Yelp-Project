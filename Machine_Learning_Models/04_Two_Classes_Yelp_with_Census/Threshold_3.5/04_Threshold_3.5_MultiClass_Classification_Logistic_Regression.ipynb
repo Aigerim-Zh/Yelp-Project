{
 "cells": [
  {
   "cell_type": "markdown",
   "id": "e4a6835e",
   "metadata": {},
   "source": [
    "# 1. Logistic Regression"
   ]
  },
  {
   "cell_type": "code",
   "execution_count": 14,
   "id": "24b3f553",
   "metadata": {},
   "outputs": [],
   "source": [
    "import matplotlib.pyplot as plt\n",
    "import pandas as pd\n",
    "import numpy as np\n",
    "\n",
    "from sqlalchemy import create_engine\n",
    "# from config import db_password\n",
    "from sqlalchemy import inspect\n",
    "import matplotlib.pyplot as plt\n",
    "import pandas as pd\n",
    "\n",
    "business_df = pd.read_csv(\"../../../Data/business_census_merged_dataset.csv\")\n",
    "\n",
    "\n",
    "# Categorizing restaurants based on stars ratings\n",
    "business_df[\"Category\"] = pd.cut(business_df[\"Stars_Rating\"],bins=[0.9,3.5,5],\n",
    "                                 labels=[\"Lower Performance\", \"Higher Performance\"])\n",
    "\n",
    "\n",
    "def changeStatus(status):\n",
    "    if status == \"Lower Performance\":\n",
    "        return 0\n",
    "    else:\n",
    "        return 1\n",
    "    \n",
    "business_df['Category_Encoded'] = business_df[\"Category\"].apply(changeStatus)\n",
    "business_df[\"Category_Encoded\"] = pd.to_numeric(business_df[\"Category_Encoded\"])\n",
    "\n",
    "\n",
    "business_df[\"Median_Income(dollars)\"] = pd.to_numeric(business_df[\"Median_Income(dollars)\"], errors='coerce')\n",
    "business_df[\"Mean_Income(dollars)\"] = pd.to_numeric(business_df[\"Mean_Income(dollars)\"], errors='coerce')\n",
    "\n",
    "business_df = business_df.dropna(subset=['Median_Income(dollars)'])"
   ]
  },
  {
   "cell_type": "code",
   "execution_count": 39,
   "id": "d56725ea",
   "metadata": {
    "scrolled": true
   },
   "outputs": [
    {
     "data": {
      "text/html": [
       "<div>\n",
       "<style scoped>\n",
       "    .dataframe tbody tr th:only-of-type {\n",
       "        vertical-align: middle;\n",
       "    }\n",
       "\n",
       "    .dataframe tbody tr th {\n",
       "        vertical-align: top;\n",
       "    }\n",
       "\n",
       "    .dataframe thead th {\n",
       "        text-align: right;\n",
       "    }\n",
       "</style>\n",
       "<table border=\"1\" class=\"dataframe\">\n",
       "  <thead>\n",
       "    <tr style=\"text-align: right;\">\n",
       "      <th></th>\n",
       "      <th>Restaurant_ID</th>\n",
       "      <th>Restaurants_Name</th>\n",
       "      <th>Address</th>\n",
       "      <th>City</th>\n",
       "      <th>State</th>\n",
       "      <th>Postal_Code</th>\n",
       "      <th>Latitude</th>\n",
       "      <th>Longitude</th>\n",
       "      <th>Stars_Rating</th>\n",
       "      <th>Review_Count</th>\n",
       "      <th>...</th>\n",
       "      <th>Happy_Hour</th>\n",
       "      <th>Noise_Level</th>\n",
       "      <th>Dietary_Restrictions</th>\n",
       "      <th>Total_Estimate_Households_per_Zip</th>\n",
       "      <th>Total_Estimate_Married-couple_Family_households</th>\n",
       "      <th>Total_Estimate_Nonfamily_households</th>\n",
       "      <th>Median_Income(dollars)</th>\n",
       "      <th>Mean_Income(dollars)</th>\n",
       "      <th>Category</th>\n",
       "      <th>Category_Encoded</th>\n",
       "    </tr>\n",
       "  </thead>\n",
       "  <tbody>\n",
       "    <tr>\n",
       "      <th>0</th>\n",
       "      <td>MTSW4McQd7CbVtyjqoe9mw</td>\n",
       "      <td>St Honore Pastries</td>\n",
       "      <td>935 Race St</td>\n",
       "      <td>Philadelphia</td>\n",
       "      <td>PA</td>\n",
       "      <td>19107</td>\n",
       "      <td>39.955505</td>\n",
       "      <td>-75.155564</td>\n",
       "      <td>4.0</td>\n",
       "      <td>80</td>\n",
       "      <td>...</td>\n",
       "      <td>0</td>\n",
       "      <td>1</td>\n",
       "      <td>0</td>\n",
       "      <td>7823</td>\n",
       "      <td>1743</td>\n",
       "      <td>5771</td>\n",
       "      <td>60676</td>\n",
       "      <td>91522</td>\n",
       "      <td>Higher Performance</td>\n",
       "      <td>1</td>\n",
       "    </tr>\n",
       "    <tr>\n",
       "      <th>1</th>\n",
       "      <td>WYYdQDjx-DsCanlP0DpImQ</td>\n",
       "      <td>J Sushi</td>\n",
       "      <td>243 S 10th St</td>\n",
       "      <td>Philadelphia</td>\n",
       "      <td>PA</td>\n",
       "      <td>19107</td>\n",
       "      <td>39.947033</td>\n",
       "      <td>-75.157434</td>\n",
       "      <td>4.5</td>\n",
       "      <td>72</td>\n",
       "      <td>...</td>\n",
       "      <td>0</td>\n",
       "      <td>4</td>\n",
       "      <td>0</td>\n",
       "      <td>7823</td>\n",
       "      <td>1743</td>\n",
       "      <td>5771</td>\n",
       "      <td>60676</td>\n",
       "      <td>91522</td>\n",
       "      <td>Higher Performance</td>\n",
       "      <td>1</td>\n",
       "    </tr>\n",
       "    <tr>\n",
       "      <th>2</th>\n",
       "      <td>ngvE1G9IckUO-ljZBFo23w</td>\n",
       "      <td>Mumbai Bistro</td>\n",
       "      <td>930 Locust St</td>\n",
       "      <td>Philadelphia</td>\n",
       "      <td>PA</td>\n",
       "      <td>19107</td>\n",
       "      <td>39.947207</td>\n",
       "      <td>-75.157252</td>\n",
       "      <td>4.0</td>\n",
       "      <td>217</td>\n",
       "      <td>...</td>\n",
       "      <td>0</td>\n",
       "      <td>1</td>\n",
       "      <td>0</td>\n",
       "      <td>7823</td>\n",
       "      <td>1743</td>\n",
       "      <td>5771</td>\n",
       "      <td>60676</td>\n",
       "      <td>91522</td>\n",
       "      <td>Higher Performance</td>\n",
       "      <td>1</td>\n",
       "    </tr>\n",
       "    <tr>\n",
       "      <th>3</th>\n",
       "      <td>IgNDlyLERBwFGphgcC5VDQ</td>\n",
       "      <td>Cosi</td>\n",
       "      <td>1128 Walnut St</td>\n",
       "      <td>Philadelphia</td>\n",
       "      <td>PA</td>\n",
       "      <td>19107</td>\n",
       "      <td>39.948751</td>\n",
       "      <td>-75.160449</td>\n",
       "      <td>2.5</td>\n",
       "      <td>63</td>\n",
       "      <td>...</td>\n",
       "      <td>0</td>\n",
       "      <td>4</td>\n",
       "      <td>0</td>\n",
       "      <td>7823</td>\n",
       "      <td>1743</td>\n",
       "      <td>5771</td>\n",
       "      <td>60676</td>\n",
       "      <td>91522</td>\n",
       "      <td>Lower Performance</td>\n",
       "      <td>0</td>\n",
       "    </tr>\n",
       "    <tr>\n",
       "      <th>4</th>\n",
       "      <td>L_sXNadtVHjxMw7Yhvkj9Q</td>\n",
       "      <td>Naoki Ramen</td>\n",
       "      <td>915 Race St</td>\n",
       "      <td>Philadelphia</td>\n",
       "      <td>PA</td>\n",
       "      <td>19107</td>\n",
       "      <td>39.955454</td>\n",
       "      <td>-75.154900</td>\n",
       "      <td>4.0</td>\n",
       "      <td>92</td>\n",
       "      <td>...</td>\n",
       "      <td>0</td>\n",
       "      <td>2</td>\n",
       "      <td>0</td>\n",
       "      <td>7823</td>\n",
       "      <td>1743</td>\n",
       "      <td>5771</td>\n",
       "      <td>60676</td>\n",
       "      <td>91522</td>\n",
       "      <td>Higher Performance</td>\n",
       "      <td>1</td>\n",
       "    </tr>\n",
       "    <tr>\n",
       "      <th>...</th>\n",
       "      <td>...</td>\n",
       "      <td>...</td>\n",
       "      <td>...</td>\n",
       "      <td>...</td>\n",
       "      <td>...</td>\n",
       "      <td>...</td>\n",
       "      <td>...</td>\n",
       "      <td>...</td>\n",
       "      <td>...</td>\n",
       "      <td>...</td>\n",
       "      <td>...</td>\n",
       "      <td>...</td>\n",
       "      <td>...</td>\n",
       "      <td>...</td>\n",
       "      <td>...</td>\n",
       "      <td>...</td>\n",
       "      <td>...</td>\n",
       "      <td>...</td>\n",
       "      <td>...</td>\n",
       "      <td>...</td>\n",
       "      <td>...</td>\n",
       "    </tr>\n",
       "    <tr>\n",
       "      <th>24734</th>\n",
       "      <td>IFUgn1pFknZQ9OpN9EmyYw</td>\n",
       "      <td>Hudock's Frozen Custard Stand</td>\n",
       "      <td>544 Salem Quinton Rd</td>\n",
       "      <td>Salem</td>\n",
       "      <td>NJ</td>\n",
       "      <td>8079</td>\n",
       "      <td>39.560427</td>\n",
       "      <td>-75.448576</td>\n",
       "      <td>4.0</td>\n",
       "      <td>35</td>\n",
       "      <td>...</td>\n",
       "      <td>0</td>\n",
       "      <td>2</td>\n",
       "      <td>0</td>\n",
       "      <td>4018</td>\n",
       "      <td>1397</td>\n",
       "      <td>1574</td>\n",
       "      <td>42077</td>\n",
       "      <td>67275</td>\n",
       "      <td>Higher Performance</td>\n",
       "      <td>1</td>\n",
       "    </tr>\n",
       "    <tr>\n",
       "      <th>24735</th>\n",
       "      <td>tZy556-b1uO9pcy0WsumIA</td>\n",
       "      <td>Charlie's Restaurant &amp; Catering</td>\n",
       "      <td>6129 E Saint Bernard Hwy</td>\n",
       "      <td>Violet</td>\n",
       "      <td>LA</td>\n",
       "      <td>70092</td>\n",
       "      <td>29.900428</td>\n",
       "      <td>-89.901686</td>\n",
       "      <td>4.0</td>\n",
       "      <td>71</td>\n",
       "      <td>...</td>\n",
       "      <td>0</td>\n",
       "      <td>2</td>\n",
       "      <td>0</td>\n",
       "      <td>2690</td>\n",
       "      <td>1417</td>\n",
       "      <td>624</td>\n",
       "      <td>44753</td>\n",
       "      <td>62162</td>\n",
       "      <td>Higher Performance</td>\n",
       "      <td>1</td>\n",
       "    </tr>\n",
       "    <tr>\n",
       "      <th>24736</th>\n",
       "      <td>jMStvE-tQzSpRCAO0nAE6g</td>\n",
       "      <td>Red Robin Gourmet Burgers and Brews</td>\n",
       "      <td>4605 S Landing Way</td>\n",
       "      <td>Tucson</td>\n",
       "      <td>AZ</td>\n",
       "      <td>32246</td>\n",
       "      <td>32.167311</td>\n",
       "      <td>-110.986422</td>\n",
       "      <td>3.0</td>\n",
       "      <td>159</td>\n",
       "      <td>...</td>\n",
       "      <td>1</td>\n",
       "      <td>4</td>\n",
       "      <td>0</td>\n",
       "      <td>21387</td>\n",
       "      <td>9033</td>\n",
       "      <td>8741</td>\n",
       "      <td>61730</td>\n",
       "      <td>76508</td>\n",
       "      <td>Lower Performance</td>\n",
       "      <td>0</td>\n",
       "    </tr>\n",
       "    <tr>\n",
       "      <th>24737</th>\n",
       "      <td>r4oV3EWnJX-1hjhNcKMI7w</td>\n",
       "      <td>Ortino's Northside</td>\n",
       "      <td>1355 Gravel Pike</td>\n",
       "      <td>Perkiomenville</td>\n",
       "      <td>PA</td>\n",
       "      <td>18074</td>\n",
       "      <td>40.291583</td>\n",
       "      <td>-75.481124</td>\n",
       "      <td>3.5</td>\n",
       "      <td>32</td>\n",
       "      <td>...</td>\n",
       "      <td>1</td>\n",
       "      <td>4</td>\n",
       "      <td>0</td>\n",
       "      <td>2298</td>\n",
       "      <td>1512</td>\n",
       "      <td>495</td>\n",
       "      <td>99333</td>\n",
       "      <td>132779</td>\n",
       "      <td>Lower Performance</td>\n",
       "      <td>0</td>\n",
       "    </tr>\n",
       "    <tr>\n",
       "      <th>24738</th>\n",
       "      <td>NagkUmgLHFd1s8RTk1tcKw</td>\n",
       "      <td>Old Father Inn</td>\n",
       "      <td>4080 W Ina Rd</td>\n",
       "      <td>Marana</td>\n",
       "      <td>AZ</td>\n",
       "      <td>85653</td>\n",
       "      <td>32.338120</td>\n",
       "      <td>-111.053073</td>\n",
       "      <td>3.0</td>\n",
       "      <td>38</td>\n",
       "      <td>...</td>\n",
       "      <td>1</td>\n",
       "      <td>4</td>\n",
       "      <td>0</td>\n",
       "      <td>7057</td>\n",
       "      <td>4108</td>\n",
       "      <td>1844</td>\n",
       "      <td>70131</td>\n",
       "      <td>77213</td>\n",
       "      <td>Lower Performance</td>\n",
       "      <td>0</td>\n",
       "    </tr>\n",
       "  </tbody>\n",
       "</table>\n",
       "<p>24739 rows × 31 columns</p>\n",
       "</div>"
      ],
      "text/plain": [
       "                Restaurant_ID                     Restaurants_Name  \\\n",
       "0      MTSW4McQd7CbVtyjqoe9mw                   St Honore Pastries   \n",
       "1      WYYdQDjx-DsCanlP0DpImQ                              J Sushi   \n",
       "2      ngvE1G9IckUO-ljZBFo23w                        Mumbai Bistro   \n",
       "3      IgNDlyLERBwFGphgcC5VDQ                                 Cosi   \n",
       "4      L_sXNadtVHjxMw7Yhvkj9Q                          Naoki Ramen   \n",
       "...                       ...                                  ...   \n",
       "24734  IFUgn1pFknZQ9OpN9EmyYw        Hudock's Frozen Custard Stand   \n",
       "24735  tZy556-b1uO9pcy0WsumIA      Charlie's Restaurant & Catering   \n",
       "24736  jMStvE-tQzSpRCAO0nAE6g  Red Robin Gourmet Burgers and Brews   \n",
       "24737  r4oV3EWnJX-1hjhNcKMI7w                   Ortino's Northside   \n",
       "24738  NagkUmgLHFd1s8RTk1tcKw                       Old Father Inn   \n",
       "\n",
       "                        Address            City State  Postal_Code   Latitude  \\\n",
       "0                   935 Race St    Philadelphia    PA        19107  39.955505   \n",
       "1                 243 S 10th St    Philadelphia    PA        19107  39.947033   \n",
       "2                 930 Locust St    Philadelphia    PA        19107  39.947207   \n",
       "3                1128 Walnut St    Philadelphia    PA        19107  39.948751   \n",
       "4                   915 Race St    Philadelphia    PA        19107  39.955454   \n",
       "...                         ...             ...   ...          ...        ...   \n",
       "24734      544 Salem Quinton Rd           Salem    NJ         8079  39.560427   \n",
       "24735  6129 E Saint Bernard Hwy          Violet    LA        70092  29.900428   \n",
       "24736        4605 S Landing Way          Tucson    AZ        32246  32.167311   \n",
       "24737          1355 Gravel Pike  Perkiomenville    PA        18074  40.291583   \n",
       "24738             4080 W Ina Rd          Marana    AZ        85653  32.338120   \n",
       "\n",
       "        Longitude  Stars_Rating  Review_Count  ...  Happy_Hour  Noise_Level  \\\n",
       "0      -75.155564           4.0            80  ...           0            1   \n",
       "1      -75.157434           4.5            72  ...           0            4   \n",
       "2      -75.157252           4.0           217  ...           0            1   \n",
       "3      -75.160449           2.5            63  ...           0            4   \n",
       "4      -75.154900           4.0            92  ...           0            2   \n",
       "...           ...           ...           ...  ...         ...          ...   \n",
       "24734  -75.448576           4.0            35  ...           0            2   \n",
       "24735  -89.901686           4.0            71  ...           0            2   \n",
       "24736 -110.986422           3.0           159  ...           1            4   \n",
       "24737  -75.481124           3.5            32  ...           1            4   \n",
       "24738 -111.053073           3.0            38  ...           1            4   \n",
       "\n",
       "       Dietary_Restrictions  Total_Estimate_Households_per_Zip  \\\n",
       "0                         0                               7823   \n",
       "1                         0                               7823   \n",
       "2                         0                               7823   \n",
       "3                         0                               7823   \n",
       "4                         0                               7823   \n",
       "...                     ...                                ...   \n",
       "24734                     0                               4018   \n",
       "24735                     0                               2690   \n",
       "24736                     0                              21387   \n",
       "24737                     0                               2298   \n",
       "24738                     0                               7057   \n",
       "\n",
       "       Total_Estimate_Married-couple_Family_households  \\\n",
       "0                                                 1743   \n",
       "1                                                 1743   \n",
       "2                                                 1743   \n",
       "3                                                 1743   \n",
       "4                                                 1743   \n",
       "...                                                ...   \n",
       "24734                                             1397   \n",
       "24735                                             1417   \n",
       "24736                                             9033   \n",
       "24737                                             1512   \n",
       "24738                                             4108   \n",
       "\n",
       "       Total_Estimate_Nonfamily_households  Median_Income(dollars)  \\\n",
       "0                                     5771                   60676   \n",
       "1                                     5771                   60676   \n",
       "2                                     5771                   60676   \n",
       "3                                     5771                   60676   \n",
       "4                                     5771                   60676   \n",
       "...                                    ...                     ...   \n",
       "24734                                 1574                   42077   \n",
       "24735                                  624                   44753   \n",
       "24736                                 8741                   61730   \n",
       "24737                                  495                   99333   \n",
       "24738                                 1844                   70131   \n",
       "\n",
       "       Mean_Income(dollars)            Category  Category_Encoded  \n",
       "0                     91522  Higher Performance                 1  \n",
       "1                     91522  Higher Performance                 1  \n",
       "2                     91522  Higher Performance                 1  \n",
       "3                     91522   Lower Performance                 0  \n",
       "4                     91522  Higher Performance                 1  \n",
       "...                     ...                 ...               ...  \n",
       "24734                 67275  Higher Performance                 1  \n",
       "24735                 62162  Higher Performance                 1  \n",
       "24736                 76508   Lower Performance                 0  \n",
       "24737                132779   Lower Performance                 0  \n",
       "24738                 77213   Lower Performance                 0  \n",
       "\n",
       "[24739 rows x 31 columns]"
      ]
     },
     "execution_count": 39,
     "metadata": {},
     "output_type": "execute_result"
    }
   ],
   "source": [
    "business_df"
   ]
  },
  {
   "cell_type": "code",
   "execution_count": 38,
   "id": "05a1b6cf",
   "metadata": {},
   "outputs": [
    {
     "data": {
      "text/plain": [
       "Counter({'Higher Performance': 12794, 'Lower Performance': 11945})"
      ]
     },
     "execution_count": 38,
     "metadata": {},
     "output_type": "execute_result"
    }
   ],
   "source": [
    "y = business_df[\"Category\"]\n",
    "from collections import Counter\n",
    "Counter(y)"
   ]
  },
  {
   "cell_type": "code",
   "execution_count": 17,
   "id": "01c84332",
   "metadata": {
    "scrolled": true
   },
   "outputs": [
    {
     "data": {
      "text/plain": [
       "Index(['Restaurant_ID', 'Restaurants_Name', 'Address', 'City', 'State',\n",
       "       'Postal_Code', 'Latitude', 'Longitude', 'Stars_Rating', 'Review_Count',\n",
       "       'Restaurants_Delivery', 'Outdoor_Seating', 'Accepts_CreditCards',\n",
       "       'Price_Range', 'Alcohol', 'Good_For_Kids', 'Reservations',\n",
       "       'Restaurants_TakeOut', 'WiFi', 'Good_For_Groups',\n",
       "       'Wheelchair_Accessible', 'Happy_Hour', 'Noise_Level',\n",
       "       'Dietary_Restrictions', 'Total_Estimate_Households_per_Zip',\n",
       "       'Total_Estimate_Married-couple_Family_households',\n",
       "       'Total_Estimate_Nonfamily_households', 'Median_Income(dollars)',\n",
       "       'Mean_Income(dollars)', 'Category', 'Category_Encoded'],\n",
       "      dtype='object')"
      ]
     },
     "execution_count": 17,
     "metadata": {},
     "output_type": "execute_result"
    }
   ],
   "source": [
    "business_df.columns"
   ]
  },
  {
   "cell_type": "code",
   "execution_count": 25,
   "id": "1a325822",
   "metadata": {},
   "outputs": [],
   "source": [
    "X = business_df[['Review_Count', 'Restaurants_Delivery', 'Outdoor_Seating',\n",
    "       'Accepts_CreditCards', 'Price_Range', 'Alcohol', 'Good_For_Kids',\n",
    "       'Reservations', 'Restaurants_TakeOut', 'WiFi', 'Good_For_Groups',\n",
    "       'Wheelchair_Accessible', 'Happy_Hour', 'Noise_Level',\n",
    "       'Dietary_Restrictions',\n",
    "                'Total_Estimate_Married-couple_Family_households',\n",
    "       'Total_Estimate_Nonfamily_households',\n",
    "                'Median_Income(dollars)', 'Total_Estimate_Households_per_Zip']]"
   ]
  },
  {
   "cell_type": "code",
   "execution_count": 26,
   "id": "276df36e",
   "metadata": {
    "scrolled": true
   },
   "outputs": [
    {
     "data": {
      "text/plain": [
       "0        1\n",
       "1        1\n",
       "2        1\n",
       "3        0\n",
       "4        1\n",
       "        ..\n",
       "24734    1\n",
       "24735    1\n",
       "24736    0\n",
       "24737    0\n",
       "24738    0\n",
       "Name: Category_Encoded, Length: 24739, dtype: int64"
      ]
     },
     "execution_count": 26,
     "metadata": {},
     "output_type": "execute_result"
    }
   ],
   "source": [
    "# Define the target\n",
    "y = business_df[\"Category_Encoded\"]\n",
    "y"
   ]
  },
  {
   "cell_type": "code",
   "execution_count": 27,
   "id": "6ffeb627",
   "metadata": {},
   "outputs": [],
   "source": [
    "# Split the model into training and testing sets\n",
    "from sklearn.model_selection import train_test_split\n",
    "\n",
    "X_train, X_test, y_train, y_test = train_test_split(X,\n",
    "                                                   y, \n",
    "                                                   random_state=1, \n",
    "                                                    stratify=y)"
   ]
  },
  {
   "cell_type": "code",
   "execution_count": 28,
   "id": "9d7ed0bb",
   "metadata": {},
   "outputs": [
    {
     "data": {
      "text/plain": [
       "LogisticRegression(random_state=1)"
      ]
     },
     "execution_count": 28,
     "metadata": {},
     "output_type": "execute_result"
    }
   ],
   "source": [
    "# Instantiate a Logistic Regression Model\n",
    "from sklearn.linear_model import LogisticRegression\n",
    "\n",
    "model = LogisticRegression(solver=\"lbfgs\", random_state=1)\n",
    "model"
   ]
  },
  {
   "cell_type": "code",
   "execution_count": 29,
   "id": "9002e287",
   "metadata": {},
   "outputs": [
    {
     "data": {
      "text/plain": [
       "LogisticRegression(random_state=1)"
      ]
     },
     "execution_count": 29,
     "metadata": {},
     "output_type": "execute_result"
    }
   ],
   "source": [
    "# Train the model\n",
    "model.fit(X_train, y_train)"
   ]
  },
  {
   "cell_type": "code",
   "execution_count": 30,
   "id": "121a1c97",
   "metadata": {},
   "outputs": [],
   "source": [
    "# Make predictions\n",
    "y_pred = model.predict(X_test)"
   ]
  },
  {
   "cell_type": "code",
   "execution_count": 31,
   "id": "84bf815c",
   "metadata": {},
   "outputs": [
    {
     "data": {
      "text/plain": [
       "0.5734842360549717"
      ]
     },
     "execution_count": 31,
     "metadata": {},
     "output_type": "execute_result"
    }
   ],
   "source": [
    "# Evaluate the Model\n",
    "from sklearn.metrics import accuracy_score\n",
    "accuracy_score(y_test, y_pred)"
   ]
  },
  {
   "cell_type": "code",
   "execution_count": 35,
   "id": "fa19af8a",
   "metadata": {},
   "outputs": [
    {
     "data": {
      "text/plain": [
       "0.5866120513096906"
      ]
     },
     "execution_count": 35,
     "metadata": {},
     "output_type": "execute_result"
    }
   ],
   "source": [
    "y_pred_train = model.predict(X_train)\n",
    "accuracy_score(y_train, y_pred_train)"
   ]
  },
  {
   "cell_type": "code",
   "execution_count": 36,
   "id": "253cfe0b",
   "metadata": {
    "scrolled": true
   },
   "outputs": [
    {
     "name": "stdout",
     "output_type": "stream",
     "text": [
      "[[1872 1114]\n",
      " [1524 1675]]\n"
     ]
    }
   ],
   "source": [
    "# Calculate the confusion matrix \n",
    "from sklearn.metrics import confusion_matrix, classification_report\n",
    "\n",
    "matrix=confusion_matrix(y_test, y_pred)\n",
    "print(matrix)"
   ]
  },
  {
   "cell_type": "code",
   "execution_count": 37,
   "id": "a50f969d",
   "metadata": {
    "scrolled": true
   },
   "outputs": [
    {
     "name": "stdout",
     "output_type": "stream",
     "text": [
      "              precision    recall  f1-score   support\n",
      "\n",
      "           0       0.55      0.63      0.59      2986\n",
      "           1       0.60      0.52      0.56      3199\n",
      "\n",
      "    accuracy                           0.57      6185\n",
      "   macro avg       0.58      0.58      0.57      6185\n",
      "weighted avg       0.58      0.57      0.57      6185\n",
      "\n"
     ]
    }
   ],
   "source": [
    "report=classification_report(y_test, y_pred)\n",
    "print(report)"
   ]
  },
  {
   "cell_type": "code",
   "execution_count": null,
   "id": "6e1c1ad7",
   "metadata": {},
   "outputs": [],
   "source": []
  }
 ],
 "metadata": {
  "kernelspec": {
   "display_name": "mlenv",
   "language": "python",
   "name": "mlenv"
  },
  "language_info": {
   "codemirror_mode": {
    "name": "ipython",
    "version": 3
   },
   "file_extension": ".py",
   "mimetype": "text/x-python",
   "name": "python",
   "nbconvert_exporter": "python",
   "pygments_lexer": "ipython3",
   "version": "3.7.13"
  }
 },
 "nbformat": 4,
 "nbformat_minor": 5
}
