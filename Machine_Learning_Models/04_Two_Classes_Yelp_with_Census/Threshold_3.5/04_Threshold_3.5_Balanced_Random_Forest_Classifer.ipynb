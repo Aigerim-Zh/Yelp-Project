{
 "cells": [
  {
   "cell_type": "markdown",
   "id": "170c72a9",
   "metadata": {},
   "source": [
    "# Balanced Random Forest Classifier"
   ]
  },
  {
   "cell_type": "markdown",
   "id": "6a1f7f4a",
   "metadata": {},
   "source": [
    "A random forest model combines many decision trees into a forest of trees. Random forest models:\n",
    "- Are robust against overfitting because all of those weak learners are trained on different pieces of the data.\n",
    "- Can be used to rank the importance of input variables in a natural way.\n",
    "- Can handle thousands of input variables without variable deletion.\n",
    "- Are robust to outliers and nonlinear data.\n",
    "- Run efficiently on large datasets. "
   ]
  },
  {
   "cell_type": "code",
   "execution_count": 1,
   "id": "86739bee",
   "metadata": {},
   "outputs": [],
   "source": [
    "import matplotlib.pyplot as plt\n",
    "import pandas as pd\n",
    "import numpy as np\n",
    "\n",
    "from sqlalchemy import create_engine\n",
    "# from config import db_password\n",
    "from sqlalchemy import inspect\n",
    "import matplotlib.pyplot as plt\n",
    "import pandas as pd\n",
    "\n",
    "business_df = pd.read_csv(\"../../../Data/new_merged_datasets.csv\")\n",
    "\n",
    "# Categorizing restaurants based on stars ratings\n",
    "business_df[\"Category\"] = pd.cut(business_df[\"Stars_Rating\"],bins=[0.9,3,5],\n",
    "                                 labels=[\"Lower Performance\", \"Higher Performance\"])\n",
    "def changeStatus(status):\n",
    "    if status == \"Lower Performance\":\n",
    "        return 0\n",
    "    else:\n",
    "        return 1\n",
    "\n",
    "business_df['Category_Encoded'] = business_df[\"Category\"].apply(changeStatus)\n",
    "business_df[\"Category_Encoded\"] = pd.to_numeric(business_df[\"Category_Encoded\"])\n",
    "\n",
    "business_df[\"Median_Income(dollars)\"] = pd.to_numeric(business_df[\"Median_Income(dollars)\"], errors='coerce')\n",
    "business_df[\"Mean_Income(dollars)\"] = pd.to_numeric(business_df[\"Mean_Income(dollars)\"], errors='coerce')\n",
    "\n",
    "business_df = business_df.dropna(subset=['Median_Income(dollars)'])"
   ]
  },
  {
   "cell_type": "code",
   "execution_count": 3,
   "id": "4b8d6569",
   "metadata": {},
   "outputs": [],
   "source": [
    "# Define features set\n",
    "X = business_df[['Review_Count', 'Restaurants_Delivery', 'Outdoor_Seating',\n",
    "       'Accepts_CreditCards', 'Price_Range', 'Alcohol', 'Good_For_Kids',\n",
    "       'Reservations', 'Restaurants_TakeOut', 'WiFi', 'Good_For_Groups',\n",
    "       'Wheelchair_Accessible', 'Happy_Hour', 'Noise_Level',\n",
    "       'Dietary_Restrictions',\n",
    "                'Total_Estimate_Married-couple_Family_households',\n",
    "       'Total_Estimate_Nonfamily_households',\n",
    "                'Median_Income(dollars)', 'Population']]"
   ]
  },
  {
   "cell_type": "code",
   "execution_count": 2,
   "id": "246dcd61",
   "metadata": {},
   "outputs": [
    {
     "data": {
      "text/plain": [
       "0        1\n",
       "1        1\n",
       "2        1\n",
       "3        0\n",
       "4        1\n",
       "        ..\n",
       "15602    1\n",
       "15603    0\n",
       "15604    1\n",
       "15605    0\n",
       "15606    1\n",
       "Name: Category_Encoded, Length: 15607, dtype: int64"
      ]
     },
     "execution_count": 2,
     "metadata": {},
     "output_type": "execute_result"
    }
   ],
   "source": [
    "# Define the target\n",
    "y = business_df[\"Category_Encoded\"]\n",
    "y"
   ]
  },
  {
   "cell_type": "code",
   "execution_count": 4,
   "id": "6b77cf51",
   "metadata": {},
   "outputs": [],
   "source": [
    "# Split the model into training and testing sets\n",
    "from sklearn.model_selection import train_test_split\n",
    "\n",
    "X_train, X_test, y_train, y_test = train_test_split(X,\n",
    "                                                   y, \n",
    "                                                   random_state=1, \n",
    "                                                    stratify=y)"
   ]
  },
  {
   "cell_type": "code",
   "execution_count": 5,
   "id": "e84807ff",
   "metadata": {},
   "outputs": [
    {
     "data": {
      "text/plain": [
       "BalancedRandomForestClassifier(random_state=1)"
      ]
     },
     "execution_count": 5,
     "metadata": {},
     "output_type": "execute_result"
    }
   ],
   "source": [
    "# Resample the training data with the BalancedRandomForestClassifier\n",
    "\n",
    "from imblearn.ensemble import BalancedRandomForestClassifier\n",
    "\n",
    "model = BalancedRandomForestClassifier(n_estimators=100, random_state=1)\n",
    "\n",
    "model.fit(X_train, y_train)  "
   ]
  },
  {
   "cell_type": "code",
   "execution_count": 6,
   "id": "e411e1bb",
   "metadata": {},
   "outputs": [
    {
     "data": {
      "text/plain": [
       "0.6773283019421463"
      ]
     },
     "execution_count": 6,
     "metadata": {},
     "output_type": "execute_result"
    }
   ],
   "source": [
    "# Calculated the balanced accuracy score\n",
    "from sklearn.metrics import balanced_accuracy_score\n",
    "\n",
    "y_pred = model.predict(X_test)\n",
    "balanced_accuracy_score(y_test, y_pred)"
   ]
  },
  {
   "cell_type": "code",
   "execution_count": 7,
   "id": "75b331ff",
   "metadata": {},
   "outputs": [
    {
     "data": {
      "text/plain": [
       "0.9069223052056627"
      ]
     },
     "execution_count": 7,
     "metadata": {},
     "output_type": "execute_result"
    }
   ],
   "source": [
    "y_pred_train = model.predict(X_train)\n",
    "balanced_accuracy_score(y_train, y_pred_train)"
   ]
  },
  {
   "cell_type": "code",
   "execution_count": 8,
   "id": "e99d9644",
   "metadata": {},
   "outputs": [
    {
     "data": {
      "text/plain": [
       "array([[ 655,  257],\n",
       "       [1087, 1903]])"
      ]
     },
     "execution_count": 8,
     "metadata": {},
     "output_type": "execute_result"
    }
   ],
   "source": [
    "# Display the confusion matrix\n",
    "from sklearn.metrics import confusion_matrix\n",
    "\n",
    "y_pred = model.predict(X_test)\n",
    "\n",
    "confusion_matrix(y_test, y_pred)"
   ]
  },
  {
   "cell_type": "code",
   "execution_count": 9,
   "id": "3a16515f",
   "metadata": {},
   "outputs": [
    {
     "name": "stdout",
     "output_type": "stream",
     "text": [
      "                   pre       rec       spe        f1       geo       iba       sup\n",
      "\n",
      "    Average       0.32      0.42      0.79      0.36      0.57      0.32      1205\n",
      "       Good       0.69      0.32      0.81      0.44      0.51      0.25      3507\n",
      "       Poor       0.15      0.69      0.84      0.25      0.76      0.57       254\n",
      " Successful       0.37      0.57      0.77      0.45      0.66      0.42      1222\n",
      "\n",
      "avg / total       0.54      0.40      0.80      0.42      0.56      0.31      6188\n",
      "\n"
     ]
    }
   ],
   "source": [
    "# Print the imbalanced classification report\n",
    "from imblearn.metrics import classification_report_imbalanced\n",
    "\n",
    "print(classification_report_imbalanced(y_test, y_pred))"
   ]
  },
  {
   "cell_type": "code",
   "execution_count": 10,
   "id": "68da43a0",
   "metadata": {},
   "outputs": [
    {
     "name": "stdout",
     "output_type": "stream",
     "text": [
      "Review_Count : (0.17690743696866845)\n",
      "Total_Estimate_Nonfamily_households : (0.12357466970917706)\n",
      "Median_Income(dollars) : (0.12126275616379076)\n",
      "Total_Estimate_Married-couple_Family_households : (0.12121503581610554)\n",
      "Population : (0.12114808007835083)\n",
      "Noise_Level : (0.04729202043767742)\n",
      "Wheelchair_Accessible : (0.03965837090756363)\n",
      "Price_Range : (0.03876032198733259)\n",
      "Restaurants_Delivery : (0.030308077070677376)\n",
      "WiFi : (0.028523627145452594)\n",
      "Outdoor_Seating : (0.02768732789012317)\n",
      "Reservations : (0.027235191528856513)\n",
      "Good_For_Kids : (0.022386263251048564)\n",
      "Good_For_Groups : (0.021824627224959866)\n",
      "Happy_Hour : (0.021096803550480353)\n",
      "Alcohol : (0.011373362176144576)\n",
      "Accepts_CreditCards : (0.010333855073241836)\n",
      "Restaurants_TakeOut : (0.009164208909037318)\n",
      "Dietary_Restrictions : (0.0002479641113116617)\n"
     ]
    }
   ],
   "source": [
    "# List the features sorted in descending order by feature importance\n",
    "feature_importance = sorted(zip(model.feature_importances_, X.columns), reverse=True)\n",
    "\n",
    "for i in feature_importance:\n",
    "    print('{} : ({})'.format(i[1], i[0]))"
   ]
  },
  {
   "cell_type": "code",
   "execution_count": null,
   "id": "54c910d6",
   "metadata": {},
   "outputs": [],
   "source": []
  },
  {
   "cell_type": "code",
   "execution_count": null,
   "id": "8ecbfe9c",
   "metadata": {},
   "outputs": [],
   "source": []
  },
  {
   "cell_type": "code",
   "execution_count": null,
   "id": "9529fe83",
   "metadata": {},
   "outputs": [],
   "source": []
  }
 ],
 "metadata": {
  "kernelspec": {
   "display_name": "mlenv",
   "language": "python",
   "name": "mlenv"
  },
  "language_info": {
   "codemirror_mode": {
    "name": "ipython",
    "version": 3
   },
   "file_extension": ".py",
   "mimetype": "text/x-python",
   "name": "python",
   "nbconvert_exporter": "python",
   "pygments_lexer": "ipython3",
   "version": "3.7.13"
  }
 },
 "nbformat": 4,
 "nbformat_minor": 5
}
