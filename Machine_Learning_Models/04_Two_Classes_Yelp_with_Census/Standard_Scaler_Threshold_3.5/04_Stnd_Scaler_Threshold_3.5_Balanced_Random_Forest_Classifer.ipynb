{
 "cells": [
  {
   "cell_type": "markdown",
   "id": "170c72a9",
   "metadata": {},
   "source": [
    "# Balanced Random Forest Classifier"
   ]
  },
  {
   "cell_type": "markdown",
   "id": "6a1f7f4a",
   "metadata": {},
   "source": [
    "A random forest model combines many decision trees into a forest of trees. Random forest models:\n",
    "- Are robust against overfitting because all of those weak learners are trained on different pieces of the data.\n",
    "- Can be used to rank the importance of input variables in a natural way.\n",
    "- Can handle thousands of input variables without variable deletion.\n",
    "- Are robust to outliers and nonlinear data.\n",
    "- Run efficiently on large datasets. "
   ]
  },
  {
   "cell_type": "code",
   "execution_count": 1,
   "id": "86739bee",
   "metadata": {},
   "outputs": [],
   "source": [
    "import matplotlib.pyplot as plt\n",
    "import pandas as pd\n",
    "import numpy as np\n",
    "\n",
    "from sqlalchemy import create_engine\n",
    "# from config import db_password\n",
    "from sqlalchemy import inspect\n",
    "import matplotlib.pyplot as plt\n",
    "import pandas as pd\n",
    "\n",
    "business_df = pd.read_csv(\"../../../Data/business_census_merged_dataset.csv\")\n",
    "#business_df = pd.read_csv(\"../../../Data/merged_datasets.csv\")\n",
    "\n",
    "# Categorizing restaurants based on stars ratings\n",
    "business_df[\"Category\"] = pd.cut(business_df[\"Stars_Rating\"],bins=[0.9,3.5,5],\n",
    "                                 labels=[\"Lower Performance\", \"Higher Performance\"])\n",
    "\n",
    "def changeStatus(status):\n",
    "    if status == \"Lower Performance\":\n",
    "        return 0\n",
    "    else:\n",
    "        return 1\n",
    "    \n",
    "business_df['Category_Encoded'] = business_df[\"Category\"].apply(changeStatus)\n",
    "business_df[\"Category_Encoded\"] = pd.to_numeric(business_df[\"Category_Encoded\"])\n",
    "\n",
    "business_df[\"Median_Income(dollars)\"] = pd.to_numeric(business_df[\"Median_Income(dollars)\"], errors='coerce')\n",
    "business_df[\"Mean_Income(dollars)\"] = pd.to_numeric(business_df[\"Mean_Income(dollars)\"], errors='coerce')\n",
    "\n",
    "business_df = business_df.dropna(subset=['Median_Income(dollars)'])"
   ]
  },
  {
   "cell_type": "code",
   "execution_count": 9,
   "id": "4b8d6569",
   "metadata": {},
   "outputs": [],
   "source": [
    "# Define features set\n",
    "X = business_df[['Review_Count', 'Restaurants_Delivery', 'Outdoor_Seating',\n",
    "       'Accepts_CreditCards', 'Price_Range', 'Alcohol', 'Good_For_Kids',\n",
    "       'Reservations', 'Restaurants_TakeOut', 'WiFi', 'Good_For_Groups',\n",
    "       'Wheelchair_Accessible', 'Happy_Hour', 'Noise_Level',\n",
    "       'Dietary_Restrictions',\n",
    "                'Total_Estimate_Married-couple_Family_households',\n",
    "       'Total_Estimate_Nonfamily_households',\n",
    "                'Median_Income(dollars)', 'Total_Estimate_Households_per_Zip']]"
   ]
  },
  {
   "cell_type": "code",
   "execution_count": 10,
   "id": "246dcd61",
   "metadata": {},
   "outputs": [
    {
     "data": {
      "text/plain": [
       "0        1\n",
       "1        1\n",
       "2        1\n",
       "3        0\n",
       "4        1\n",
       "        ..\n",
       "24734    1\n",
       "24735    1\n",
       "24736    0\n",
       "24737    0\n",
       "24738    0\n",
       "Name: Category_Encoded, Length: 24739, dtype: int64"
      ]
     },
     "execution_count": 10,
     "metadata": {},
     "output_type": "execute_result"
    }
   ],
   "source": [
    "# Define the target\n",
    "y = business_df[\"Category_Encoded\"]\n",
    "y"
   ]
  },
  {
   "cell_type": "code",
   "execution_count": 11,
   "id": "6b77cf51",
   "metadata": {},
   "outputs": [],
   "source": [
    "# Split the model into training and testing sets\n",
    "from sklearn.model_selection import train_test_split\n",
    "\n",
    "X_train, X_test, y_train, y_test = train_test_split(X,\n",
    "                                                   y, \n",
    "                                                   random_state=1, \n",
    "                                                    stratify=y)"
   ]
  },
  {
   "cell_type": "code",
   "execution_count": 12,
   "id": "8cb3bc96",
   "metadata": {},
   "outputs": [],
   "source": [
    "# Scale the Training and Testing Data\n",
    "from sklearn.preprocessing import StandardScaler\n",
    "\n",
    "# Instantiate a StandardScaler()\n",
    "scaler = StandardScaler()\n",
    "\n",
    "# Fitting the Standard Scaler with the training data\n",
    "X_scaler = scaler.fit(X_train)\n",
    "\n",
    "\n",
    "# Scaling the data \n",
    "X_train_scaled = X_scaler.transform(X_train)\n",
    "X_test_scaled = X_scaler.transform(X_test)"
   ]
  },
  {
   "cell_type": "code",
   "execution_count": 13,
   "id": "e84807ff",
   "metadata": {},
   "outputs": [
    {
     "data": {
      "text/plain": [
       "BalancedRandomForestClassifier(random_state=1)"
      ]
     },
     "execution_count": 13,
     "metadata": {},
     "output_type": "execute_result"
    }
   ],
   "source": [
    "# Resample the training data with the BalancedRandomForestClassifier\n",
    "\n",
    "from imblearn.ensemble import BalancedRandomForestClassifier\n",
    "\n",
    "model = BalancedRandomForestClassifier(n_estimators=100, random_state=1)\n",
    "\n",
    "model.fit(X_train, y_train)  "
   ]
  },
  {
   "cell_type": "code",
   "execution_count": 14,
   "id": "e411e1bb",
   "metadata": {},
   "outputs": [
    {
     "data": {
      "text/plain": [
       "0.6528860743697744"
      ]
     },
     "execution_count": 14,
     "metadata": {},
     "output_type": "execute_result"
    }
   ],
   "source": [
    "# Calculated the balanced accuracy score\n",
    "from sklearn.metrics import balanced_accuracy_score\n",
    "\n",
    "y_pred = model.predict(X_test)\n",
    "balanced_accuracy_score(y_test, y_pred)"
   ]
  },
  {
   "cell_type": "code",
   "execution_count": 15,
   "id": "75b331ff",
   "metadata": {},
   "outputs": [
    {
     "data": {
      "text/plain": [
       "0.9994714966059557"
      ]
     },
     "execution_count": 15,
     "metadata": {},
     "output_type": "execute_result"
    }
   ],
   "source": [
    "y_pred_train = model.predict(X_train)\n",
    "balanced_accuracy_score(y_train, y_pred_train)"
   ]
  },
  {
   "cell_type": "code",
   "execution_count": 16,
   "id": "e99d9644",
   "metadata": {},
   "outputs": [
    {
     "data": {
      "text/plain": [
       "array([[2007,  979],\n",
       "       [1172, 2027]])"
      ]
     },
     "execution_count": 16,
     "metadata": {},
     "output_type": "execute_result"
    }
   ],
   "source": [
    "# Display the confusion matrix\n",
    "from sklearn.metrics import confusion_matrix\n",
    "\n",
    "y_pred = model.predict(X_test)\n",
    "\n",
    "confusion_matrix(y_test, y_pred)"
   ]
  },
  {
   "cell_type": "code",
   "execution_count": 17,
   "id": "3a16515f",
   "metadata": {},
   "outputs": [
    {
     "name": "stdout",
     "output_type": "stream",
     "text": [
      "                   pre       rec       spe        f1       geo       iba       sup\n",
      "\n",
      "          0       0.63      0.67      0.63      0.65      0.65      0.43      2986\n",
      "          1       0.67      0.63      0.67      0.65      0.65      0.42      3199\n",
      "\n",
      "avg / total       0.65      0.65      0.65      0.65      0.65      0.43      6185\n",
      "\n"
     ]
    }
   ],
   "source": [
    "# Print the imbalanced classification report\n",
    "from imblearn.metrics import classification_report_imbalanced\n",
    "\n",
    "print(classification_report_imbalanced(y_test, y_pred))"
   ]
  },
  {
   "cell_type": "code",
   "execution_count": 11,
   "id": "68da43a0",
   "metadata": {},
   "outputs": [
    {
     "name": "stdout",
     "output_type": "stream",
     "text": [
      "Review_Count : (0.23555666334841727)\n",
      "Median_Income(dollars) : (0.11437666106759317)\n",
      "Total_Estimate_Nonfamily_households : (0.11204395379599824)\n",
      "Total_Estimate_Married-couple_Family_households : (0.1116961260119542)\n",
      "Population : (0.10953046460287853)\n",
      "Noise_Level : (0.043150654332244034)\n",
      "Wheelchair_Accessible : (0.03888393741460815)\n",
      "Price_Range : (0.033559477617293436)\n",
      "WiFi : (0.028222008061795843)\n",
      "Restaurants_Delivery : (0.027727436272503823)\n",
      "Reservations : (0.02714784435280517)\n",
      "Outdoor_Seating : (0.02435587586520726)\n",
      "Happy_Hour : (0.022187130115292997)\n",
      "Good_For_Kids : (0.020527968423447278)\n",
      "Good_For_Groups : (0.019486150053464196)\n",
      "Accepts_CreditCards : (0.01262716209245474)\n",
      "Alcohol : (0.009519549503033244)\n",
      "Restaurants_TakeOut : (0.009282629043565034)\n",
      "Dietary_Restrictions : (0.00011830802544342473)\n"
     ]
    }
   ],
   "source": [
    "# List the features sorted in descending order by feature importance\n",
    "feature_importance = sorted(zip(model.feature_importances_, X.columns), reverse=True)\n",
    "\n",
    "for i in feature_importance:\n",
    "    print('{} : ({})'.format(i[1], i[0]))"
   ]
  },
  {
   "cell_type": "code",
   "execution_count": null,
   "id": "54c910d6",
   "metadata": {},
   "outputs": [],
   "source": []
  },
  {
   "cell_type": "code",
   "execution_count": null,
   "id": "8ecbfe9c",
   "metadata": {},
   "outputs": [],
   "source": []
  },
  {
   "cell_type": "code",
   "execution_count": null,
   "id": "9529fe83",
   "metadata": {},
   "outputs": [],
   "source": []
  }
 ],
 "metadata": {
  "kernelspec": {
   "display_name": "mlenv",
   "language": "python",
   "name": "mlenv"
  },
  "language_info": {
   "codemirror_mode": {
    "name": "ipython",
    "version": 3
   },
   "file_extension": ".py",
   "mimetype": "text/x-python",
   "name": "python",
   "nbconvert_exporter": "python",
   "pygments_lexer": "ipython3",
   "version": "3.7.13"
  }
 },
 "nbformat": 4,
 "nbformat_minor": 5
}
