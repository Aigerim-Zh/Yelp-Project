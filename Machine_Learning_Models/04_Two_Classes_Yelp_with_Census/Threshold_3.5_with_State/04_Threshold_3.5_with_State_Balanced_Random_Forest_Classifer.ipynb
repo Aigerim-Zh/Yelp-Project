{
 "cells": [
  {
   "cell_type": "markdown",
   "id": "170c72a9",
   "metadata": {},
   "source": [
    "# Balanced Random Forest Classifier"
   ]
  },
  {
   "cell_type": "markdown",
   "id": "6a1f7f4a",
   "metadata": {},
   "source": [
    "A random forest model combines many decision trees into a forest of trees. Random forest models:\n",
    "- Are robust against overfitting because all of those weak learners are trained on different pieces of the data.\n",
    "- Can be used to rank the importance of input variables in a natural way.\n",
    "- Can handle thousands of input variables without variable deletion.\n",
    "- Are robust to outliers and nonlinear data.\n",
    "- Run efficiently on large datasets. "
   ]
  },
  {
   "cell_type": "code",
   "execution_count": 31,
   "id": "86739bee",
   "metadata": {},
   "outputs": [],
   "source": [
    "import matplotlib.pyplot as plt\n",
    "import pandas as pd\n",
    "import numpy as np\n",
    "\n",
    "from sqlalchemy import create_engine\n",
    "# from config import db_password\n",
    "from sqlalchemy import inspect\n",
    "import matplotlib.pyplot as plt\n",
    "import pandas as pd\n",
    "\n",
    "business_df = pd.read_csv(\"../../../Data/business_census_merged_dataset.csv\")\n",
    "\n",
    "\n",
    "# Categorizing restaurants based on stars ratings\n",
    "business_df[\"Category\"] = pd.cut(business_df[\"Stars_Rating\"],bins=[0.9,3.5,5],\n",
    "                                 labels=[\"Lower Performance\", \"Higher Performance\"])\n",
    "\n",
    "\n",
    "def changeStatus(status):\n",
    "    if status == \"Lower Performance\":\n",
    "        return 0\n",
    "    else:\n",
    "        return 1\n",
    "    \n",
    "business_df['Category_Encoded'] = business_df[\"Category\"].apply(changeStatus)\n",
    "business_df[\"Category_Encoded\"] = pd.to_numeric(business_df[\"Category_Encoded\"])\n",
    "\n",
    "# Transform Previous State column\n",
    "def changeStatus(status):\n",
    "    if status == 'AZ':\n",
    "        return 1\n",
    "    elif status == 'CA':\n",
    "        return 2\n",
    "    elif status == 'DE':\n",
    "        return 3\n",
    "    elif status == 'FL':\n",
    "        return 4\n",
    "    elif status == 'ID':\n",
    "        return 5\n",
    "    elif status == 'IL':\n",
    "        return 6\n",
    "    elif status == 'IN':\n",
    "        return 7\n",
    "    elif status == 'LA':\n",
    "        return 8\n",
    "    elif status == 'NJ':\n",
    "        return 9\n",
    "    elif status == 'NV':\n",
    "        return 10\n",
    "    elif status == 'PA':\n",
    "        return 11\n",
    "    else:\n",
    "        return 12\n",
    "# Along with replace() and map(), encode the state column into numbers.\n",
    "business_df[\"State\"] = business_df[\"State\"].apply(changeStatus)\n",
    "\n",
    "business_df[\"Median_Income(dollars)\"] = pd.to_numeric(business_df[\"Median_Income(dollars)\"], errors='coerce')\n",
    "business_df[\"Mean_Income(dollars)\"] = pd.to_numeric(business_df[\"Mean_Income(dollars)\"], errors='coerce')\n",
    "\n",
    "business_df = business_df.dropna(subset=['Median_Income(dollars)'])"
   ]
  },
  {
   "cell_type": "code",
   "execution_count": 11,
   "id": "e82997f9",
   "metadata": {},
   "outputs": [
    {
     "data": {
      "text/plain": [
       "Index(['Restaurant_ID', 'Restaurants_Name', 'Address', 'City', 'State',\n",
       "       'Postal_Code', 'Latitude', 'Longitude', 'Stars_Rating', 'Review_Count',\n",
       "       'Restaurants_Delivery', 'Outdoor_Seating', 'Accepts_CreditCards',\n",
       "       'Price_Range', 'Alcohol', 'Good_For_Kids', 'Reservations',\n",
       "       'Restaurants_TakeOut', 'WiFi', 'Good_For_Groups',\n",
       "       'Wheelchair_Accessible', 'Happy_Hour', 'Noise_Level',\n",
       "       'Dietary_Restrictions', 'Total_Estimate_Households_per_Zip',\n",
       "       'Total_Estimate_Married-couple_Family_households',\n",
       "       'Total_Estimate_Nonfamily_households', 'Median_Income(dollars)',\n",
       "       'Mean_Income(dollars)', 'Category', 'Category_Encoded'],\n",
       "      dtype='object')"
      ]
     },
     "execution_count": 11,
     "metadata": {},
     "output_type": "execute_result"
    }
   ],
   "source": [
    "business_df.columns"
   ]
  },
  {
   "cell_type": "code",
   "execution_count": 13,
   "id": "4b8d6569",
   "metadata": {},
   "outputs": [],
   "source": [
    "# Define features set\n",
    "X = business_df[['State','Review_Count', 'Restaurants_Delivery', 'Outdoor_Seating',\n",
    "       'Accepts_CreditCards', 'Price_Range', 'Alcohol', 'Good_For_Kids',\n",
    "       'Reservations', 'Restaurants_TakeOut', 'WiFi', 'Good_For_Groups',\n",
    "       'Wheelchair_Accessible', 'Happy_Hour', 'Noise_Level',\n",
    "       'Dietary_Restrictions',\n",
    "                'Total_Estimate_Married-couple_Family_households',\n",
    "       'Total_Estimate_Nonfamily_households',\n",
    "                'Median_Income(dollars)', 'Total_Estimate_Households_per_Zip']]"
   ]
  },
  {
   "cell_type": "code",
   "execution_count": 14,
   "id": "246dcd61",
   "metadata": {},
   "outputs": [
    {
     "data": {
      "text/plain": [
       "0        1\n",
       "1        1\n",
       "2        1\n",
       "3        0\n",
       "4        1\n",
       "        ..\n",
       "24734    1\n",
       "24735    1\n",
       "24736    0\n",
       "24737    0\n",
       "24738    0\n",
       "Name: Category_Encoded, Length: 24739, dtype: int64"
      ]
     },
     "execution_count": 14,
     "metadata": {},
     "output_type": "execute_result"
    }
   ],
   "source": [
    "# Define the target\n",
    "y = business_df[\"Category_Encoded\"]\n",
    "y"
   ]
  },
  {
   "cell_type": "code",
   "execution_count": 15,
   "id": "6b77cf51",
   "metadata": {},
   "outputs": [],
   "source": [
    "# Split the model into training and testing sets\n",
    "from sklearn.model_selection import train_test_split\n",
    "\n",
    "X_train, X_test, y_train, y_test = train_test_split(X,\n",
    "                                                   y, \n",
    "                                                   random_state=1, \n",
    "                                                    stratify=y)"
   ]
  },
  {
   "cell_type": "code",
   "execution_count": 16,
   "id": "e84807ff",
   "metadata": {},
   "outputs": [
    {
     "data": {
      "text/plain": [
       "BalancedRandomForestClassifier(random_state=1)"
      ]
     },
     "execution_count": 16,
     "metadata": {},
     "output_type": "execute_result"
    }
   ],
   "source": [
    "# Resample the training data with the BalancedRandomForestClassifier\n",
    "\n",
    "from imblearn.ensemble import BalancedRandomForestClassifier\n",
    "\n",
    "model = BalancedRandomForestClassifier(n_estimators=100, random_state=1)\n",
    "\n",
    "model.fit(X_train, y_train)  "
   ]
  },
  {
   "cell_type": "code",
   "execution_count": 17,
   "id": "e411e1bb",
   "metadata": {},
   "outputs": [
    {
     "data": {
      "text/plain": [
       "0.6520265354189092"
      ]
     },
     "execution_count": 17,
     "metadata": {},
     "output_type": "execute_result"
    }
   ],
   "source": [
    "# Calculated the balanced accuracy score\n",
    "from sklearn.metrics import balanced_accuracy_score\n",
    "\n",
    "y_pred = model.predict(X_test)\n",
    "balanced_accuracy_score(y_test, y_pred)"
   ]
  },
  {
   "cell_type": "code",
   "execution_count": 18,
   "id": "75b331ff",
   "metadata": {},
   "outputs": [
    {
     "data": {
      "text/plain": [
       "0.9994714966059557"
      ]
     },
     "execution_count": 18,
     "metadata": {},
     "output_type": "execute_result"
    }
   ],
   "source": [
    "# Training balanced accuracy\n",
    "y_pred_train = model.predict(X_train)\n",
    "balanced_accuracy_score(y_train, y_pred_train)"
   ]
  },
  {
   "cell_type": "code",
   "execution_count": 19,
   "id": "e99d9644",
   "metadata": {},
   "outputs": [
    {
     "data": {
      "text/plain": [
       "array([[2000,  986],\n",
       "       [1170, 2029]])"
      ]
     },
     "execution_count": 19,
     "metadata": {},
     "output_type": "execute_result"
    }
   ],
   "source": [
    "# Display the confusion matrix\n",
    "from sklearn.metrics import confusion_matrix\n",
    "\n",
    "y_pred = model.predict(X_test)\n",
    "\n",
    "confusion_matrix(y_test, y_pred)"
   ]
  },
  {
   "cell_type": "code",
   "execution_count": 20,
   "id": "3a16515f",
   "metadata": {},
   "outputs": [
    {
     "name": "stdout",
     "output_type": "stream",
     "text": [
      "                   pre       rec       spe        f1       geo       iba       sup\n",
      "\n",
      "          0       0.63      0.67      0.63      0.65      0.65      0.43      2986\n",
      "          1       0.67      0.63      0.67      0.65      0.65      0.42      3199\n",
      "\n",
      "avg / total       0.65      0.65      0.65      0.65      0.65      0.42      6185\n",
      "\n"
     ]
    }
   ],
   "source": [
    "# Print the imbalanced classification report\n",
    "from imblearn.metrics import classification_report_imbalanced\n",
    "\n",
    "print(classification_report_imbalanced(y_test, y_pred))"
   ]
  },
  {
   "cell_type": "code",
   "execution_count": 21,
   "id": "68da43a0",
   "metadata": {},
   "outputs": [
    {
     "name": "stdout",
     "output_type": "stream",
     "text": [
      "Review_Count : (0.22643557596851938)\n",
      "Median_Income(dollars) : (0.10447599773531253)\n",
      "Total_Estimate_Married-couple_Family_households : (0.10336934258148994)\n",
      "Total_Estimate_Nonfamily_households : (0.10270381227260895)\n",
      "Total_Estimate_Households_per_Zip : (0.09997552369582124)\n",
      "State : (0.05769603092835557)\n",
      "Noise_Level : (0.0435140149234881)\n",
      "Wheelchair_Accessible : (0.037371101922562704)\n",
      "Price_Range : (0.032822868446919604)\n",
      "WiFi : (0.026887616303672812)\n",
      "Restaurants_Delivery : (0.02625419049218679)\n",
      "Reservations : (0.025267098794591512)\n",
      "Outdoor_Seating : (0.023101907764094005)\n",
      "Happy_Hour : (0.021264305276072266)\n",
      "Good_For_Kids : (0.019702838651152237)\n",
      "Good_For_Groups : (0.01911035849912466)\n",
      "Accepts_CreditCards : (0.012428595192659566)\n",
      "Alcohol : (0.008771453605377922)\n",
      "Restaurants_TakeOut : (0.008688349547429733)\n",
      "Dietary_Restrictions : (0.00015901739856053238)\n"
     ]
    }
   ],
   "source": [
    "# List the features sorted in descending order by feature importance\n",
    "feature_importance = sorted(zip(model.feature_importances_, X.columns), reverse=True)\n",
    "\n",
    "for i in feature_importance:\n",
    "    print('{} : ({})'.format(i[1], i[0]))"
   ]
  },
  {
   "cell_type": "code",
   "execution_count": 51,
   "id": "54c910d6",
   "metadata": {},
   "outputs": [],
   "source": [
    "df = pd.DataFrame(feature_importance, columns=[[\"Score\", \"Feature\"]])"
   ]
  },
  {
   "cell_type": "code",
   "execution_count": 53,
   "id": "8ecbfe9c",
   "metadata": {
    "scrolled": true
   },
   "outputs": [
    {
     "data": {
      "text/html": [
       "<div>\n",
       "<style scoped>\n",
       "    .dataframe tbody tr th:only-of-type {\n",
       "        vertical-align: middle;\n",
       "    }\n",
       "\n",
       "    .dataframe tbody tr th {\n",
       "        vertical-align: top;\n",
       "    }\n",
       "\n",
       "    .dataframe thead tr th {\n",
       "        text-align: left;\n",
       "    }\n",
       "</style>\n",
       "<table border=\"1\" class=\"dataframe\">\n",
       "  <thead>\n",
       "    <tr>\n",
       "      <th></th>\n",
       "      <th>Score</th>\n",
       "      <th>Feature</th>\n",
       "    </tr>\n",
       "  </thead>\n",
       "  <tbody>\n",
       "    <tr>\n",
       "      <th>0</th>\n",
       "      <td>0.226436</td>\n",
       "      <td>Review_Count</td>\n",
       "    </tr>\n",
       "    <tr>\n",
       "      <th>1</th>\n",
       "      <td>0.104476</td>\n",
       "      <td>Median_Income(dollars)</td>\n",
       "    </tr>\n",
       "    <tr>\n",
       "      <th>2</th>\n",
       "      <td>0.103369</td>\n",
       "      <td>Total_Estimate_Married-couple_Family_households</td>\n",
       "    </tr>\n",
       "    <tr>\n",
       "      <th>3</th>\n",
       "      <td>0.102704</td>\n",
       "      <td>Total_Estimate_Nonfamily_households</td>\n",
       "    </tr>\n",
       "    <tr>\n",
       "      <th>4</th>\n",
       "      <td>0.099976</td>\n",
       "      <td>Total_Estimate_Households_per_Zip</td>\n",
       "    </tr>\n",
       "    <tr>\n",
       "      <th>5</th>\n",
       "      <td>0.057696</td>\n",
       "      <td>State</td>\n",
       "    </tr>\n",
       "    <tr>\n",
       "      <th>6</th>\n",
       "      <td>0.043514</td>\n",
       "      <td>Noise_Level</td>\n",
       "    </tr>\n",
       "    <tr>\n",
       "      <th>7</th>\n",
       "      <td>0.037371</td>\n",
       "      <td>Wheelchair_Accessible</td>\n",
       "    </tr>\n",
       "    <tr>\n",
       "      <th>8</th>\n",
       "      <td>0.032823</td>\n",
       "      <td>Price_Range</td>\n",
       "    </tr>\n",
       "    <tr>\n",
       "      <th>9</th>\n",
       "      <td>0.026888</td>\n",
       "      <td>WiFi</td>\n",
       "    </tr>\n",
       "    <tr>\n",
       "      <th>10</th>\n",
       "      <td>0.026254</td>\n",
       "      <td>Restaurants_Delivery</td>\n",
       "    </tr>\n",
       "    <tr>\n",
       "      <th>11</th>\n",
       "      <td>0.025267</td>\n",
       "      <td>Reservations</td>\n",
       "    </tr>\n",
       "    <tr>\n",
       "      <th>12</th>\n",
       "      <td>0.023102</td>\n",
       "      <td>Outdoor_Seating</td>\n",
       "    </tr>\n",
       "    <tr>\n",
       "      <th>13</th>\n",
       "      <td>0.021264</td>\n",
       "      <td>Happy_Hour</td>\n",
       "    </tr>\n",
       "    <tr>\n",
       "      <th>14</th>\n",
       "      <td>0.019703</td>\n",
       "      <td>Good_For_Kids</td>\n",
       "    </tr>\n",
       "    <tr>\n",
       "      <th>15</th>\n",
       "      <td>0.019110</td>\n",
       "      <td>Good_For_Groups</td>\n",
       "    </tr>\n",
       "    <tr>\n",
       "      <th>16</th>\n",
       "      <td>0.012429</td>\n",
       "      <td>Accepts_CreditCards</td>\n",
       "    </tr>\n",
       "    <tr>\n",
       "      <th>17</th>\n",
       "      <td>0.008771</td>\n",
       "      <td>Alcohol</td>\n",
       "    </tr>\n",
       "    <tr>\n",
       "      <th>18</th>\n",
       "      <td>0.008688</td>\n",
       "      <td>Restaurants_TakeOut</td>\n",
       "    </tr>\n",
       "    <tr>\n",
       "      <th>19</th>\n",
       "      <td>0.000159</td>\n",
       "      <td>Dietary_Restrictions</td>\n",
       "    </tr>\n",
       "  </tbody>\n",
       "</table>\n",
       "</div>"
      ],
      "text/plain": [
       "       Score                                          Feature\n",
       "0   0.226436                                     Review_Count\n",
       "1   0.104476                           Median_Income(dollars)\n",
       "2   0.103369  Total_Estimate_Married-couple_Family_households\n",
       "3   0.102704              Total_Estimate_Nonfamily_households\n",
       "4   0.099976                Total_Estimate_Households_per_Zip\n",
       "5   0.057696                                            State\n",
       "6   0.043514                                      Noise_Level\n",
       "7   0.037371                            Wheelchair_Accessible\n",
       "8   0.032823                                      Price_Range\n",
       "9   0.026888                                             WiFi\n",
       "10  0.026254                             Restaurants_Delivery\n",
       "11  0.025267                                     Reservations\n",
       "12  0.023102                                  Outdoor_Seating\n",
       "13  0.021264                                       Happy_Hour\n",
       "14  0.019703                                    Good_For_Kids\n",
       "15  0.019110                                  Good_For_Groups\n",
       "16  0.012429                              Accepts_CreditCards\n",
       "17  0.008771                                          Alcohol\n",
       "18  0.008688                              Restaurants_TakeOut\n",
       "19  0.000159                             Dietary_Restrictions"
      ]
     },
     "execution_count": 53,
     "metadata": {},
     "output_type": "execute_result"
    }
   ],
   "source": [
    "df"
   ]
  },
  {
   "cell_type": "code",
   "execution_count": 34,
   "id": "c7a2c091",
   "metadata": {},
   "outputs": [],
   "source": [
    "score = df[\"Score\"]\n",
    "feature = df[\"Feature\"]"
   ]
  },
  {
   "cell_type": "code",
   "execution_count": 59,
   "id": "9e2d5ad1",
   "metadata": {},
   "outputs": [
    {
     "data": {
      "text/plain": [
       "[['Review_Count'],\n",
       " ['Median_Income(dollars)'],\n",
       " ['Total_Estimate_Married-couple_Family_households'],\n",
       " ['Total_Estimate_Nonfamily_households'],\n",
       " ['Total_Estimate_Households_per_Zip'],\n",
       " ['State'],\n",
       " ['Noise_Level'],\n",
       " ['Wheelchair_Accessible'],\n",
       " ['Price_Range'],\n",
       " ['WiFi'],\n",
       " ['Restaurants_Delivery'],\n",
       " ['Reservations'],\n",
       " ['Outdoor_Seating'],\n",
       " ['Happy_Hour'],\n",
       " ['Good_For_Kids'],\n",
       " ['Good_For_Groups'],\n",
       " ['Accepts_CreditCards'],\n",
       " ['Alcohol'],\n",
       " ['Restaurants_TakeOut'],\n",
       " ['Dietary_Restrictions']]"
      ]
     },
     "execution_count": 59,
     "metadata": {},
     "output_type": "execute_result"
    }
   ],
   "source": [
    "feature = df[\"Feature\"].values.tolist()\n",
    "feature"
   ]
  },
  {
   "cell_type": "code",
   "execution_count": 64,
   "id": "e7afcdc8",
   "metadata": {},
   "outputs": [],
   "source": [
    "feature = ['Review_Count',\n",
    " 'Median_Income(dollars)',\n",
    " 'Total_Estimate_Married-couple_Family_households',\n",
    " 'Total_Estimate_Nonfamily_households',\n",
    " 'Total_Estimate_Households_per_Zip',\n",
    " 'State',\n",
    " 'Noise_Level',\n",
    " 'Wheelchair_Accessible',\n",
    " 'Price_Range',\n",
    " 'WiFi',\n",
    " 'Restaurants_Delivery',\n",
    " 'Reservations',\n",
    " 'Outdoor_Seating',\n",
    " 'Happy_Hour',\n",
    " 'Good_For_Kids',\n",
    " 'Good_For_Groups',\n",
    " 'Accepts_CreditCards',\n",
    " 'Alcohol',\n",
    " 'Restaurants_TakeOut',\n",
    " 'Dietary_Restrictions']"
   ]
  },
  {
   "cell_type": "code",
   "execution_count": 61,
   "id": "58dd8ee8",
   "metadata": {},
   "outputs": [
    {
     "data": {
      "text/plain": [
       "[[0.22643557596851938],\n",
       " [0.10447599773531253],\n",
       " [0.10336934258148994],\n",
       " [0.10270381227260895],\n",
       " [0.09997552369582124],\n",
       " [0.05769603092835557],\n",
       " [0.0435140149234881],\n",
       " [0.037371101922562704],\n",
       " [0.032822868446919604],\n",
       " [0.026887616303672812],\n",
       " [0.02625419049218679],\n",
       " [0.025267098794591512],\n",
       " [0.023101907764094005],\n",
       " [0.021264305276072266],\n",
       " [0.019702838651152237],\n",
       " [0.01911035849912466],\n",
       " [0.012428595192659566],\n",
       " [0.008771453605377922],\n",
       " [0.008688349547429733],\n",
       " [0.00015901739856053238]]"
      ]
     },
     "execution_count": 61,
     "metadata": {},
     "output_type": "execute_result"
    }
   ],
   "source": [
    "score = df[\"Score\"].values.tolist()\n",
    "score"
   ]
  },
  {
   "cell_type": "code",
   "execution_count": 65,
   "id": "fccd9239",
   "metadata": {},
   "outputs": [],
   "source": [
    "score = [0.22643557596851938,\n",
    " 0.10447599773531253,\n",
    " 0.10336934258148994,\n",
    " 0.10270381227260895,\n",
    " 0.09997552369582124,\n",
    " 0.05769603092835557,\n",
    " 0.0435140149234881,\n",
    " 0.037371101922562704,\n",
    " 0.032822868446919604,\n",
    " 0.026887616303672812,\n",
    " 0.02625419049218679,\n",
    " 0.025267098794591512,\n",
    " 0.023101907764094005,\n",
    " 0.021264305276072266,\n",
    " 0.019702838651152237,\n",
    " 0.01911035849912466,\n",
    " 0.012428595192659566,\n",
    " 0.008771453605377922,\n",
    " 0.008688349547429733,\n",
    " 0.00015901739856053238]"
   ]
  },
  {
   "cell_type": "code",
   "execution_count": 81,
   "id": "25163115",
   "metadata": {},
   "outputs": [
    {
     "data": {
      "image/png": "[encoded data removed]",
      "text/plain": [
       "<Figure size 720x576 with 1 Axes>"
      ]
     },
     "metadata": {
      "needs_background": "light"
     },
     "output_type": "display_data"
    }
   ],
   "source": [
    "plt.rcParams[\"figure.figsize\"] = (10,8)\n",
    "plt.bar(feature, score)\n",
    "plt.xticks(feature, rotation=78)\n",
    "plt.title(\"Feature Importance\")\n",
    "\n",
    "plt.tight_layout()"
   ]
  },
  {
   "cell_type": "code",
   "execution_count": 46,
   "id": "ec28c33a",
   "metadata": {},
   "outputs": [
    {
     "data": {
      "text/plain": [
       "Score      float64\n",
       "Feature     object\n",
       "dtype: object"
      ]
     },
     "execution_count": 46,
     "metadata": {},
     "output_type": "execute_result"
    }
   ],
   "source": [
    "df.dtypes"
   ]
  },
  {
   "cell_type": "code",
   "execution_count": 45,
   "id": "9529fe83",
   "metadata": {},
   "outputs": [
    {
     "data": {
      "text/plain": [
       "<AxesSubplot:>"
      ]
     },
     "execution_count": 45,
     "metadata": {},
     "output_type": "execute_result"
    },
    {
     "data": {
      "image/png": "[encoded data removed]",
      "text/plain": [
       "<Figure size 432x288 with 1 Axes>"
      ]
     },
     "metadata": {
      "needs_background": "light"
     },
     "output_type": "display_data"
    }
   ],
   "source": [
    "df.plot(kind=\"bar\")"
   ]
  },
  {
   "cell_type": "code",
   "execution_count": null,
   "id": "a98d09dc",
   "metadata": {},
   "outputs": [],
   "source": []
  }
 ],
 "metadata": {
  "kernelspec": {
   "display_name": "mlenv",
   "language": "python",
   "name": "mlenv"
  },
  "language_info": {
   "codemirror_mode": {
    "name": "ipython",
    "version": 3
   },
   "file_extension": ".py",
   "mimetype": "text/x-python",
   "name": "python",
   "nbconvert_exporter": "python",
   "pygments_lexer": "ipython3",
   "version": "3.7.13"
  }
 },
 "nbformat": 4,
 "nbformat_minor": 5
}
