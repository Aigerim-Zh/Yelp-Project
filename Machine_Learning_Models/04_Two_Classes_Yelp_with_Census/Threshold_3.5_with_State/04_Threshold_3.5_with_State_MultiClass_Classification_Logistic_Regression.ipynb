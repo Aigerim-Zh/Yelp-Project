{
 "cells": [
  {
   "cell_type": "markdown",
   "id": "e4a6835e",
   "metadata": {},
   "source": [
    "# 1. Logistic Regression"
   ]
  },
  {
   "cell_type": "code",
   "execution_count": 24,
   "id": "24b3f553",
   "metadata": {},
   "outputs": [],
   "source": [
    "import matplotlib.pyplot as plt\n",
    "import pandas as pd\n",
    "import numpy as np\n",
    "\n",
    "from sqlalchemy import create_engine\n",
    "# from config import db_password\n",
    "from sqlalchemy import inspect\n",
    "import matplotlib.pyplot as plt\n",
    "import pandas as pd\n",
    "\n",
    "business_df = pd.read_csv(\"../../../Data/business_census_merged_dataset.csv\")\n",
    "\n",
    "\n",
    "# Categorizing restaurants based on stars ratings\n",
    "business_df[\"Category\"] = pd.cut(business_df[\"Stars_Rating\"],bins=[0.9,3.5,5],\n",
    "                                 labels=[\"Lower Performance\", \"Higher Performance\"])\n",
    "\n",
    "\n",
    "def changeStatus(status):\n",
    "    if status == \"Lower Performance\":\n",
    "        return 0\n",
    "    else:\n",
    "        return 1\n",
    "    \n",
    "business_df['Category_Encoded'] = business_df[\"Category\"].apply(changeStatus)\n",
    "business_df[\"Category_Encoded\"] = pd.to_numeric(business_df[\"Category_Encoded\"])\n",
    "\n",
    "\n",
    "def changeStatus(status):\n",
    "    if status == 'AZ':\n",
    "        return 1\n",
    "    elif status == 'CA':\n",
    "        return 2\n",
    "    elif status == 'DE':\n",
    "        return 3\n",
    "    elif status == 'FL':\n",
    "        return 4\n",
    "    elif status == 'ID':\n",
    "        return 5\n",
    "    elif status == 'IL':\n",
    "        return 6\n",
    "    elif status == 'IN':\n",
    "        return 7\n",
    "    elif status == 'LA':\n",
    "        return 8\n",
    "    elif status == 'NJ':\n",
    "        return 9\n",
    "    elif status == 'NV':\n",
    "        return 10\n",
    "    elif status == 'PA':\n",
    "        return 11\n",
    "    else:\n",
    "        return 12\n",
    "# Along with replace() and map(), encode the state column into numbers.\n",
    "business_df[\"State\"] = business_df[\"State\"].apply(changeStatus)\n",
    "\n",
    "business_df[\"Median_Income(dollars)\"] = pd.to_numeric(business_df[\"Median_Income(dollars)\"], errors='coerce')\n",
    "business_df[\"Mean_Income(dollars)\"] = pd.to_numeric(business_df[\"Mean_Income(dollars)\"], errors='coerce')\n",
    "\n",
    "business_df = business_df.dropna(subset=['Median_Income(dollars)'])"
   ]
  },
  {
   "cell_type": "code",
   "execution_count": 25,
   "id": "05a1b6cf",
   "metadata": {},
   "outputs": [
    {
     "data": {
      "text/plain": [
       "Counter({'Higher Performance': 12794, 'Lower Performance': 11945})"
      ]
     },
     "execution_count": 25,
     "metadata": {},
     "output_type": "execute_result"
    }
   ],
   "source": [
    "y = business_df[\"Category\"]\n",
    "from collections import Counter\n",
    "Counter(y)"
   ]
  },
  {
   "cell_type": "code",
   "execution_count": 26,
   "id": "01c84332",
   "metadata": {
    "scrolled": true
   },
   "outputs": [
    {
     "data": {
      "text/plain": [
       "Index(['Restaurant_ID', 'Restaurants_Name', 'Address', 'City', 'State',\n",
       "       'Postal_Code', 'Latitude', 'Longitude', 'Stars_Rating', 'Review_Count',\n",
       "       'Restaurants_Delivery', 'Outdoor_Seating', 'Accepts_CreditCards',\n",
       "       'Price_Range', 'Alcohol', 'Good_For_Kids', 'Reservations',\n",
       "       'Restaurants_TakeOut', 'WiFi', 'Good_For_Groups',\n",
       "       'Wheelchair_Accessible', 'Happy_Hour', 'Noise_Level',\n",
       "       'Dietary_Restrictions', 'Total_Estimate_Households_per_Zip',\n",
       "       'Total_Estimate_Married-couple_Family_households',\n",
       "       'Total_Estimate_Nonfamily_households', 'Median_Income(dollars)',\n",
       "       'Mean_Income(dollars)', 'Category', 'Category_Encoded'],\n",
       "      dtype='object')"
      ]
     },
     "execution_count": 26,
     "metadata": {},
     "output_type": "execute_result"
    }
   ],
   "source": [
    "business_df.columns"
   ]
  },
  {
   "cell_type": "code",
   "execution_count": 27,
   "id": "1a325822",
   "metadata": {},
   "outputs": [],
   "source": [
    "X = business_df[['State','Review_Count', 'Restaurants_Delivery', 'Outdoor_Seating',\n",
    "       'Accepts_CreditCards', 'Price_Range', 'Alcohol', 'Good_For_Kids',\n",
    "       'Reservations', 'Restaurants_TakeOut', 'WiFi', 'Good_For_Groups',\n",
    "       'Wheelchair_Accessible', 'Happy_Hour', 'Noise_Level',\n",
    "       'Dietary_Restrictions',\n",
    "                'Total_Estimate_Married-couple_Family_households',\n",
    "       'Total_Estimate_Nonfamily_households',\n",
    "                'Median_Income(dollars)', 'Total_Estimate_Households_per_Zip']]"
   ]
  },
  {
   "cell_type": "code",
   "execution_count": 28,
   "id": "276df36e",
   "metadata": {
    "scrolled": true
   },
   "outputs": [
    {
     "data": {
      "text/plain": [
       "0        1\n",
       "1        1\n",
       "2        1\n",
       "3        0\n",
       "4        1\n",
       "        ..\n",
       "24734    1\n",
       "24735    1\n",
       "24736    0\n",
       "24737    0\n",
       "24738    0\n",
       "Name: Category_Encoded, Length: 24739, dtype: int64"
      ]
     },
     "execution_count": 28,
     "metadata": {},
     "output_type": "execute_result"
    }
   ],
   "source": [
    "# Define the target\n",
    "y = business_df[\"Category_Encoded\"]\n",
    "y"
   ]
  },
  {
   "cell_type": "code",
   "execution_count": 29,
   "id": "6ffeb627",
   "metadata": {},
   "outputs": [],
   "source": [
    "# Split the model into training and testing sets\n",
    "from sklearn.model_selection import train_test_split\n",
    "\n",
    "X_train, X_test, y_train, y_test = train_test_split(X,\n",
    "                                                   y, \n",
    "                                                   random_state=1, \n",
    "                                                    stratify=y)"
   ]
  },
  {
   "cell_type": "code",
   "execution_count": 30,
   "id": "9d7ed0bb",
   "metadata": {},
   "outputs": [
    {
     "data": {
      "text/plain": [
       "LogisticRegression(random_state=1)"
      ]
     },
     "execution_count": 30,
     "metadata": {},
     "output_type": "execute_result"
    }
   ],
   "source": [
    "# Instantiate a Logistic Regression Model\n",
    "from sklearn.linear_model import LogisticRegression\n",
    "\n",
    "model = LogisticRegression(solver=\"lbfgs\", random_state=1)\n",
    "model"
   ]
  },
  {
   "cell_type": "code",
   "execution_count": 31,
   "id": "9002e287",
   "metadata": {},
   "outputs": [
    {
     "data": {
      "text/plain": [
       "LogisticRegression(random_state=1)"
      ]
     },
     "execution_count": 31,
     "metadata": {},
     "output_type": "execute_result"
    }
   ],
   "source": [
    "# Train the model\n",
    "model.fit(X_train, y_train)"
   ]
  },
  {
   "cell_type": "code",
   "execution_count": 32,
   "id": "121a1c97",
   "metadata": {},
   "outputs": [],
   "source": [
    "# Make predictions\n",
    "y_pred = model.predict(X_test)"
   ]
  },
  {
   "cell_type": "code",
   "execution_count": 33,
   "id": "84bf815c",
   "metadata": {},
   "outputs": [
    {
     "data": {
      "text/plain": [
       "0.5734842360549717"
      ]
     },
     "execution_count": 33,
     "metadata": {},
     "output_type": "execute_result"
    }
   ],
   "source": [
    "# Evaluate the Model\n",
    "from sklearn.metrics import accuracy_score\n",
    "accuracy_score(y_test, y_pred)"
   ]
  },
  {
   "cell_type": "code",
   "execution_count": 34,
   "id": "9777c43d",
   "metadata": {},
   "outputs": [
    {
     "data": {
      "text/plain": [
       "0.5866120513096906"
      ]
     },
     "execution_count": 34,
     "metadata": {},
     "output_type": "execute_result"
    }
   ],
   "source": [
    "y_pred_train = model.predict(X_train)\n",
    "accuracy_score(y_train, y_pred_train)"
   ]
  },
  {
   "cell_type": "code",
   "execution_count": 35,
   "id": "253cfe0b",
   "metadata": {
    "scrolled": true
   },
   "outputs": [
    {
     "name": "stdout",
     "output_type": "stream",
     "text": [
      "[[1872 1114]\n",
      " [1524 1675]]\n"
     ]
    }
   ],
   "source": [
    "# Calculate the confusion matrix \n",
    "from sklearn.metrics import confusion_matrix, classification_report\n",
    "\n",
    "matrix=confusion_matrix(y_test, y_pred)\n",
    "print(matrix)"
   ]
  },
  {
   "cell_type": "code",
   "execution_count": 36,
   "id": "a50f969d",
   "metadata": {
    "scrolled": true
   },
   "outputs": [
    {
     "name": "stdout",
     "output_type": "stream",
     "text": [
      "              precision    recall  f1-score   support\n",
      "\n",
      "           0       0.55      0.63      0.59      2986\n",
      "           1       0.60      0.52      0.56      3199\n",
      "\n",
      "    accuracy                           0.57      6185\n",
      "   macro avg       0.58      0.58      0.57      6185\n",
      "weighted avg       0.58      0.57      0.57      6185\n",
      "\n"
     ]
    }
   ],
   "source": [
    "report=classification_report(y_test, y_pred)\n",
    "print(report)"
   ]
  },
  {
   "cell_type": "code",
   "execution_count": null,
   "id": "d4e5ad66",
   "metadata": {},
   "outputs": [],
   "source": []
  }
 ],
 "metadata": {
  "kernelspec": {
   "display_name": "mlenv",
   "language": "python",
   "name": "mlenv"
  },
  "language_info": {
   "codemirror_mode": {
    "name": "ipython",
    "version": 3
   },
   "file_extension": ".py",
   "mimetype": "text/x-python",
   "name": "python",
   "nbconvert_exporter": "python",
   "pygments_lexer": "ipython3",
   "version": "3.7.13"
  }
 },
 "nbformat": 4,
 "nbformat_minor": 5
}
