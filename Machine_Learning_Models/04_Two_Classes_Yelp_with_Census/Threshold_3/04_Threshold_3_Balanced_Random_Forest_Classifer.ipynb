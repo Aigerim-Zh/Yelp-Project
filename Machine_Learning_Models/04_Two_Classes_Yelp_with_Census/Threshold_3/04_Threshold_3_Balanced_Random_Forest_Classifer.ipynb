{
 "cells": [
  {
   "cell_type": "markdown",
   "id": "170c72a9",
   "metadata": {},
   "source": [
    "# Balanced Random Forest Classifier"
   ]
  },
  {
   "cell_type": "markdown",
   "id": "6a1f7f4a",
   "metadata": {},
   "source": [
    "A random forest model combines many decision trees into a forest of trees. Random forest models:\n",
    "- Are robust against overfitting because all of those weak learners are trained on different pieces of the data.\n",
    "- Can be used to rank the importance of input variables in a natural way.\n",
    "- Can handle thousands of input variables without variable deletion.\n",
    "- Are robust to outliers and nonlinear data.\n",
    "- Run efficiently on large datasets. "
   ]
  },
  {
   "cell_type": "code",
   "execution_count": 13,
   "id": "86739bee",
   "metadata": {},
   "outputs": [],
   "source": [
    "import matplotlib.pyplot as plt\n",
    "import pandas as pd\n",
    "import numpy as np\n",
    "\n",
    "from sqlalchemy import create_engine\n",
    "# from config import db_password\n",
    "from sqlalchemy import inspect\n",
    "import matplotlib.pyplot as plt\n",
    "import pandas as pd\n",
    "\n",
    "business_df = pd.read_csv(\"../../../Data/business_census_merged_dataset.csv\")\n",
    "\n",
    "# Categorizing restaurants based on stars ratings\n",
    "business_df[\"Category\"] = pd.cut(business_df[\"Stars_Rating\"],bins=[0.9,3,5],\n",
    "                                 labels=[\"Lower Performance\", \"Higher Performance\"])\n",
    "\n",
    "def changeStatus(status):\n",
    "    if status == \"Lower Performance\":\n",
    "        return 0\n",
    "    else:\n",
    "        return 1\n",
    "    \n",
    "business_df['Category_Encoded'] = business_df[\"Category\"].apply(changeStatus)\n",
    "business_df[\"Category_Encoded\"] = pd.to_numeric(business_df[\"Category_Encoded\"])\n",
    "\n",
    "business_df[\"Median_Income(dollars)\"] = pd.to_numeric(business_df[\"Median_Income(dollars)\"], errors='coerce')\n",
    "business_df[\"Mean_Income(dollars)\"] = pd.to_numeric(business_df[\"Mean_Income(dollars)\"], errors='coerce')\n",
    "\n",
    "business_df = business_df.dropna(subset=['Median_Income(dollars)'])"
   ]
  },
  {
   "cell_type": "code",
   "execution_count": 14,
   "id": "4b8d6569",
   "metadata": {},
   "outputs": [],
   "source": [
    "# Define features set\n",
    "X = business_df[['Review_Count', 'Restaurants_Delivery', 'Outdoor_Seating',\n",
    "       'Accepts_CreditCards', 'Price_Range', 'Alcohol', 'Good_For_Kids',\n",
    "       'Reservations', 'Restaurants_TakeOut', 'WiFi', 'Good_For_Groups',\n",
    "       'Wheelchair_Accessible', 'Happy_Hour', 'Noise_Level',\n",
    "       'Dietary_Restrictions',\n",
    "                'Total_Estimate_Married-couple_Family_households',\n",
    "       'Total_Estimate_Nonfamily_households',\n",
    "                'Median_Income(dollars)', 'Total_Estimate_Households_per_Zip']]"
   ]
  },
  {
   "cell_type": "code",
   "execution_count": 15,
   "id": "246dcd61",
   "metadata": {},
   "outputs": [],
   "source": [
    "# Define the target\n",
    "y = business_df[\"Category_Encoded\"]"
   ]
  },
  {
   "cell_type": "code",
   "execution_count": 16,
   "id": "6b77cf51",
   "metadata": {},
   "outputs": [],
   "source": [
    "# Split the model into training and testing sets\n",
    "from sklearn.model_selection import train_test_split\n",
    "\n",
    "X_train, X_test, y_train, y_test = train_test_split(X,\n",
    "                                                   y, \n",
    "                                                   random_state=1, \n",
    "                                                    stratify=y)"
   ]
  },
  {
   "cell_type": "code",
   "execution_count": 17,
   "id": "e84807ff",
   "metadata": {},
   "outputs": [
    {
     "data": {
      "text/plain": [
       "BalancedRandomForestClassifier(random_state=1)"
      ]
     },
     "execution_count": 17,
     "metadata": {},
     "output_type": "execute_result"
    }
   ],
   "source": [
    "# Resample the training data with the BalancedRandomForestClassifier\n",
    "\n",
    "from imblearn.ensemble import BalancedRandomForestClassifier\n",
    "\n",
    "model = BalancedRandomForestClassifier(n_estimators=100, random_state=1)\n",
    "\n",
    "model.fit(X_train, y_train)  "
   ]
  },
  {
   "cell_type": "code",
   "execution_count": 18,
   "id": "e411e1bb",
   "metadata": {},
   "outputs": [
    {
     "data": {
      "text/plain": [
       "0.6678537668192261"
      ]
     },
     "execution_count": 18,
     "metadata": {},
     "output_type": "execute_result"
    }
   ],
   "source": [
    "# Calculated the balanced accuracy score\n",
    "from sklearn.metrics import balanced_accuracy_score\n",
    "\n",
    "y_pred = model.predict(X_test)\n",
    "balanced_accuracy_score(y_test, y_pred)"
   ]
  },
  {
   "cell_type": "code",
   "execution_count": 19,
   "id": "75b331ff",
   "metadata": {},
   "outputs": [
    {
     "data": {
      "text/plain": [
       "0.910113548205092"
      ]
     },
     "execution_count": 19,
     "metadata": {},
     "output_type": "execute_result"
    }
   ],
   "source": [
    "y_pred_train = model.predict(X_train)\n",
    "balanced_accuracy_score(y_train, y_pred_train)"
   ]
  },
  {
   "cell_type": "code",
   "execution_count": 20,
   "id": "e99d9644",
   "metadata": {},
   "outputs": [
    {
     "data": {
      "text/plain": [
       "array([[1014,  445],\n",
       "       [1698, 3028]])"
      ]
     },
     "execution_count": 20,
     "metadata": {},
     "output_type": "execute_result"
    }
   ],
   "source": [
    "# Display the confusion matrix\n",
    "from sklearn.metrics import confusion_matrix\n",
    "\n",
    "y_pred = model.predict(X_test)\n",
    "\n",
    "confusion_matrix(y_test, y_pred)"
   ]
  },
  {
   "cell_type": "code",
   "execution_count": 21,
   "id": "3a16515f",
   "metadata": {},
   "outputs": [
    {
     "name": "stdout",
     "output_type": "stream",
     "text": [
      "                   pre       rec       spe        f1       geo       iba       sup\n",
      "\n",
      "          0       0.37      0.69      0.64      0.49      0.67      0.45      1459\n",
      "          1       0.87      0.64      0.69      0.74      0.67      0.44      4726\n",
      "\n",
      "avg / total       0.75      0.65      0.68      0.68      0.67      0.44      6185\n",
      "\n"
     ]
    }
   ],
   "source": [
    "# Print the imbalanced classification report\n",
    "from imblearn.metrics import classification_report_imbalanced\n",
    "\n",
    "print(classification_report_imbalanced(y_test, y_pred))"
   ]
  },
  {
   "cell_type": "code",
   "execution_count": 22,
   "id": "68da43a0",
   "metadata": {},
   "outputs": [
    {
     "name": "stdout",
     "output_type": "stream",
     "text": [
      "Review_Count : (0.23074584560737052)\n",
      "Median_Income(dollars) : (0.11839871420587618)\n",
      "Total_Estimate_Nonfamily_households : (0.11814662172649701)\n",
      "Total_Estimate_Married-couple_Family_households : (0.11749014193547516)\n",
      "Total_Estimate_Households_per_Zip : (0.11714366177532029)\n",
      "Noise_Level : (0.045554568858275704)\n",
      "Wheelchair_Accessible : (0.04309597085021557)\n",
      "Price_Range : (0.03023698461476241)\n",
      "WiFi : (0.024659492105205433)\n",
      "Restaurants_Delivery : (0.024266442226988028)\n",
      "Outdoor_Seating : (0.022726238205643852)\n",
      "Happy_Hour : (0.021439922770733543)\n",
      "Reservations : (0.02103442519343966)\n",
      "Good_For_Kids : (0.01866878543673555)\n",
      "Good_For_Groups : (0.015822577393564952)\n",
      "Accepts_CreditCards : (0.012685209098592698)\n",
      "Alcohol : (0.009224171555451653)\n",
      "Restaurants_TakeOut : (0.008445019252503239)\n",
      "Dietary_Restrictions : (0.0002152071873487768)\n"
     ]
    }
   ],
   "source": [
    "# List the features sorted in descending order by feature importance\n",
    "feature_importance = sorted(zip(model.feature_importances_, X.columns), reverse=True)\n",
    "\n",
    "for i in feature_importance:\n",
    "    print('{} : ({})'.format(i[1], i[0]))"
   ]
  },
  {
   "cell_type": "code",
   "execution_count": null,
   "id": "54c910d6",
   "metadata": {},
   "outputs": [],
   "source": []
  },
  {
   "cell_type": "code",
   "execution_count": null,
   "id": "8ecbfe9c",
   "metadata": {},
   "outputs": [],
   "source": []
  },
  {
   "cell_type": "code",
   "execution_count": null,
   "id": "9529fe83",
   "metadata": {},
   "outputs": [],
   "source": []
  }
 ],
 "metadata": {
  "kernelspec": {
   "display_name": "mlenv",
   "language": "python",
   "name": "mlenv"
  },
  "language_info": {
   "codemirror_mode": {
    "name": "ipython",
    "version": 3
   },
   "file_extension": ".py",
   "mimetype": "text/x-python",
   "name": "python",
   "nbconvert_exporter": "python",
   "pygments_lexer": "ipython3",
   "version": "3.7.13"
  }
 },
 "nbformat": 4,
 "nbformat_minor": 5
}
