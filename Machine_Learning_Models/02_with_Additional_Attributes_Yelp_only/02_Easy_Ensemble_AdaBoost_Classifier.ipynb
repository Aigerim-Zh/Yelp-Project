{
 "cells": [
  {
   "cell_type": "markdown",
   "id": "d423ed3c",
   "metadata": {},
   "source": [
    "# Easy Ensemble AdaBoost Classifier"
   ]
  },
  {
   "cell_type": "markdown",
   "id": "4684aa93",
   "metadata": {},
   "source": [
    "In AdaBoost, a model is trained and then evaluated. After evaluating the errors of the first model, another model is trained. \n",
    "\n",
    "The model gives extra weight to the errors from the previous model. The purpose of this weighting is to minimize similar errors in subsequent models. Then, the errors from the second model are given extra weight for the third model. This process is repeated until the error rate is minimized."
   ]
  },
  {
   "cell_type": "code",
   "execution_count": 2,
   "id": "c3f47e05",
   "metadata": {},
   "outputs": [],
   "source": [
    "import matplotlib.pyplot as plt\n",
    "import pandas as pd\n",
    "\n",
    "business_df = pd.read_csv(\"Data/Clean_Business_Data_Round2.csv\")\n",
    "\n",
    "# Categorizing restaurants based on stars ratings\n",
    "business_df[\"Category\"] = pd.cut(business_df[\"Stars_Rating\"],bins=[0.9,2,3,4,5],labels=[\"Poor\",\"Average\",\"Good\",\"Successful\"])\n",
    "\n",
    "# Since price can't be 0 and None, so replace it with a 1\n",
    "def changeStatus(status):\n",
    "    if status == \"Poor\":\n",
    "        return 0\n",
    "    elif status == \"Average\":\n",
    "        return 1\n",
    "    elif status ==  \"Good\":\n",
    "        return 2\n",
    "    else:\n",
    "        return 3\n",
    "\n",
    "business_df['Category_Encoded'] = business_df[\"Category\"].apply(changeStatus)\n",
    "business_df[\"Category_Encoded\"] = pd.to_numeric(business_df[\"Category_Encoded\"])"
   ]
  },
  {
   "cell_type": "code",
   "execution_count": 3,
   "id": "54aa1596",
   "metadata": {},
   "outputs": [
    {
     "data": {
      "text/plain": [
       "Index(['Unnamed: 0', 'Restaurant_ID', 'Restaurants_Name', 'Address', 'City',\n",
       "       'State', 'Postal_Code', 'Latitude', 'Longitude', 'Stars_Rating',\n",
       "       'Review_Count', 'Restaurants_Delivery', 'Outdoor_Seating',\n",
       "       'Accepts_CreditCards', 'Price_Range', 'Alcohol', 'Good_For_Kids',\n",
       "       'Reservations', 'Restaurants_TakeOut', 'WiFi', 'Good_For_Groups',\n",
       "       'Wheelchair_Accessible', 'Happy_Hour', 'Noise_Level',\n",
       "       'Dietary_Restrictions', 'Category', 'Category_Encoded'],\n",
       "      dtype='object')"
      ]
     },
     "execution_count": 3,
     "metadata": {},
     "output_type": "execute_result"
    }
   ],
   "source": [
    "business_df.columns"
   ]
  },
  {
   "cell_type": "code",
   "execution_count": 107,
   "id": "92079f66",
   "metadata": {},
   "outputs": [],
   "source": [
    "# Define features set\n",
    "X = business_df.drop(columns=['Unnamed: 0', 'Restaurant_ID', 'Restaurants_Name', 'Address', 'City',\n",
    "   'State', 'Postal_Code', 'Latitude', 'Longitude', 'Stars_Rating', 'Category', 'Category_Encoded'])"
   ]
  },
  {
   "cell_type": "code",
   "execution_count": 108,
   "id": "5ad3e9ef",
   "metadata": {},
   "outputs": [],
   "source": [
    "# Define the target set\n",
    "y = business_df[\"Category_Encoded\"]"
   ]
  },
  {
   "cell_type": "code",
   "execution_count": 109,
   "id": "20646387",
   "metadata": {},
   "outputs": [],
   "source": [
    "# Split the model into training and testing sets\n",
    "from sklearn.model_selection import train_test_split\n",
    "\n",
    "X_train, X_test, y_train, y_test = train_test_split(X,\n",
    "                                                   y, \n",
    "                                                   random_state=1, \n",
    "                                                    stratify=y)"
   ]
  },
  {
   "cell_type": "code",
   "execution_count": 110,
   "id": "4c86c8d9",
   "metadata": {},
   "outputs": [
    {
     "data": {
      "text/plain": [
       "EasyEnsembleClassifier(n_estimators=100, random_state=1)"
      ]
     },
     "execution_count": 110,
     "metadata": {},
     "output_type": "execute_result"
    }
   ],
   "source": [
    "# Train the EasyEnsembleClassifier\n",
    "from imblearn.ensemble import EasyEnsembleClassifier\n",
    "\n",
    "model = EasyEnsembleClassifier(n_estimators=100, random_state=1)\n",
    "\n",
    "model.fit(X_train, y_train)"
   ]
  },
  {
   "cell_type": "code",
   "execution_count": 111,
   "id": "74d3eea4",
   "metadata": {},
   "outputs": [
    {
     "data": {
      "text/plain": [
       "0.4865440535309643"
      ]
     },
     "execution_count": 111,
     "metadata": {},
     "output_type": "execute_result"
    }
   ],
   "source": [
    "# Calculated the balanced accuracy score\n",
    "from sklearn.metrics import balanced_accuracy_score\n",
    "y_pred = model.predict(X_test)\n",
    "balanced_accuracy_score(y_test, y_pred)"
   ]
  },
  {
   "cell_type": "code",
   "execution_count": 112,
   "id": "4ab69aad",
   "metadata": {},
   "outputs": [
    {
     "data": {
      "text/plain": [
       "0.48639574322802226"
      ]
     },
     "execution_count": 112,
     "metadata": {},
     "output_type": "execute_result"
    }
   ],
   "source": [
    "y_pred_train = model.predict(X_train)\n",
    "balanced_accuracy_score(y_train, y_pred_train)"
   ]
  },
  {
   "cell_type": "code",
   "execution_count": 98,
   "id": "428e2f90",
   "metadata": {},
   "outputs": [
    {
     "data": {
      "text/plain": [
       "array([[ 476,  268,  400,  186],\n",
       "       [ 881, 1117,  683, 1161],\n",
       "       [  48,   11,  204,   24],\n",
       "       [ 135,  257,  163,  788]])"
      ]
     },
     "execution_count": 98,
     "metadata": {},
     "output_type": "execute_result"
    }
   ],
   "source": [
    "# Display the confusion matrix\n",
    "from sklearn.metrics import confusion_matrix\n",
    "\n",
    "cm = confusion_matrix(y_test, y_pred)\n",
    "cm"
   ]
  },
  {
   "cell_type": "code",
   "execution_count": 99,
   "id": "b6e4dba7",
   "metadata": {},
   "outputs": [
    {
     "name": "stdout",
     "output_type": "stream",
     "text": [
      "                   pre       rec       spe        f1       geo       iba       sup\n",
      "\n",
      "    Average       0.31      0.36      0.81      0.33      0.54      0.28      1330\n",
      "       Good       0.68      0.29      0.82      0.41      0.49      0.23      3842\n",
      "       Poor       0.14      0.71      0.81      0.23      0.76      0.57       287\n",
      " Successful       0.36      0.59      0.75      0.45      0.66      0.43      1343\n",
      "\n",
      "avg / total       0.52      0.38      0.80      0.39      0.54      0.29      6802\n",
      "\n"
     ]
    }
   ],
   "source": [
    "# Print the imbalanced classification report\n",
    "from imblearn.metrics import classification_report_imbalanced\n",
    "\n",
    "print(classification_report_imbalanced(y_test, y_pred))\n",
    "\n"
   ]
  },
  {
   "cell_type": "code",
   "execution_count": null,
   "id": "ee18a9e1",
   "metadata": {},
   "outputs": [],
   "source": []
  }
 ],
 "metadata": {
  "kernelspec": {
   "display_name": "mlenv",
   "language": "python",
   "name": "mlenv"
  },
  "language_info": {
   "codemirror_mode": {
    "name": "ipython",
    "version": 3
   },
   "file_extension": ".py",
   "mimetype": "text/x-python",
   "name": "python",
   "nbconvert_exporter": "python",
   "pygments_lexer": "ipython3",
   "version": "3.7.13"
  }
 },
 "nbformat": 4,
 "nbformat_minor": 5
}
