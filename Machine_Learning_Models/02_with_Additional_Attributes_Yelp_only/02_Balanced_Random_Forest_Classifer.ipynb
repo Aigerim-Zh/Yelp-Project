{
 "cells": [
  {
   "cell_type": "markdown",
   "id": "170c72a9",
   "metadata": {},
   "source": [
    "# Balanced Random Forest Classifier"
   ]
  },
  {
   "cell_type": "markdown",
   "id": "6a1f7f4a",
   "metadata": {},
   "source": [
    "A random forest model combines many decision trees into a forest of trees. Random forest models:\n",
    "- Are robust against overfitting because all of those weak learners are trained on different pieces of the data.\n",
    "- Can be used to rank the importance of input variables in a natural way.\n",
    "- Can handle thousands of input variables without variable deletion.\n",
    "- Are robust to outliers and nonlinear data.\n",
    "- Run efficiently on large datasets. "
   ]
  },
  {
   "cell_type": "code",
   "execution_count": 1,
   "id": "86739bee",
   "metadata": {},
   "outputs": [],
   "source": [
    "import matplotlib.pyplot as plt\n",
    "import pandas as pd\n",
    "\n",
    "business_df = pd.read_csv(\"../../Data/02_Clean_Business_Data_Add_Attrs.csv\")\n",
    "\n",
    "# Categorizing restaurants based on stars ratings\n",
    "business_df[\"Category\"] = pd.cut(business_df[\"Stars_Rating\"],bins=[0.9,2,3,4,5],labels=[\"Poor\",\"Average\",\"Good\",\"Successful\"])\n",
    "\n",
    "# Since price can't be 0 and None, so replace it with a 1\n",
    "def changeStatus(status):\n",
    "    if status == \"Poor\":\n",
    "        return 0\n",
    "    elif status == \"Average\":\n",
    "        return 1\n",
    "    elif status ==  \"Good\":\n",
    "        return 2\n",
    "    else:\n",
    "        return 3\n",
    "\n",
    "business_df['Category_Encoded'] = business_df[\"Category\"].apply(changeStatus)\n",
    "business_df[\"Category_Encoded\"] = pd.to_numeric(business_df[\"Category_Encoded\"])"
   ]
  },
  {
   "cell_type": "code",
   "execution_count": 45,
   "id": "17cea605",
   "metadata": {},
   "outputs": [],
   "source": [
    "# Categorizing restaurants based on stars ratings\n",
    "business_df[\"Category\"] = pd.cut(business_df[\"Stars_Rating\"],bins=[0.9,2,3,4,5],labels=[\"Poor\",\"Average\",\"Good\",\"Successful\"])"
   ]
  },
  {
   "cell_type": "code",
   "execution_count": 46,
   "id": "2c792502",
   "metadata": {},
   "outputs": [
    {
     "data": {
      "text/plain": [
       "Index(['Unnamed: 0', 'Restaurant_ID', 'Restaurants_Name', 'Address', 'City',\n",
       "       'State', 'Postal_Code', 'Latitude', 'Longitude', 'Stars_Rating',\n",
       "       'Review_Count', 'Restaurants_Delivery', 'Outdoor_Seating',\n",
       "       'Accepts_CreditCards', 'Price_Range', 'Alcohol', 'Good_For_Kids',\n",
       "       'Reservations', 'Restaurants_TakeOut', 'WiFi', 'Good_For_Groups',\n",
       "       'Wheelchair_Accessible', 'Happy_Hour', 'Noise_Level',\n",
       "       'Dietary_Restrictions', 'Category', 'Category_Encoded'],\n",
       "      dtype='object')"
      ]
     },
     "execution_count": 46,
     "metadata": {},
     "output_type": "execute_result"
    }
   ],
   "source": [
    "business_df.columns"
   ]
  },
  {
   "cell_type": "code",
   "execution_count": 62,
   "id": "4b8d6569",
   "metadata": {},
   "outputs": [
    {
     "data": {
      "text/html": [
       "<div>\n",
       "<style scoped>\n",
       "    .dataframe tbody tr th:only-of-type {\n",
       "        vertical-align: middle;\n",
       "    }\n",
       "\n",
       "    .dataframe tbody tr th {\n",
       "        vertical-align: top;\n",
       "    }\n",
       "\n",
       "    .dataframe thead th {\n",
       "        text-align: right;\n",
       "    }\n",
       "</style>\n",
       "<table border=\"1\" class=\"dataframe\">\n",
       "  <thead>\n",
       "    <tr style=\"text-align: right;\">\n",
       "      <th></th>\n",
       "      <th>Review_Count</th>\n",
       "      <th>Restaurants_Delivery</th>\n",
       "      <th>Outdoor_Seating</th>\n",
       "      <th>Accepts_CreditCards</th>\n",
       "      <th>Price_Range</th>\n",
       "      <th>Alcohol</th>\n",
       "      <th>Good_For_Kids</th>\n",
       "      <th>Reservations</th>\n",
       "      <th>Restaurants_TakeOut</th>\n",
       "      <th>WiFi</th>\n",
       "      <th>Good_For_Groups</th>\n",
       "      <th>Wheelchair_Accessible</th>\n",
       "      <th>Happy_Hour</th>\n",
       "      <th>Noise_Level</th>\n",
       "    </tr>\n",
       "  </thead>\n",
       "  <tbody>\n",
       "    <tr>\n",
       "      <th>0</th>\n",
       "      <td>80</td>\n",
       "      <td>0</td>\n",
       "      <td>0</td>\n",
       "      <td>0</td>\n",
       "      <td>1</td>\n",
       "      <td>1</td>\n",
       "      <td>0</td>\n",
       "      <td>0</td>\n",
       "      <td>1</td>\n",
       "      <td>1</td>\n",
       "      <td>0</td>\n",
       "      <td>0</td>\n",
       "      <td>0</td>\n",
       "      <td>1</td>\n",
       "    </tr>\n",
       "    <tr>\n",
       "      <th>1</th>\n",
       "      <td>100</td>\n",
       "      <td>1</td>\n",
       "      <td>0</td>\n",
       "      <td>1</td>\n",
       "      <td>1</td>\n",
       "      <td>1</td>\n",
       "      <td>1</td>\n",
       "      <td>0</td>\n",
       "      <td>1</td>\n",
       "      <td>0</td>\n",
       "      <td>0</td>\n",
       "      <td>1</td>\n",
       "      <td>0</td>\n",
       "      <td>4</td>\n",
       "    </tr>\n",
       "    <tr>\n",
       "      <th>2</th>\n",
       "      <td>245</td>\n",
       "      <td>1</td>\n",
       "      <td>1</td>\n",
       "      <td>1</td>\n",
       "      <td>2</td>\n",
       "      <td>1</td>\n",
       "      <td>0</td>\n",
       "      <td>1</td>\n",
       "      <td>1</td>\n",
       "      <td>1</td>\n",
       "      <td>1</td>\n",
       "      <td>1</td>\n",
       "      <td>1</td>\n",
       "      <td>4</td>\n",
       "    </tr>\n",
       "    <tr>\n",
       "      <th>3</th>\n",
       "      <td>205</td>\n",
       "      <td>1</td>\n",
       "      <td>1</td>\n",
       "      <td>1</td>\n",
       "      <td>1</td>\n",
       "      <td>1</td>\n",
       "      <td>1</td>\n",
       "      <td>0</td>\n",
       "      <td>1</td>\n",
       "      <td>0</td>\n",
       "      <td>0</td>\n",
       "      <td>0</td>\n",
       "      <td>0</td>\n",
       "      <td>1</td>\n",
       "    </tr>\n",
       "    <tr>\n",
       "      <th>4</th>\n",
       "      <td>339</td>\n",
       "      <td>1</td>\n",
       "      <td>1</td>\n",
       "      <td>1</td>\n",
       "      <td>2</td>\n",
       "      <td>1</td>\n",
       "      <td>1</td>\n",
       "      <td>1</td>\n",
       "      <td>1</td>\n",
       "      <td>1</td>\n",
       "      <td>1</td>\n",
       "      <td>0</td>\n",
       "      <td>1</td>\n",
       "      <td>4</td>\n",
       "    </tr>\n",
       "    <tr>\n",
       "      <th>...</th>\n",
       "      <td>...</td>\n",
       "      <td>...</td>\n",
       "      <td>...</td>\n",
       "      <td>...</td>\n",
       "      <td>...</td>\n",
       "      <td>...</td>\n",
       "      <td>...</td>\n",
       "      <td>...</td>\n",
       "      <td>...</td>\n",
       "      <td>...</td>\n",
       "      <td>...</td>\n",
       "      <td>...</td>\n",
       "      <td>...</td>\n",
       "      <td>...</td>\n",
       "    </tr>\n",
       "    <tr>\n",
       "      <th>27202</th>\n",
       "      <td>55</td>\n",
       "      <td>1</td>\n",
       "      <td>0</td>\n",
       "      <td>1</td>\n",
       "      <td>2</td>\n",
       "      <td>1</td>\n",
       "      <td>1</td>\n",
       "      <td>0</td>\n",
       "      <td>1</td>\n",
       "      <td>1</td>\n",
       "      <td>0</td>\n",
       "      <td>0</td>\n",
       "      <td>0</td>\n",
       "      <td>4</td>\n",
       "    </tr>\n",
       "    <tr>\n",
       "      <th>27203</th>\n",
       "      <td>204</td>\n",
       "      <td>0</td>\n",
       "      <td>0</td>\n",
       "      <td>1</td>\n",
       "      <td>3</td>\n",
       "      <td>1</td>\n",
       "      <td>1</td>\n",
       "      <td>1</td>\n",
       "      <td>0</td>\n",
       "      <td>1</td>\n",
       "      <td>1</td>\n",
       "      <td>1</td>\n",
       "      <td>1</td>\n",
       "      <td>4</td>\n",
       "    </tr>\n",
       "    <tr>\n",
       "      <th>27204</th>\n",
       "      <td>998</td>\n",
       "      <td>1</td>\n",
       "      <td>1</td>\n",
       "      <td>1</td>\n",
       "      <td>2</td>\n",
       "      <td>1</td>\n",
       "      <td>0</td>\n",
       "      <td>0</td>\n",
       "      <td>1</td>\n",
       "      <td>1</td>\n",
       "      <td>1</td>\n",
       "      <td>0</td>\n",
       "      <td>0</td>\n",
       "      <td>4</td>\n",
       "    </tr>\n",
       "    <tr>\n",
       "      <th>27205</th>\n",
       "      <td>33</td>\n",
       "      <td>0</td>\n",
       "      <td>1</td>\n",
       "      <td>1</td>\n",
       "      <td>1</td>\n",
       "      <td>1</td>\n",
       "      <td>1</td>\n",
       "      <td>0</td>\n",
       "      <td>0</td>\n",
       "      <td>1</td>\n",
       "      <td>1</td>\n",
       "      <td>0</td>\n",
       "      <td>0</td>\n",
       "      <td>3</td>\n",
       "    </tr>\n",
       "    <tr>\n",
       "      <th>27206</th>\n",
       "      <td>35</td>\n",
       "      <td>1</td>\n",
       "      <td>0</td>\n",
       "      <td>1</td>\n",
       "      <td>2</td>\n",
       "      <td>1</td>\n",
       "      <td>1</td>\n",
       "      <td>0</td>\n",
       "      <td>1</td>\n",
       "      <td>1</td>\n",
       "      <td>1</td>\n",
       "      <td>0</td>\n",
       "      <td>0</td>\n",
       "      <td>1</td>\n",
       "    </tr>\n",
       "  </tbody>\n",
       "</table>\n",
       "<p>27207 rows × 14 columns</p>\n",
       "</div>"
      ],
      "text/plain": [
       "       Review_Count  Restaurants_Delivery  Outdoor_Seating  \\\n",
       "0                80                     0                0   \n",
       "1               100                     1                0   \n",
       "2               245                     1                1   \n",
       "3               205                     1                1   \n",
       "4               339                     1                1   \n",
       "...             ...                   ...              ...   \n",
       "27202            55                     1                0   \n",
       "27203           204                     0                0   \n",
       "27204           998                     1                1   \n",
       "27205            33                     0                1   \n",
       "27206            35                     1                0   \n",
       "\n",
       "       Accepts_CreditCards  Price_Range  Alcohol  Good_For_Kids  Reservations  \\\n",
       "0                        0            1        1              0             0   \n",
       "1                        1            1        1              1             0   \n",
       "2                        1            2        1              0             1   \n",
       "3                        1            1        1              1             0   \n",
       "4                        1            2        1              1             1   \n",
       "...                    ...          ...      ...            ...           ...   \n",
       "27202                    1            2        1              1             0   \n",
       "27203                    1            3        1              1             1   \n",
       "27204                    1            2        1              0             0   \n",
       "27205                    1            1        1              1             0   \n",
       "27206                    1            2        1              1             0   \n",
       "\n",
       "       Restaurants_TakeOut  WiFi  Good_For_Groups  Wheelchair_Accessible  \\\n",
       "0                        1     1                0                      0   \n",
       "1                        1     0                0                      1   \n",
       "2                        1     1                1                      1   \n",
       "3                        1     0                0                      0   \n",
       "4                        1     1                1                      0   \n",
       "...                    ...   ...              ...                    ...   \n",
       "27202                    1     1                0                      0   \n",
       "27203                    0     1                1                      1   \n",
       "27204                    1     1                1                      0   \n",
       "27205                    0     1                1                      0   \n",
       "27206                    1     1                1                      0   \n",
       "\n",
       "       Happy_Hour  Noise_Level  \n",
       "0               0            1  \n",
       "1               0            4  \n",
       "2               1            4  \n",
       "3               0            1  \n",
       "4               1            4  \n",
       "...           ...          ...  \n",
       "27202           0            4  \n",
       "27203           1            4  \n",
       "27204           0            4  \n",
       "27205           0            3  \n",
       "27206           0            1  \n",
       "\n",
       "[27207 rows x 14 columns]"
      ]
     },
     "execution_count": 62,
     "metadata": {},
     "output_type": "execute_result"
    }
   ],
   "source": [
    "# Define features set\n",
    "X = business_df.drop(columns=['Unnamed: 0', 'Restaurant_ID', 'Restaurants_Name', 'Address', 'City',\n",
    "       'State', 'Postal_Code', 'Latitude', 'Longitude', 'Stars_Rating', 'Category', 'Category_Encoded', \n",
    "                              'Dietary_Restrictions'])\n",
    "X"
   ]
  },
  {
   "cell_type": "code",
   "execution_count": 63,
   "id": "246dcd61",
   "metadata": {},
   "outputs": [
    {
     "data": {
      "text/plain": [
       "0              Good\n",
       "1        Successful\n",
       "2              Good\n",
       "3        Successful\n",
       "4           Average\n",
       "            ...    \n",
       "27202       Average\n",
       "27203          Good\n",
       "27204    Successful\n",
       "27205          Good\n",
       "27206    Successful\n",
       "Name: Category, Length: 27207, dtype: category\n",
       "Categories (4, object): ['Poor' < 'Average' < 'Good' < 'Successful']"
      ]
     },
     "execution_count": 63,
     "metadata": {},
     "output_type": "execute_result"
    }
   ],
   "source": [
    "# Define the target\n",
    "y = business_df[\"Category_Encoded\"]\n",
    "y"
   ]
  },
  {
   "cell_type": "code",
   "execution_count": 64,
   "id": "6b77cf51",
   "metadata": {},
   "outputs": [],
   "source": [
    "# Split the model into training and testing sets\n",
    "from sklearn.model_selection import train_test_split\n",
    "\n",
    "X_train, X_test, y_train, y_test = train_test_split(X,\n",
    "                                                   y, \n",
    "                                                   random_state=1, \n",
    "                                                    stratify=y)"
   ]
  },
  {
   "cell_type": "code",
   "execution_count": 65,
   "id": "e84807ff",
   "metadata": {},
   "outputs": [
    {
     "data": {
      "text/plain": [
       "BalancedRandomForestClassifier(random_state=1)"
      ]
     },
     "execution_count": 65,
     "metadata": {},
     "output_type": "execute_result"
    }
   ],
   "source": [
    "# Resample the training data with the BalancedRandomForestClassifier\n",
    "\n",
    "from imblearn.ensemble import BalancedRandomForestClassifier\n",
    "\n",
    "model = BalancedRandomForestClassifier(n_estimators=100, random_state=1)\n",
    "\n",
    "model.fit(X_train, y_train)  "
   ]
  },
  {
   "cell_type": "code",
   "execution_count": 66,
   "id": "e411e1bb",
   "metadata": {},
   "outputs": [
    {
     "data": {
      "text/plain": [
       "0.4801211186996594"
      ]
     },
     "execution_count": 66,
     "metadata": {},
     "output_type": "execute_result"
    }
   ],
   "source": [
    "# Calculated the balanced accuracy score\n",
    "from sklearn.metrics import balanced_accuracy_score\n",
    "\n",
    "y_pred = model.predict(X_test)\n",
    "balanced_accuracy_score(y_test, y_pred)"
   ]
  },
  {
   "cell_type": "code",
   "execution_count": 67,
   "id": "e99d9644",
   "metadata": {},
   "outputs": [
    {
     "data": {
      "text/plain": [
       "array([[ 555,  253,  337,  185],\n",
       "       [ 967, 1175,  582, 1118],\n",
       "       [  65,   15,  187,   20],\n",
       "       [ 151,  315,  144,  733]])"
      ]
     },
     "execution_count": 67,
     "metadata": {},
     "output_type": "execute_result"
    }
   ],
   "source": [
    "# Display the confusion matrix\n",
    "from sklearn.metrics import confusion_matrix\n",
    "\n",
    "y_pred = model.predict(X_test)\n",
    "\n",
    "confusion_matrix(y_test, y_pred)"
   ]
  },
  {
   "cell_type": "code",
   "execution_count": 68,
   "id": "3a16515f",
   "metadata": {},
   "outputs": [
    {
     "name": "stdout",
     "output_type": "stream",
     "text": [
      "                   pre       rec       spe        f1       geo       iba       sup\n",
      "\n",
      "    Average       0.32      0.42      0.78      0.36      0.57      0.32      1330\n",
      "       Good       0.67      0.31      0.80      0.42      0.50      0.23      3842\n",
      "       Poor       0.15      0.65      0.84      0.24      0.74      0.54       287\n",
      " Successful       0.36      0.55      0.76      0.43      0.64      0.40      1343\n",
      "\n",
      "avg / total       0.52      0.39      0.79      0.40      0.55      0.30      6802\n",
      "\n"
     ]
    }
   ],
   "source": [
    "# Print the imbalanced classification report\n",
    "from imblearn.metrics import classification_report_imbalanced\n",
    "\n",
    "print(classification_report_imbalanced(y_test, y_pred))"
   ]
  },
  {
   "cell_type": "code",
   "execution_count": 61,
   "id": "68da43a0",
   "metadata": {},
   "outputs": [
    {
     "name": "stdout",
     "output_type": "stream",
     "text": [
      "Review_Count : (0.5175181357539319)\n",
      "Noise_Level : (0.08191126703995406)\n",
      "Price_Range : (0.0521487776554046)\n",
      "Restaurants_Delivery : (0.046852773149190965)\n",
      "Wheelchair_Accessible : (0.04664099891117743)\n",
      "WiFi : (0.04512343624949573)\n",
      "Outdoor_Seating : (0.03970376791535502)\n",
      "Good_For_Kids : (0.03405568241334003)\n",
      "Reservations : (0.034037312394555326)\n",
      "Happy_Hour : (0.03187377728904784)\n",
      "Good_For_Groups : (0.03152922938415627)\n",
      "Alcohol : (0.020460340797408022)\n",
      "Accepts_CreditCards : (0.018144501046982703)\n"
     ]
    }
   ],
   "source": [
    "# List the features sorted in descending order by feature importance\n",
    "feature_importance = sorted(zip(model.feature_importances_, X.columns), reverse=True)\n",
    "\n",
    "for i in feature_importance:\n",
    "    print('{} : ({})'.format(i[1], i[0]))"
   ]
  },
  {
   "cell_type": "code",
   "execution_count": null,
   "id": "54c910d6",
   "metadata": {},
   "outputs": [],
   "source": []
  },
  {
   "cell_type": "code",
   "execution_count": null,
   "id": "8ecbfe9c",
   "metadata": {},
   "outputs": [],
   "source": []
  },
  {
   "cell_type": "code",
   "execution_count": null,
   "id": "9529fe83",
   "metadata": {},
   "outputs": [],
   "source": []
  }
 ],
 "metadata": {
  "kernelspec": {
   "display_name": "mlenv",
   "language": "python",
   "name": "mlenv"
  },
  "language_info": {
   "codemirror_mode": {
    "name": "ipython",
    "version": 3
   },
   "file_extension": ".py",
   "mimetype": "text/x-python",
   "name": "python",
   "nbconvert_exporter": "python",
   "pygments_lexer": "ipython3",
   "version": "3.7.13"
  }
 },
 "nbformat": 4,
 "nbformat_minor": 5
}
