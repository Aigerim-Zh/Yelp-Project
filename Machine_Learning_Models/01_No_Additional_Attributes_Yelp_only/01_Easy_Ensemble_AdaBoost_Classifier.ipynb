{
 "cells": [
  {
   "cell_type": "markdown",
   "id": "d423ed3c",
   "metadata": {},
   "source": [
    "# Easy Ensemble AdaBoost Classifier"
   ]
  },
  {
   "cell_type": "markdown",
   "id": "4684aa93",
   "metadata": {},
   "source": [
    "In AdaBoost, a model is trained and then evaluated. After evaluating the errors of the first model, another model is trained. \n",
    "\n",
    "The model gives extra weight to the errors from the previous model. The purpose of this weighting is to minimize similar errors in subsequent models. Then, the errors from the second model are given extra weight for the third model. This process is repeated until the error rate is minimized."
   ]
  },
  {
   "cell_type": "code",
   "execution_count": 1,
   "id": "c3f47e05",
   "metadata": {},
   "outputs": [],
   "source": [
    "import matplotlib.pyplot as plt\n",
    "import pandas as pd\n",
    "\n",
    "business_df = pd.read_csv(\"../../Data/01_Clean_Business_Data.csv\")\n",
    "\n",
    "# Categorizing restaurants based on stars ratings\n",
    "business_df[\"Category\"] = pd.cut(business_df[\"Stars_Rating\"],bins=[0.9,2,3,4,5],labels=[\"Poor\",\"Average\",\"Good\",\"Successful\"])"
   ]
  },
  {
   "cell_type": "code",
   "execution_count": 2,
   "id": "92079f66",
   "metadata": {},
   "outputs": [],
   "source": [
    "# Define features set\n",
    "X = business_df.drop(columns=['Unnamed: 0', 'Restaurant_ID', 'Restaurants_Name', 'Address', 'City',\n",
    "       'State', 'Postal_Code', 'Latitude', 'Longitude', 'Stars_Rating', 'Category'])"
   ]
  },
  {
   "cell_type": "code",
   "execution_count": 4,
   "id": "5ad3e9ef",
   "metadata": {},
   "outputs": [],
   "source": [
    "# Define the target set\n",
    "y = business_df[\"Category\"]"
   ]
  },
  {
   "cell_type": "code",
   "execution_count": 5,
   "id": "20646387",
   "metadata": {},
   "outputs": [],
   "source": [
    "# Split the model into training and testing sets\n",
    "from sklearn.model_selection import train_test_split\n",
    "\n",
    "X_train, X_test, y_train, y_test = train_test_split(X,\n",
    "                                                   y, \n",
    "                                                   random_state=1, \n",
    "                                                    stratify=y)"
   ]
  },
  {
   "cell_type": "code",
   "execution_count": 6,
   "id": "4c86c8d9",
   "metadata": {},
   "outputs": [
    {
     "data": {
      "text/plain": [
       "EasyEnsembleClassifier(n_estimators=100, random_state=1)"
      ]
     },
     "execution_count": 6,
     "metadata": {},
     "output_type": "execute_result"
    }
   ],
   "source": [
    "# Train the EasyEnsembleClassifier\n",
    "from imblearn.ensemble import EasyEnsembleClassifier\n",
    "\n",
    "model = EasyEnsembleClassifier(n_estimators=100, random_state=1)\n",
    "\n",
    "model.fit(X_train, y_train)"
   ]
  },
  {
   "cell_type": "code",
   "execution_count": 8,
   "id": "74d3eea4",
   "metadata": {},
   "outputs": [
    {
     "data": {
      "text/plain": [
       "0.43398127229197286"
      ]
     },
     "execution_count": 8,
     "metadata": {},
     "output_type": "execute_result"
    }
   ],
   "source": [
    "# Calculated the balanced accuracy score\n",
    "from sklearn.metrics import balanced_accuracy_score\n",
    "y_pred = model.predict(X_test)\n",
    "balanced_accuracy_score(y_test, y_pred)"
   ]
  },
  {
   "cell_type": "code",
   "execution_count": 12,
   "id": "428e2f90",
   "metadata": {},
   "outputs": [
    {
     "data": {
      "text/plain": [
       "array([[ 876,  553,  980,  553],\n",
       "       [1388, 1856,  941, 1817],\n",
       "       [ 217,   41,  679,  180],\n",
       "       [ 366,  432,  339, 1247]])"
      ]
     },
     "execution_count": 12,
     "metadata": {},
     "output_type": "execute_result"
    }
   ],
   "source": [
    "# Display the confusion matrix\n",
    "from sklearn.metrics import confusion_matrix\n",
    "\n",
    "cm = confusion_matrix(y_test, y_pred)\n",
    "cm"
   ]
  },
  {
   "cell_type": "code",
   "execution_count": 13,
   "id": "b6e4dba7",
   "metadata": {},
   "outputs": [
    {
     "name": "stdout",
     "output_type": "stream",
     "text": [
      "                   pre       rec       spe        f1       geo       iba       sup\n",
      "\n",
      "    Average       0.31      0.30      0.79      0.30      0.48      0.22      2962\n",
      "       Good       0.64      0.31      0.84      0.42      0.51      0.25      6002\n",
      "       Poor       0.23      0.61      0.80      0.33      0.70      0.48      1117\n",
      " Successful       0.33      0.52      0.75      0.40      0.63      0.38      2384\n",
      "\n",
      "avg / total       0.47      0.37      0.81      0.38      0.54      0.29     12465\n",
      "\n"
     ]
    }
   ],
   "source": [
    "# Print the imbalanced classification report\n",
    "from imblearn.metrics import classification_report_imbalanced\n",
    "\n",
    "print(classification_report_imbalanced(y_test, y_pred))\n",
    "\n"
   ]
  },
  {
   "cell_type": "code",
   "execution_count": null,
   "id": "ee18a9e1",
   "metadata": {},
   "outputs": [],
   "source": []
  }
 ],
 "metadata": {
  "kernelspec": {
   "display_name": "mlenv",
   "language": "python",
   "name": "mlenv"
  },
  "language_info": {
   "codemirror_mode": {
    "name": "ipython",
    "version": 3
   },
   "file_extension": ".py",
   "mimetype": "text/x-python",
   "name": "python",
   "nbconvert_exporter": "python",
   "pygments_lexer": "ipython3",
   "version": "3.7.13"
  }
 },
 "nbformat": 4,
 "nbformat_minor": 5
}
