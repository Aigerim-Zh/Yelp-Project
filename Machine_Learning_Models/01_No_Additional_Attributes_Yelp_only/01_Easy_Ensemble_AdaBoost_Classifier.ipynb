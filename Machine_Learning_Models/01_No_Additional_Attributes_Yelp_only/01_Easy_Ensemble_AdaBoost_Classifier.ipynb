{
 "cells": [
  {
   "cell_type": "markdown",
   "id": "d423ed3c",
   "metadata": {},
   "source": [
    "# Easy Ensemble AdaBoost Classifier"
   ]
  },
  {
   "cell_type": "markdown",
   "id": "4684aa93",
   "metadata": {},
   "source": [
    "In AdaBoost, a model is trained and then evaluated. After evaluating the errors of the first model, another model is trained. \n",
    "\n",
    "The model gives extra weight to the errors from the previous model. The purpose of this weighting is to minimize similar errors in subsequent models. Then, the errors from the second model are given extra weight for the third model. This process is repeated until the error rate is minimized."
   ]
  },
  {
   "cell_type": "code",
   "execution_count": 2,
   "id": "c3f47e05",
   "metadata": {},
   "outputs": [],
   "source": [
    "import pandas as pd\n",
    "\n",
    "business_df = pd.read_csv(\"../../Data/01_Clean_Business_Data.csv\")\n",
    "\n",
    "# Categorizing restaurants based on stars ratings\n",
    "business_df[\"Category\"] = pd.cut(business_df[\"Stars_Rating\"],bins=[0.9,2,3,4,5],\n",
    "                                 labels=[\"Poor\",\"Average\",\"Good\",\"Successful\"])\n",
    "\n",
    "def changeStatus(status):\n",
    "    if status == \"Poor\":\n",
    "        return 0\n",
    "    elif status == \"Average\":\n",
    "        return 1\n",
    "    elif status ==  \"Good\":\n",
    "        return 2\n",
    "    else:\n",
    "        return 3\n",
    "\n",
    "business_df['Category_Encoded'] = business_df[\"Category\"].apply(changeStatus)\n",
    "business_df[\"Category_Encoded\"] = pd.to_numeric(business_df[\"Category_Encoded\"])"
   ]
  },
  {
   "cell_type": "code",
   "execution_count": 3,
   "id": "92079f66",
   "metadata": {},
   "outputs": [],
   "source": [
    "X = business_df[['Review_Count', 'Restaurants_Delivery', 'Outdoor_Seating',\n",
    "       'Restaurants_TakeOut', 'WiFi', 'Restaurants_Reservations',\n",
    "       'Good_For_Groups', 'Wheelchair_Accessible', 'Happy_Hour',\n",
    "       'Dietary_Restrictions']]"
   ]
  },
  {
   "cell_type": "code",
   "execution_count": 4,
   "id": "5ad3e9ef",
   "metadata": {},
   "outputs": [],
   "source": [
    "# Define the target set\n",
    "y = business_df[\"Category_Encoded\"]"
   ]
  },
  {
   "cell_type": "code",
   "execution_count": 5,
   "id": "20646387",
   "metadata": {},
   "outputs": [],
   "source": [
    "# Split the model into training and testing sets\n",
    "from sklearn.model_selection import train_test_split\n",
    "\n",
    "X_train, X_test, y_train, y_test = train_test_split(X,\n",
    "                                                   y, \n",
    "                                                   random_state=1, \n",
    "                                                    stratify=y)"
   ]
  },
  {
   "cell_type": "code",
   "execution_count": 6,
   "id": "4c86c8d9",
   "metadata": {},
   "outputs": [
    {
     "data": {
      "text/plain": [
       "EasyEnsembleClassifier(n_estimators=100, random_state=1)"
      ]
     },
     "execution_count": 6,
     "metadata": {},
     "output_type": "execute_result"
    }
   ],
   "source": [
    "# Train the EasyEnsembleClassifier\n",
    "from imblearn.ensemble import EasyEnsembleClassifier\n",
    "\n",
    "model = EasyEnsembleClassifier(n_estimators=100, random_state=1)\n",
    "\n",
    "model.fit(X_train, y_train)"
   ]
  },
  {
   "cell_type": "code",
   "execution_count": 7,
   "id": "74d3eea4",
   "metadata": {},
   "outputs": [
    {
     "data": {
      "text/plain": [
       "0.4281340013590954"
      ]
     },
     "execution_count": 7,
     "metadata": {},
     "output_type": "execute_result"
    }
   ],
   "source": [
    "# Calculated the balanced accuracy score\n",
    "from sklearn.metrics import balanced_accuracy_score\n",
    "y_pred = model.predict(X_test)\n",
    "balanced_accuracy_score(y_test, y_pred)"
   ]
  },
  {
   "cell_type": "code",
   "execution_count": 8,
   "id": "bf87d76a",
   "metadata": {},
   "outputs": [
    {
     "data": {
      "text/plain": [
       "0.44239330825548157"
      ]
     },
     "execution_count": 8,
     "metadata": {},
     "output_type": "execute_result"
    }
   ],
   "source": [
    "# Training balanced accuracy\n",
    "y_pred_train = model.predict(X_train)\n",
    "balanced_accuracy_score(y_train, y_pred_train)"
   ]
  },
  {
   "cell_type": "code",
   "execution_count": 9,
   "id": "428e2f90",
   "metadata": {},
   "outputs": [
    {
     "data": {
      "text/plain": [
       "array([[ 671,  238,   40,  168],\n",
       "       [ 994,  885,  550,  533],\n",
       "       [ 983, 1428, 2045, 1546],\n",
       "       [ 352,  359,  547, 1126]])"
      ]
     },
     "execution_count": 9,
     "metadata": {},
     "output_type": "execute_result"
    }
   ],
   "source": [
    "# Display the confusion matrix\n",
    "from sklearn.metrics import confusion_matrix\n",
    "\n",
    "cm = confusion_matrix(y_test, y_pred)\n",
    "cm"
   ]
  },
  {
   "cell_type": "code",
   "execution_count": 11,
   "id": "b6e4dba7",
   "metadata": {},
   "outputs": [
    {
     "name": "stdout",
     "output_type": "stream",
     "text": [
      "                   pre       rec       spe        f1       geo       iba       sup\n",
      "\n",
      "          0       0.22      0.60      0.79      0.33      0.69      0.47      1117\n",
      "          1       0.30      0.30      0.79      0.30      0.48      0.22      2962\n",
      "          2       0.64      0.34      0.82      0.45      0.53      0.27      6002\n",
      "          3       0.33      0.47      0.78      0.39      0.61      0.36      2384\n",
      "\n",
      "avg / total       0.47      0.38      0.80      0.39      0.55      0.29     12465\n",
      "\n"
     ]
    }
   ],
   "source": [
    "# Print the imbalanced classification report\n",
    "from imblearn.metrics import classification_report_imbalanced\n",
    "\n",
    "print(classification_report_imbalanced(y_test, y_pred))\n",
    "\n"
   ]
  },
  {
   "cell_type": "code",
   "execution_count": null,
   "id": "ee18a9e1",
   "metadata": {},
   "outputs": [],
   "source": []
  }
 ],
 "metadata": {
  "kernelspec": {
   "display_name": "mlenv",
   "language": "python",
   "name": "mlenv"
  },
  "language_info": {
   "codemirror_mode": {
    "name": "ipython",
    "version": 3
   },
   "file_extension": ".py",
   "mimetype": "text/x-python",
   "name": "python",
   "nbconvert_exporter": "python",
   "pygments_lexer": "ipython3",
   "version": "3.7.13"
  }
 },
 "nbformat": 4,
 "nbformat_minor": 5
}
