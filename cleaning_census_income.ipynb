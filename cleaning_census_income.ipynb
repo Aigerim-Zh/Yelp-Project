{
 "cells": [
  {
   "cell_type": "code",
   "execution_count": 1,
   "metadata": {},
   "outputs": [],
   "source": [
    "import pandas as pd\n",
    "import numpy as np"
   ]
  },
  {
   "cell_type": "code",
   "execution_count": 2,
   "metadata": {},
   "outputs": [],
   "source": [
    "df = pd.read_csv('CSV_files/econ_status_data.csv')"
   ]
  },
  {
   "cell_type": "code",
   "execution_count": 3,
   "metadata": {},
   "outputs": [
    {
     "data": {
      "text/html": [
       "<div>\n",
       "<style scoped>\n",
       "    .dataframe tbody tr th:only-of-type {\n",
       "        vertical-align: middle;\n",
       "    }\n",
       "\n",
       "    .dataframe tbody tr th {\n",
       "        vertical-align: top;\n",
       "    }\n",
       "\n",
       "    .dataframe thead th {\n",
       "        text-align: right;\n",
       "    }\n",
       "</style>\n",
       "<table border=\"1\" class=\"dataframe\">\n",
       "  <thead>\n",
       "    <tr style=\"text-align: right;\">\n",
       "      <th></th>\n",
       "      <th>Postal_Code</th>\n",
       "      <th>Total_Estimate_Households_per_Zip</th>\n",
       "      <th>Total_Estimate_Married-couple_Family_households</th>\n",
       "      <th>Total_Estimate_Nonfamily_households</th>\n",
       "      <th>Percentage_EH&lt;$10,000</th>\n",
       "      <th>Percentage_EH_$10,000-$14,999</th>\n",
       "      <th>Percentage_EH_$15,000-$24,999</th>\n",
       "      <th>Percentage_EH_$25,000-$34,999</th>\n",
       "      <th>Percentage_EH_$35,000-$49,999</th>\n",
       "      <th>Percentage_EH_$50,000-$74,999</th>\n",
       "      <th>Percentage_EH_$75,000-$99,999</th>\n",
       "      <th>Percentage_EH_$100,000-$149,999</th>\n",
       "      <th>Percentage_EH_$150,000-$199,999</th>\n",
       "      <th>Percentage_EH_$200,000&lt;</th>\n",
       "      <th>Median_Income(dollars)</th>\n",
       "      <th>Mean_Income(dollars)</th>\n",
       "    </tr>\n",
       "  </thead>\n",
       "  <tbody>\n",
       "    <tr>\n",
       "      <th>0</th>\n",
       "      <td>84531</td>\n",
       "      <td>187</td>\n",
       "      <td>58</td>\n",
       "      <td>42</td>\n",
       "      <td>14.4</td>\n",
       "      <td>17.1</td>\n",
       "      <td>16.6</td>\n",
       "      <td>18.7</td>\n",
       "      <td>11.8</td>\n",
       "      <td>12.8</td>\n",
       "      <td>0.0</td>\n",
       "      <td>8.6</td>\n",
       "      <td>0.0</td>\n",
       "      <td>0.0</td>\n",
       "      <td>25972</td>\n",
       "      <td>35020.0</td>\n",
       "    </tr>\n",
       "    <tr>\n",
       "      <th>1</th>\n",
       "      <td>84536</td>\n",
       "      <td>376</td>\n",
       "      <td>110</td>\n",
       "      <td>160</td>\n",
       "      <td>42.3</td>\n",
       "      <td>3.2</td>\n",
       "      <td>14.4</td>\n",
       "      <td>5.9</td>\n",
       "      <td>16.2</td>\n",
       "      <td>10.4</td>\n",
       "      <td>0.0</td>\n",
       "      <td>7.7</td>\n",
       "      <td>0.0</td>\n",
       "      <td>0.0</td>\n",
       "      <td>20385</td>\n",
       "      <td>28507.0</td>\n",
       "    </tr>\n",
       "    <tr>\n",
       "      <th>2</th>\n",
       "      <td>85003</td>\n",
       "      <td>4378</td>\n",
       "      <td>942</td>\n",
       "      <td>2928</td>\n",
       "      <td>12.2</td>\n",
       "      <td>4.9</td>\n",
       "      <td>11.0</td>\n",
       "      <td>8.1</td>\n",
       "      <td>14.3</td>\n",
       "      <td>11.9</td>\n",
       "      <td>9.5</td>\n",
       "      <td>10.7</td>\n",
       "      <td>7.5</td>\n",
       "      <td>9.9</td>\n",
       "      <td>48306</td>\n",
       "      <td>82992.0</td>\n",
       "    </tr>\n",
       "    <tr>\n",
       "      <th>3</th>\n",
       "      <td>85004</td>\n",
       "      <td>3584</td>\n",
       "      <td>611</td>\n",
       "      <td>2831</td>\n",
       "      <td>20.9</td>\n",
       "      <td>6.8</td>\n",
       "      <td>11.3</td>\n",
       "      <td>4.9</td>\n",
       "      <td>5.3</td>\n",
       "      <td>11.0</td>\n",
       "      <td>13.5</td>\n",
       "      <td>10.1</td>\n",
       "      <td>8.0</td>\n",
       "      <td>8.2</td>\n",
       "      <td>52000</td>\n",
       "      <td>81508.0</td>\n",
       "    </tr>\n",
       "    <tr>\n",
       "      <th>4</th>\n",
       "      <td>85006</td>\n",
       "      <td>9471</td>\n",
       "      <td>2635</td>\n",
       "      <td>4473</td>\n",
       "      <td>10.9</td>\n",
       "      <td>8.4</td>\n",
       "      <td>12.1</td>\n",
       "      <td>9.7</td>\n",
       "      <td>13.7</td>\n",
       "      <td>18.4</td>\n",
       "      <td>11.2</td>\n",
       "      <td>10.6</td>\n",
       "      <td>2.4</td>\n",
       "      <td>2.7</td>\n",
       "      <td>43567</td>\n",
       "      <td>56523.0</td>\n",
       "    </tr>\n",
       "  </tbody>\n",
       "</table>\n",
       "</div>"
      ],
      "text/plain": [
       "   Postal_Code  Total_Estimate_Households_per_Zip  \\\n",
       "0        84531                                187   \n",
       "1        84536                                376   \n",
       "2        85003                               4378   \n",
       "3        85004                               3584   \n",
       "4        85006                               9471   \n",
       "\n",
       "   Total_Estimate_Married-couple_Family_households  \\\n",
       "0                                               58   \n",
       "1                                              110   \n",
       "2                                              942   \n",
       "3                                              611   \n",
       "4                                             2635   \n",
       "\n",
       "   Total_Estimate_Nonfamily_households  Percentage_EH<$10,000  \\\n",
       "0                                   42                   14.4   \n",
       "1                                  160                   42.3   \n",
       "2                                 2928                   12.2   \n",
       "3                                 2831                   20.9   \n",
       "4                                 4473                   10.9   \n",
       "\n",
       "   Percentage_EH_$10,000-$14,999  Percentage_EH_$15,000-$24,999  \\\n",
       "0                           17.1                           16.6   \n",
       "1                            3.2                           14.4   \n",
       "2                            4.9                           11.0   \n",
       "3                            6.8                           11.3   \n",
       "4                            8.4                           12.1   \n",
       "\n",
       "   Percentage_EH_$25,000-$34,999  Percentage_EH_$35,000-$49,999  \\\n",
       "0                           18.7                           11.8   \n",
       "1                            5.9                           16.2   \n",
       "2                            8.1                           14.3   \n",
       "3                            4.9                            5.3   \n",
       "4                            9.7                           13.7   \n",
       "\n",
       "   Percentage_EH_$50,000-$74,999  Percentage_EH_$75,000-$99,999  \\\n",
       "0                           12.8                            0.0   \n",
       "1                           10.4                            0.0   \n",
       "2                           11.9                            9.5   \n",
       "3                           11.0                           13.5   \n",
       "4                           18.4                           11.2   \n",
       "\n",
       "   Percentage_EH_$100,000-$149,999  Percentage_EH_$150,000-$199,999  \\\n",
       "0                              8.6                              0.0   \n",
       "1                              7.7                              0.0   \n",
       "2                             10.7                              7.5   \n",
       "3                             10.1                              8.0   \n",
       "4                             10.6                              2.4   \n",
       "\n",
       "   Percentage_EH_$200,000< Median_Income(dollars)  Mean_Income(dollars)  \n",
       "0                      0.0                  25972               35020.0  \n",
       "1                      0.0                  20385               28507.0  \n",
       "2                      9.9                  48306               82992.0  \n",
       "3                      8.2                  52000               81508.0  \n",
       "4                      2.7                  43567               56523.0  "
      ]
     },
     "execution_count": 3,
     "metadata": {},
     "output_type": "execute_result"
    }
   ],
   "source": [
    "df.head()"
   ]
  },
  {
   "cell_type": "code",
   "execution_count": 4,
   "metadata": {},
   "outputs": [
    {
     "data": {
      "text/plain": [
       "Postal_Code                                          int64\n",
       "Total_Estimate_Households_per_Zip                    int64\n",
       "Total_Estimate_Married-couple_Family_households      int64\n",
       "Total_Estimate_Nonfamily_households                  int64\n",
       "Percentage_EH<$10,000                              float64\n",
       "Percentage_EH_$10,000-$14,999                      float64\n",
       "Percentage_EH_$15,000-$24,999                      float64\n",
       "Percentage_EH_$25,000-$34,999                      float64\n",
       "Percentage_EH_$35,000-$49,999                      float64\n",
       "Percentage_EH_$50,000-$74,999                      float64\n",
       "Percentage_EH_$75,000-$99,999                      float64\n",
       "Percentage_EH_$100,000-$149,999                    float64\n",
       "Percentage_EH_$150,000-$199,999                    float64\n",
       "Percentage_EH_$200,000<                            float64\n",
       "Median_Income(dollars)                              object\n",
       "Mean_Income(dollars)                               float64\n",
       "dtype: object"
      ]
     },
     "execution_count": 4,
     "metadata": {},
     "output_type": "execute_result"
    }
   ],
   "source": [
    "df.dtypes"
   ]
  },
  {
   "cell_type": "code",
   "execution_count": 5,
   "metadata": {},
   "outputs": [],
   "source": [
    "#Dropping duplicate Postal Codes\n",
    "df = df.drop_duplicates(subset=[\"Postal_Code\"], keep=\"first\")"
   ]
  },
  {
   "cell_type": "code",
   "execution_count": 6,
   "metadata": {},
   "outputs": [
    {
     "data": {
      "text/plain": [
       "Index(['Postal_Code', 'Total_Estimate_Households_per_Zip',\n",
       "       'Total_Estimate_Married-couple_Family_households',\n",
       "       'Total_Estimate_Nonfamily_households', 'Percentage_EH<$10,000',\n",
       "       'Percentage_EH_$10,000-$14,999', 'Percentage_EH_$15,000-$24,999',\n",
       "       'Percentage_EH_$25,000-$34,999', 'Percentage_EH_$35,000-$49,999',\n",
       "       'Percentage_EH_$50,000-$74,999', 'Percentage_EH_$75,000-$99,999',\n",
       "       'Percentage_EH_$100,000-$149,999', 'Percentage_EH_$150,000-$199,999',\n",
       "       'Percentage_EH_$200,000<', 'Median_Income(dollars)',\n",
       "       'Mean_Income(dollars)'],\n",
       "      dtype='object')"
      ]
     },
     "execution_count": 6,
     "metadata": {},
     "output_type": "execute_result"
    }
   ],
   "source": [
    "df.columns"
   ]
  },
  {
   "cell_type": "code",
   "execution_count": 7,
   "metadata": {},
   "outputs": [],
   "source": [
    "df.drop(['Percentage_EH<$10,000',\n",
    "       'Percentage_EH_$10,000-$14,999', 'Percentage_EH_$15,000-$24,999',\n",
    "       'Percentage_EH_$25,000-$34,999', 'Percentage_EH_$35,000-$49,999',\n",
    "       'Percentage_EH_$50,000-$74,999', 'Percentage_EH_$75,000-$99,999',\n",
    "       'Percentage_EH_$100,000-$149,999', 'Percentage_EH_$150,000-$199,999',\n",
    "       'Percentage_EH_$200,000<'], axis=1, inplace=True)"
   ]
  },
  {
   "cell_type": "code",
   "execution_count": 8,
   "metadata": {},
   "outputs": [
    {
     "data": {
      "text/html": [
       "<div>\n",
       "<style scoped>\n",
       "    .dataframe tbody tr th:only-of-type {\n",
       "        vertical-align: middle;\n",
       "    }\n",
       "\n",
       "    .dataframe tbody tr th {\n",
       "        vertical-align: top;\n",
       "    }\n",
       "\n",
       "    .dataframe thead th {\n",
       "        text-align: right;\n",
       "    }\n",
       "</style>\n",
       "<table border=\"1\" class=\"dataframe\">\n",
       "  <thead>\n",
       "    <tr style=\"text-align: right;\">\n",
       "      <th></th>\n",
       "      <th>Postal_Code</th>\n",
       "      <th>Total_Estimate_Households_per_Zip</th>\n",
       "      <th>Total_Estimate_Married-couple_Family_households</th>\n",
       "      <th>Total_Estimate_Nonfamily_households</th>\n",
       "      <th>Median_Income(dollars)</th>\n",
       "      <th>Mean_Income(dollars)</th>\n",
       "    </tr>\n",
       "  </thead>\n",
       "  <tbody>\n",
       "    <tr>\n",
       "      <th>0</th>\n",
       "      <td>84531</td>\n",
       "      <td>187</td>\n",
       "      <td>58</td>\n",
       "      <td>42</td>\n",
       "      <td>25972</td>\n",
       "      <td>35020.0</td>\n",
       "    </tr>\n",
       "    <tr>\n",
       "      <th>1</th>\n",
       "      <td>84536</td>\n",
       "      <td>376</td>\n",
       "      <td>110</td>\n",
       "      <td>160</td>\n",
       "      <td>20385</td>\n",
       "      <td>28507.0</td>\n",
       "    </tr>\n",
       "    <tr>\n",
       "      <th>2</th>\n",
       "      <td>85003</td>\n",
       "      <td>4378</td>\n",
       "      <td>942</td>\n",
       "      <td>2928</td>\n",
       "      <td>48306</td>\n",
       "      <td>82992.0</td>\n",
       "    </tr>\n",
       "    <tr>\n",
       "      <th>3</th>\n",
       "      <td>85004</td>\n",
       "      <td>3584</td>\n",
       "      <td>611</td>\n",
       "      <td>2831</td>\n",
       "      <td>52000</td>\n",
       "      <td>81508.0</td>\n",
       "    </tr>\n",
       "    <tr>\n",
       "      <th>4</th>\n",
       "      <td>85006</td>\n",
       "      <td>9471</td>\n",
       "      <td>2635</td>\n",
       "      <td>4473</td>\n",
       "      <td>43567</td>\n",
       "      <td>56523.0</td>\n",
       "    </tr>\n",
       "  </tbody>\n",
       "</table>\n",
       "</div>"
      ],
      "text/plain": [
       "   Postal_Code  Total_Estimate_Households_per_Zip  \\\n",
       "0        84531                                187   \n",
       "1        84536                                376   \n",
       "2        85003                               4378   \n",
       "3        85004                               3584   \n",
       "4        85006                               9471   \n",
       "\n",
       "   Total_Estimate_Married-couple_Family_households  \\\n",
       "0                                               58   \n",
       "1                                              110   \n",
       "2                                              942   \n",
       "3                                              611   \n",
       "4                                             2635   \n",
       "\n",
       "   Total_Estimate_Nonfamily_households Median_Income(dollars)  \\\n",
       "0                                   42                  25972   \n",
       "1                                  160                  20385   \n",
       "2                                 2928                  48306   \n",
       "3                                 2831                  52000   \n",
       "4                                 4473                  43567   \n",
       "\n",
       "   Mean_Income(dollars)  \n",
       "0               35020.0  \n",
       "1               28507.0  \n",
       "2               82992.0  \n",
       "3               81508.0  \n",
       "4               56523.0  "
      ]
     },
     "execution_count": 8,
     "metadata": {},
     "output_type": "execute_result"
    }
   ],
   "source": [
    "df.head()"
   ]
  },
  {
   "cell_type": "code",
   "execution_count": 9,
   "metadata": {},
   "outputs": [
    {
     "data": {
      "text/plain": [
       "Postal_Code                                          int64\n",
       "Total_Estimate_Households_per_Zip                    int64\n",
       "Total_Estimate_Married-couple_Family_households      int64\n",
       "Total_Estimate_Nonfamily_households                  int64\n",
       "Median_Income(dollars)                              object\n",
       "Mean_Income(dollars)                               float64\n",
       "dtype: object"
      ]
     },
     "execution_count": 9,
     "metadata": {},
     "output_type": "execute_result"
    }
   ],
   "source": [
    "df.dtypes"
   ]
  },
  {
   "cell_type": "code",
   "execution_count": 10,
   "metadata": {},
   "outputs": [
    {
     "data": {
      "text/plain": [
       "Postal_Code                                          0\n",
       "Total_Estimate_Households_per_Zip                    0\n",
       "Total_Estimate_Married-couple_Family_households      0\n",
       "Total_Estimate_Nonfamily_households                  0\n",
       "Median_Income(dollars)                             685\n",
       "Mean_Income(dollars)                               369\n",
       "dtype: int64"
      ]
     },
     "execution_count": 10,
     "metadata": {},
     "output_type": "execute_result"
    }
   ],
   "source": [
    "df.isnull().sum()"
   ]
  },
  {
   "cell_type": "code",
   "execution_count": 11,
   "metadata": {},
   "outputs": [],
   "source": [
    "df.fillna(0, inplace=True)"
   ]
  },
  {
   "cell_type": "code",
   "execution_count": 12,
   "metadata": {},
   "outputs": [
    {
     "data": {
      "text/html": [
       "<div>\n",
       "<style scoped>\n",
       "    .dataframe tbody tr th:only-of-type {\n",
       "        vertical-align: middle;\n",
       "    }\n",
       "\n",
       "    .dataframe tbody tr th {\n",
       "        vertical-align: top;\n",
       "    }\n",
       "\n",
       "    .dataframe thead th {\n",
       "        text-align: right;\n",
       "    }\n",
       "</style>\n",
       "<table border=\"1\" class=\"dataframe\">\n",
       "  <thead>\n",
       "    <tr style=\"text-align: right;\">\n",
       "      <th></th>\n",
       "      <th>Postal_Code</th>\n",
       "      <th>Total_Estimate_Households_per_Zip</th>\n",
       "      <th>Total_Estimate_Married-couple_Family_households</th>\n",
       "      <th>Total_Estimate_Nonfamily_households</th>\n",
       "      <th>Median_Income(dollars)</th>\n",
       "      <th>Mean_Income(dollars)</th>\n",
       "    </tr>\n",
       "  </thead>\n",
       "  <tbody>\n",
       "    <tr>\n",
       "      <th>0</th>\n",
       "      <td>84531</td>\n",
       "      <td>187</td>\n",
       "      <td>58</td>\n",
       "      <td>42</td>\n",
       "      <td>25972</td>\n",
       "      <td>35020.0</td>\n",
       "    </tr>\n",
       "    <tr>\n",
       "      <th>1</th>\n",
       "      <td>84536</td>\n",
       "      <td>376</td>\n",
       "      <td>110</td>\n",
       "      <td>160</td>\n",
       "      <td>20385</td>\n",
       "      <td>28507.0</td>\n",
       "    </tr>\n",
       "    <tr>\n",
       "      <th>2</th>\n",
       "      <td>85003</td>\n",
       "      <td>4378</td>\n",
       "      <td>942</td>\n",
       "      <td>2928</td>\n",
       "      <td>48306</td>\n",
       "      <td>82992.0</td>\n",
       "    </tr>\n",
       "    <tr>\n",
       "      <th>3</th>\n",
       "      <td>85004</td>\n",
       "      <td>3584</td>\n",
       "      <td>611</td>\n",
       "      <td>2831</td>\n",
       "      <td>52000</td>\n",
       "      <td>81508.0</td>\n",
       "    </tr>\n",
       "    <tr>\n",
       "      <th>4</th>\n",
       "      <td>85006</td>\n",
       "      <td>9471</td>\n",
       "      <td>2635</td>\n",
       "      <td>4473</td>\n",
       "      <td>43567</td>\n",
       "      <td>56523.0</td>\n",
       "    </tr>\n",
       "    <tr>\n",
       "      <th>...</th>\n",
       "      <td>...</td>\n",
       "      <td>...</td>\n",
       "      <td>...</td>\n",
       "      <td>...</td>\n",
       "      <td>...</td>\n",
       "      <td>...</td>\n",
       "    </tr>\n",
       "    <tr>\n",
       "      <th>9747</th>\n",
       "      <td>38588</td>\n",
       "      <td>342</td>\n",
       "      <td>125</td>\n",
       "      <td>172</td>\n",
       "      <td>44000</td>\n",
       "      <td>55602.0</td>\n",
       "    </tr>\n",
       "    <tr>\n",
       "      <th>9748</th>\n",
       "      <td>38589</td>\n",
       "      <td>110</td>\n",
       "      <td>67</td>\n",
       "      <td>29</td>\n",
       "      <td>47660</td>\n",
       "      <td>41642.0</td>\n",
       "    </tr>\n",
       "    <tr>\n",
       "      <th>9749</th>\n",
       "      <td>42223</td>\n",
       "      <td>4856</td>\n",
       "      <td>3858</td>\n",
       "      <td>355</td>\n",
       "      <td>45735</td>\n",
       "      <td>50972.0</td>\n",
       "    </tr>\n",
       "    <tr>\n",
       "      <th>9750</th>\n",
       "      <td>42602</td>\n",
       "      <td>4046</td>\n",
       "      <td>1768</td>\n",
       "      <td>1566</td>\n",
       "      <td>32835</td>\n",
       "      <td>51845.0</td>\n",
       "    </tr>\n",
       "    <tr>\n",
       "      <th>9751</th>\n",
       "      <td>72338</td>\n",
       "      <td>6</td>\n",
       "      <td>0</td>\n",
       "      <td>6</td>\n",
       "      <td>0</td>\n",
       "      <td>0.0</td>\n",
       "    </tr>\n",
       "  </tbody>\n",
       "</table>\n",
       "<p>9745 rows × 6 columns</p>\n",
       "</div>"
      ],
      "text/plain": [
       "      Postal_Code  Total_Estimate_Households_per_Zip  \\\n",
       "0           84531                                187   \n",
       "1           84536                                376   \n",
       "2           85003                               4378   \n",
       "3           85004                               3584   \n",
       "4           85006                               9471   \n",
       "...           ...                                ...   \n",
       "9747        38588                                342   \n",
       "9748        38589                                110   \n",
       "9749        42223                               4856   \n",
       "9750        42602                               4046   \n",
       "9751        72338                                  6   \n",
       "\n",
       "      Total_Estimate_Married-couple_Family_households  \\\n",
       "0                                                  58   \n",
       "1                                                 110   \n",
       "2                                                 942   \n",
       "3                                                 611   \n",
       "4                                                2635   \n",
       "...                                               ...   \n",
       "9747                                              125   \n",
       "9748                                               67   \n",
       "9749                                             3858   \n",
       "9750                                             1768   \n",
       "9751                                                0   \n",
       "\n",
       "      Total_Estimate_Nonfamily_households Median_Income(dollars)  \\\n",
       "0                                      42                  25972   \n",
       "1                                     160                  20385   \n",
       "2                                    2928                  48306   \n",
       "3                                    2831                  52000   \n",
       "4                                    4473                  43567   \n",
       "...                                   ...                    ...   \n",
       "9747                                  172                  44000   \n",
       "9748                                   29                  47660   \n",
       "9749                                  355                  45735   \n",
       "9750                                 1566                  32835   \n",
       "9751                                    6                      0   \n",
       "\n",
       "      Mean_Income(dollars)  \n",
       "0                  35020.0  \n",
       "1                  28507.0  \n",
       "2                  82992.0  \n",
       "3                  81508.0  \n",
       "4                  56523.0  \n",
       "...                    ...  \n",
       "9747               55602.0  \n",
       "9748               41642.0  \n",
       "9749               50972.0  \n",
       "9750               51845.0  \n",
       "9751                   0.0  \n",
       "\n",
       "[9745 rows x 6 columns]"
      ]
     },
     "execution_count": 12,
     "metadata": {},
     "output_type": "execute_result"
    }
   ],
   "source": [
    "df.dropna(subset=['Median_Income(dollars)', 'Mean_Income(dollars)'])"
   ]
  },
  {
   "cell_type": "code",
   "execution_count": 13,
   "metadata": {},
   "outputs": [
    {
     "data": {
      "text/plain": [
       "Postal_Code                                        9745\n",
       "Total_Estimate_Households_per_Zip                  9745\n",
       "Total_Estimate_Married-couple_Family_households    9745\n",
       "Total_Estimate_Nonfamily_households                9745\n",
       "Median_Income(dollars)                             9745\n",
       "Mean_Income(dollars)                               9745\n",
       "dtype: int64"
      ]
     },
     "execution_count": 13,
     "metadata": {},
     "output_type": "execute_result"
    }
   ],
   "source": [
    "df.count()"
   ]
  },
  {
   "cell_type": "code",
   "execution_count": 14,
   "metadata": {},
   "outputs": [
    {
     "data": {
      "text/plain": [
       "Postal_Code                                        0\n",
       "Total_Estimate_Households_per_Zip                  0\n",
       "Total_Estimate_Married-couple_Family_households    0\n",
       "Total_Estimate_Nonfamily_households                0\n",
       "Median_Income(dollars)                             0\n",
       "Mean_Income(dollars)                               0\n",
       "dtype: int64"
      ]
     },
     "execution_count": 14,
     "metadata": {},
     "output_type": "execute_result"
    }
   ],
   "source": [
    "df.isnull().sum()"
   ]
  },
  {
   "cell_type": "code",
   "execution_count": 15,
   "metadata": {},
   "outputs": [
    {
     "data": {
      "text/plain": [
       "Postal_Code                                          int64\n",
       "Total_Estimate_Households_per_Zip                    int64\n",
       "Total_Estimate_Married-couple_Family_households      int64\n",
       "Total_Estimate_Nonfamily_households                  int64\n",
       "Median_Income(dollars)                              object\n",
       "Mean_Income(dollars)                               float64\n",
       "dtype: object"
      ]
     },
     "execution_count": 15,
     "metadata": {},
     "output_type": "execute_result"
    }
   ],
   "source": [
    "df.dtypes"
   ]
  },
  {
   "cell_type": "code",
   "execution_count": 16,
   "metadata": {},
   "outputs": [],
   "source": [
    "df['Median_Income(dollars)'] = df['Median_Income(dollars)'].fillna(0) \n",
    "df.drop(df.loc[df['Median_Income(dollars)']==0].index, inplace=True)"
   ]
  },
  {
   "cell_type": "code",
   "execution_count": 17,
   "metadata": {},
   "outputs": [],
   "source": [
    "df = df.dropna(subset=['Median_Income(dollars)'])"
   ]
  },
  {
   "cell_type": "code",
   "execution_count": 18,
   "metadata": {},
   "outputs": [],
   "source": [
    "df['Mean_Income(dollars)'] = df['Mean_Income(dollars)'].astype('int64') "
   ]
  },
  {
   "cell_type": "code",
   "execution_count": 19,
   "metadata": {},
   "outputs": [],
   "source": [
    "df['Median_Income(dollars)'] = pd.to_numeric(df['Median_Income(dollars)'], errors='coerce')"
   ]
  },
  {
   "cell_type": "code",
   "execution_count": 20,
   "metadata": {},
   "outputs": [],
   "source": [
    "df['Median_Income(dollars)'] = df['Median_Income(dollars)'].fillna(0) \n",
    "df.drop(df.loc[df['Median_Income(dollars)']==0].index, inplace=True)"
   ]
  },
  {
   "cell_type": "code",
   "execution_count": 21,
   "metadata": {},
   "outputs": [],
   "source": [
    "df['Median_Income(dollars)'] = df['Median_Income(dollars)'].astype('int64') "
   ]
  },
  {
   "cell_type": "code",
   "execution_count": 22,
   "metadata": {},
   "outputs": [
    {
     "data": {
      "text/plain": [
       "Postal_Code                                        int64\n",
       "Total_Estimate_Households_per_Zip                  int64\n",
       "Total_Estimate_Married-couple_Family_households    int64\n",
       "Total_Estimate_Nonfamily_households                int64\n",
       "Median_Income(dollars)                             int64\n",
       "Mean_Income(dollars)                               int64\n",
       "dtype: object"
      ]
     },
     "execution_count": 22,
     "metadata": {},
     "output_type": "execute_result"
    }
   ],
   "source": [
    "df.dtypes"
   ]
  },
  {
   "cell_type": "code",
   "execution_count": 23,
   "metadata": {},
   "outputs": [
    {
     "data": {
      "text/html": [
       "<div>\n",
       "<style scoped>\n",
       "    .dataframe tbody tr th:only-of-type {\n",
       "        vertical-align: middle;\n",
       "    }\n",
       "\n",
       "    .dataframe tbody tr th {\n",
       "        vertical-align: top;\n",
       "    }\n",
       "\n",
       "    .dataframe thead th {\n",
       "        text-align: right;\n",
       "    }\n",
       "</style>\n",
       "<table border=\"1\" class=\"dataframe\">\n",
       "  <thead>\n",
       "    <tr style=\"text-align: right;\">\n",
       "      <th></th>\n",
       "      <th>Postal_Code</th>\n",
       "      <th>Total_Estimate_Households_per_Zip</th>\n",
       "      <th>Total_Estimate_Married-couple_Family_households</th>\n",
       "      <th>Total_Estimate_Nonfamily_households</th>\n",
       "      <th>Median_Income(dollars)</th>\n",
       "      <th>Mean_Income(dollars)</th>\n",
       "    </tr>\n",
       "  </thead>\n",
       "  <tbody>\n",
       "    <tr>\n",
       "      <th>0</th>\n",
       "      <td>84531</td>\n",
       "      <td>187</td>\n",
       "      <td>58</td>\n",
       "      <td>42</td>\n",
       "      <td>25972</td>\n",
       "      <td>35020</td>\n",
       "    </tr>\n",
       "    <tr>\n",
       "      <th>1</th>\n",
       "      <td>84536</td>\n",
       "      <td>376</td>\n",
       "      <td>110</td>\n",
       "      <td>160</td>\n",
       "      <td>20385</td>\n",
       "      <td>28507</td>\n",
       "    </tr>\n",
       "    <tr>\n",
       "      <th>2</th>\n",
       "      <td>85003</td>\n",
       "      <td>4378</td>\n",
       "      <td>942</td>\n",
       "      <td>2928</td>\n",
       "      <td>48306</td>\n",
       "      <td>82992</td>\n",
       "    </tr>\n",
       "    <tr>\n",
       "      <th>3</th>\n",
       "      <td>85004</td>\n",
       "      <td>3584</td>\n",
       "      <td>611</td>\n",
       "      <td>2831</td>\n",
       "      <td>52000</td>\n",
       "      <td>81508</td>\n",
       "    </tr>\n",
       "    <tr>\n",
       "      <th>4</th>\n",
       "      <td>85006</td>\n",
       "      <td>9471</td>\n",
       "      <td>2635</td>\n",
       "      <td>4473</td>\n",
       "      <td>43567</td>\n",
       "      <td>56523</td>\n",
       "    </tr>\n",
       "  </tbody>\n",
       "</table>\n",
       "</div>"
      ],
      "text/plain": [
       "   Postal_Code  Total_Estimate_Households_per_Zip  \\\n",
       "0        84531                                187   \n",
       "1        84536                                376   \n",
       "2        85003                               4378   \n",
       "3        85004                               3584   \n",
       "4        85006                               9471   \n",
       "\n",
       "   Total_Estimate_Married-couple_Family_households  \\\n",
       "0                                               58   \n",
       "1                                              110   \n",
       "2                                              942   \n",
       "3                                              611   \n",
       "4                                             2635   \n",
       "\n",
       "   Total_Estimate_Nonfamily_households  Median_Income(dollars)  \\\n",
       "0                                   42                   25972   \n",
       "1                                  160                   20385   \n",
       "2                                 2928                   48306   \n",
       "3                                 2831                   52000   \n",
       "4                                 4473                   43567   \n",
       "\n",
       "   Mean_Income(dollars)  \n",
       "0                 35020  \n",
       "1                 28507  \n",
       "2                 82992  \n",
       "3                 81508  \n",
       "4                 56523  "
      ]
     },
     "execution_count": 23,
     "metadata": {},
     "output_type": "execute_result"
    }
   ],
   "source": [
    "df.head()"
   ]
  },
  {
   "cell_type": "code",
   "execution_count": 24,
   "metadata": {},
   "outputs": [
    {
     "data": {
      "text/plain": [
       "Postal_Code                                        9045\n",
       "Total_Estimate_Households_per_Zip                  9045\n",
       "Total_Estimate_Married-couple_Family_households    9045\n",
       "Total_Estimate_Nonfamily_households                9045\n",
       "Median_Income(dollars)                             9045\n",
       "Mean_Income(dollars)                               9045\n",
       "dtype: int64"
      ]
     },
     "execution_count": 24,
     "metadata": {},
     "output_type": "execute_result"
    }
   ],
   "source": [
    "df.count()"
   ]
  },
  {
   "cell_type": "code",
   "execution_count": 25,
   "metadata": {},
   "outputs": [],
   "source": [
    "df.to_csv('CSV_files/Census_income.csv',index=False)"
   ]
  }
 ],
 "metadata": {
  "interpreter": {
   "hash": "6f26db29cb762a671a43a9b879bfec1e6b395040f532d27d622a493dd4c4ac1f"
  },
  "kernelspec": {
   "display_name": "Python 3.8.13 ('MLProj')",
   "language": "python",
   "name": "python3"
  },
  "language_info": {
   "codemirror_mode": {
    "name": "ipython",
    "version": 3
   },
   "file_extension": ".py",
   "mimetype": "text/x-python",
   "name": "python",
   "nbconvert_exporter": "python",
   "pygments_lexer": "ipython3",
   "version": "3.8.13"
  },
  "orig_nbformat": 4
 },
 "nbformat": 4,
 "nbformat_minor": 2
}
